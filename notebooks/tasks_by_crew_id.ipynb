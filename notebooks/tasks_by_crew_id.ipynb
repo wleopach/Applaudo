{
 "cells": [
  {
   "cell_type": "code",
   "id": "initial_id",
   "metadata": {
    "collapsed": true,
    "ExecuteTime": {
     "end_time": "2025-09-18T16:04:15.159106Z",
     "start_time": "2025-09-18T16:04:14.242084Z"
    }
   },
   "source": [
    "import duckdb\n",
    "\n",
    "con=duckdb.execute(\"\"\"IMPORT DATABASE '../data/db';\"\"\")\n",
    "df = con.execute(\"\"\" SELECT\n",
    "      c.crew_id,\n",
    "      ARRAY_AGG(\n",
    "          STRUCT_PACK(\n",
    "              ship := s.ship_id,\n",
    "              start_ts := c.start_ts_utc,\n",
    "              end_ts := c.end_ts_utc,\n",
    "              role := c.role\n",
    "          )\n",
    "          ORDER BY c.start_ts_utc\n",
    "      ) AS shifts\n",
    "  FROM crew_shifts_hist c\n",
    "  JOIN sailings s ON c.sailing_id = s.sailing_id\n",
    "  GROUP BY c.crew_id\n",
    "  ORDER BY c.crew_id;\"\"\").df()\n",
    "con.close()\n",
    "df"
   ],
   "outputs": [
    {
     "data": {
      "text/plain": [
       "   crew_id                                             shifts\n",
       "0     C001  [{'ship': 'S1', 'start_ts': 2025-05-04 18:00:0...\n",
       "1     C002  [{'ship': 'S1', 'start_ts': 2025-05-02 02:00:0...\n",
       "2     C003  [{'ship': 'S1', 'start_ts': 2025-05-04 18:00:0...\n",
       "3     C005  [{'ship': 'S2', 'start_ts': 2025-05-02 09:00:0...\n",
       "4     C006  [{'ship': 'S2', 'start_ts': 2025-05-02 10:00:0...\n",
       "..     ...                                                ...\n",
       "76    C101  [{'ship': 'S2', 'start_ts': 2025-05-01 18:00:0...\n",
       "77    C103  [{'ship': 'S2', 'start_ts': 2025-05-05 02:00:0...\n",
       "78    C105  [{'ship': 'S1', 'start_ts': 2025-05-06 18:00:0...\n",
       "79    C107  [{'ship': 'S2', 'start_ts': 2025-05-07 10:00:0...\n",
       "80    C108  [{'ship': 'S2', 'start_ts': 2025-05-03 10:00:0...\n",
       "\n",
       "[81 rows x 2 columns]"
      ],
      "text/html": [
       "<div>\n",
       "<style scoped>\n",
       "    .dataframe tbody tr th:only-of-type {\n",
       "        vertical-align: middle;\n",
       "    }\n",
       "\n",
       "    .dataframe tbody tr th {\n",
       "        vertical-align: top;\n",
       "    }\n",
       "\n",
       "    .dataframe thead th {\n",
       "        text-align: right;\n",
       "    }\n",
       "</style>\n",
       "<table border=\"1\" class=\"dataframe\">\n",
       "  <thead>\n",
       "    <tr style=\"text-align: right;\">\n",
       "      <th></th>\n",
       "      <th>crew_id</th>\n",
       "      <th>shifts</th>\n",
       "    </tr>\n",
       "  </thead>\n",
       "  <tbody>\n",
       "    <tr>\n",
       "      <th>0</th>\n",
       "      <td>C001</td>\n",
       "      <td>[{'ship': 'S1', 'start_ts': 2025-05-04 18:00:0...</td>\n",
       "    </tr>\n",
       "    <tr>\n",
       "      <th>1</th>\n",
       "      <td>C002</td>\n",
       "      <td>[{'ship': 'S1', 'start_ts': 2025-05-02 02:00:0...</td>\n",
       "    </tr>\n",
       "    <tr>\n",
       "      <th>2</th>\n",
       "      <td>C003</td>\n",
       "      <td>[{'ship': 'S1', 'start_ts': 2025-05-04 18:00:0...</td>\n",
       "    </tr>\n",
       "    <tr>\n",
       "      <th>3</th>\n",
       "      <td>C005</td>\n",
       "      <td>[{'ship': 'S2', 'start_ts': 2025-05-02 09:00:0...</td>\n",
       "    </tr>\n",
       "    <tr>\n",
       "      <th>4</th>\n",
       "      <td>C006</td>\n",
       "      <td>[{'ship': 'S2', 'start_ts': 2025-05-02 10:00:0...</td>\n",
       "    </tr>\n",
       "    <tr>\n",
       "      <th>...</th>\n",
       "      <td>...</td>\n",
       "      <td>...</td>\n",
       "    </tr>\n",
       "    <tr>\n",
       "      <th>76</th>\n",
       "      <td>C101</td>\n",
       "      <td>[{'ship': 'S2', 'start_ts': 2025-05-01 18:00:0...</td>\n",
       "    </tr>\n",
       "    <tr>\n",
       "      <th>77</th>\n",
       "      <td>C103</td>\n",
       "      <td>[{'ship': 'S2', 'start_ts': 2025-05-05 02:00:0...</td>\n",
       "    </tr>\n",
       "    <tr>\n",
       "      <th>78</th>\n",
       "      <td>C105</td>\n",
       "      <td>[{'ship': 'S1', 'start_ts': 2025-05-06 18:00:0...</td>\n",
       "    </tr>\n",
       "    <tr>\n",
       "      <th>79</th>\n",
       "      <td>C107</td>\n",
       "      <td>[{'ship': 'S2', 'start_ts': 2025-05-07 10:00:0...</td>\n",
       "    </tr>\n",
       "    <tr>\n",
       "      <th>80</th>\n",
       "      <td>C108</td>\n",
       "      <td>[{'ship': 'S2', 'start_ts': 2025-05-03 10:00:0...</td>\n",
       "    </tr>\n",
       "  </tbody>\n",
       "</table>\n",
       "<p>81 rows × 2 columns</p>\n",
       "</div>"
      ]
     },
     "execution_count": 1,
     "metadata": {},
     "output_type": "execute_result"
    }
   ],
   "execution_count": 1
  },
  {
   "metadata": {
    "ExecuteTime": {
     "end_time": "2025-09-18T16:04:19.785660Z",
     "start_time": "2025-09-18T16:04:17.853271Z"
    }
   },
   "cell_type": "code",
   "source": [
    "import plotly.graph_objects as go\n",
    "import pandas as pd\n",
    "import plotly.graph_objects as go\n",
    "import pandas as pd\n",
    "\n",
    "def plot_crew_schedule(df, crew_id, plot=False):\n",
    "    \"\"\"\n",
    "    Plots a timeline of shifts for a single crew member using Plotly.\n",
    "\n",
    "    Parameters\n",
    "    ----------\n",
    "    df : pandas.DataFrame\n",
    "        Must have columns ['crew_id', 'shifts'] where 'shifts' is a collection of\n",
    "        tuples (ship_id, start_ts, end_ts, role)\n",
    "    crew_id : str\n",
    "        Crew member ID to filter on\n",
    "    \"\"\"\n",
    "    # Filter by crew member\n",
    "    dff = df[df['crew_id'] == crew_id].copy()\n",
    "    if dff.empty:\n",
    "        print(f\"No data found for crew_id: {crew_id}\")\n",
    "        return\n",
    "\n",
    "    # Extract and deduplicate shifts\n",
    "    shifts = {(d[\"ship\"], d[\"start_ts\"], d['end_ts'], d[\"role\"]) for d in dff[\"shifts\"].explode()}\n",
    "    if not shifts:\n",
    "        print(f\"No shifts found for crew_id: {crew_id}\")\n",
    "        return\n",
    "\n",
    "    # Ensure all shifts have the same role\n",
    "    roles = {x[3] for x in shifts}\n",
    "    assert len(roles) == 1, f\"Multiple roles found for {crew_id}: {roles}\"\n",
    "\n",
    "    ordered_shifts = sorted(shifts, key=lambda x: x[1])\n",
    "    ships = sorted({s[0] for s in ordered_shifts})\n",
    "\n",
    "    # Map ships to numeric y positions for plotting\n",
    "    ship_to_y = {ship: i for i, ship in enumerate(ships)}\n",
    "\n",
    "    fig = go.Figure()\n",
    "\n",
    "    for ship, start, end, role in ordered_shifts:\n",
    "        shift_length = end - start\n",
    "        hours = round(shift_length.total_seconds() / 3600, 1)\n",
    "        legend_label = f\"{ship} ({hours}h)\"\n",
    "\n",
    "        fig.add_trace(go.Scatter(\n",
    "            x=[start, end],\n",
    "            y=[ship_to_y[ship]] * 2,\n",
    "            mode='lines',\n",
    "            line=dict(width=10),\n",
    "            name=legend_label,\n",
    "            hovertemplate=(\n",
    "                f\"Ship: {ship}<br>\"\n",
    "                f\"Role: {role}<br>\"\n",
    "                f\"Shift length: {hours} hours<br>\"\n",
    "                \"%{x|%Y-%m-%d %H:%M}\"\n",
    "            )\n",
    "        ))\n",
    "\n",
    "    fig.update_layout(\n",
    "        title=f\"Crew Schedule for {crew_id} (Role: {list(roles)[0]})\",\n",
    "        xaxis=dict(title=\"Time\"),\n",
    "        yaxis=dict(\n",
    "            title=\"Ship\",\n",
    "            tickmode=\"array\",\n",
    "            tickvals=list(ship_to_y.values()),\n",
    "            ticktext=list(ship_to_y.keys())\n",
    "        ),\n",
    "        showlegend=True,\n",
    "        height=300 + 50 * len(ships)\n",
    "    )\n",
    "    if plot:\n",
    "        fig.show()\n",
    "    return ordered_shifts\n",
    "\n",
    "ordered_shifts_dict = {\n",
    "    code: plot_crew_schedule(df, code) for code in set(df[\"crew_id\"])\n",
    "}\n"
   ],
   "id": "7e247dae78a68d4a",
   "outputs": [],
   "execution_count": 2
  },
  {
   "metadata": {
    "ExecuteTime": {
     "end_time": "2025-09-18T16:13:16.966129Z",
     "start_time": "2025-09-18T16:13:16.639066Z"
    }
   },
   "cell_type": "code",
   "source": [
    "from datetime import datetime\n",
    "\n",
    "\n",
    "def _hours_between(a, b):\n",
    "    try:\n",
    "        t1 = pd.to_datetime(a)\n",
    "        t2 = pd.to_datetime(b)\n",
    "        return (t2 - t1).total_seconds() / 3600\n",
    "    except Exception:\n",
    "        return None\n",
    "\n",
    "\n",
    "rests = {\n",
    "    key: [\n",
    "        h\n",
    "        for i in range(len(values) - 1)\n",
    "        if (h := _hours_between(values[i][2],values[i + 1][1])) is not None\n",
    "    ]\n",
    "    for key, values in ordered_shifts_dict.items()\n",
    "}\n"
   ],
   "id": "9d343fac84c8d9e8",
   "outputs": [],
   "execution_count": 8
  },
  {
   "metadata": {
    "ExecuteTime": {
     "end_time": "2025-09-18T16:13:18.073768Z",
     "start_time": "2025-09-18T16:13:18.065068Z"
    }
   },
   "cell_type": "code",
   "source": "ordered_shifts_dict[\"C001\"]",
   "id": "87530e7d88049d95",
   "outputs": [
    {
     "data": {
      "text/plain": [
       "[('S1',\n",
       "  datetime.datetime(2025, 5, 4, 18, 0, tzinfo=<DstTzInfo 'America/Bogota' -05-1 day, 19:00:00 STD>),\n",
       "  datetime.datetime(2025, 5, 5, 2, 0, tzinfo=<DstTzInfo 'America/Bogota' -05-1 day, 19:00:00 STD>),\n",
       "  'security'),\n",
       " ('S1',\n",
       "  datetime.datetime(2025, 5, 8, 10, 0, tzinfo=<DstTzInfo 'America/Bogota' -05-1 day, 19:00:00 STD>),\n",
       "  datetime.datetime(2025, 5, 8, 18, 0, tzinfo=<DstTzInfo 'America/Bogota' -05-1 day, 19:00:00 STD>),\n",
       "  'security'),\n",
       " ('S3',\n",
       "  datetime.datetime(2025, 5, 9, 2, 0, tzinfo=<DstTzInfo 'America/Bogota' -05-1 day, 19:00:00 STD>),\n",
       "  datetime.datetime(2025, 5, 9, 10, 0, tzinfo=<DstTzInfo 'America/Bogota' -05-1 day, 19:00:00 STD>),\n",
       "  'security'),\n",
       " ('S1',\n",
       "  datetime.datetime(2025, 5, 12, 10, 0, tzinfo=<DstTzInfo 'America/Bogota' -05-1 day, 19:00:00 STD>),\n",
       "  datetime.datetime(2025, 5, 12, 18, 0, tzinfo=<DstTzInfo 'America/Bogota' -05-1 day, 19:00:00 STD>),\n",
       "  'security'),\n",
       " ('S1',\n",
       "  datetime.datetime(2025, 5, 14, 10, 0, tzinfo=<DstTzInfo 'America/Bogota' -05-1 day, 19:00:00 STD>),\n",
       "  datetime.datetime(2025, 5, 14, 18, 0, tzinfo=<DstTzInfo 'America/Bogota' -05-1 day, 19:00:00 STD>),\n",
       "  'security'),\n",
       " ('S3',\n",
       "  datetime.datetime(2025, 5, 17, 10, 0, tzinfo=<DstTzInfo 'America/Bogota' -05-1 day, 19:00:00 STD>),\n",
       "  datetime.datetime(2025, 5, 17, 18, 0, tzinfo=<DstTzInfo 'America/Bogota' -05-1 day, 19:00:00 STD>),\n",
       "  'security'),\n",
       " ('S1',\n",
       "  datetime.datetime(2025, 5, 19, 18, 0, tzinfo=<DstTzInfo 'America/Bogota' -05-1 day, 19:00:00 STD>),\n",
       "  datetime.datetime(2025, 5, 20, 2, 0, tzinfo=<DstTzInfo 'America/Bogota' -05-1 day, 19:00:00 STD>),\n",
       "  'security'),\n",
       " ('S3',\n",
       "  datetime.datetime(2025, 5, 23, 18, 0, tzinfo=<DstTzInfo 'America/Bogota' -05-1 day, 19:00:00 STD>),\n",
       "  datetime.datetime(2025, 5, 24, 2, 0, tzinfo=<DstTzInfo 'America/Bogota' -05-1 day, 19:00:00 STD>),\n",
       "  'security'),\n",
       " ('S3',\n",
       "  datetime.datetime(2025, 5, 24, 10, 0, tzinfo=<DstTzInfo 'America/Bogota' -05-1 day, 19:00:00 STD>),\n",
       "  datetime.datetime(2025, 5, 24, 18, 0, tzinfo=<DstTzInfo 'America/Bogota' -05-1 day, 19:00:00 STD>),\n",
       "  'security'),\n",
       " ('S1',\n",
       "  datetime.datetime(2025, 5, 24, 18, 0, tzinfo=<DstTzInfo 'America/Bogota' -05-1 day, 19:00:00 STD>),\n",
       "  datetime.datetime(2025, 5, 25, 2, 0, tzinfo=<DstTzInfo 'America/Bogota' -05-1 day, 19:00:00 STD>),\n",
       "  'security'),\n",
       " ('S3',\n",
       "  datetime.datetime(2025, 5, 26, 10, 0, tzinfo=<DstTzInfo 'America/Bogota' -05-1 day, 19:00:00 STD>),\n",
       "  datetime.datetime(2025, 5, 26, 18, 0, tzinfo=<DstTzInfo 'America/Bogota' -05-1 day, 19:00:00 STD>),\n",
       "  'security'),\n",
       " ('S2',\n",
       "  datetime.datetime(2025, 5, 27, 2, 0, tzinfo=<DstTzInfo 'America/Bogota' -05-1 day, 19:00:00 STD>),\n",
       "  datetime.datetime(2025, 5, 27, 10, 0, tzinfo=<DstTzInfo 'America/Bogota' -05-1 day, 19:00:00 STD>),\n",
       "  'security'),\n",
       " ('S2',\n",
       "  datetime.datetime(2025, 5, 28, 18, 0, tzinfo=<DstTzInfo 'America/Bogota' -05-1 day, 19:00:00 STD>),\n",
       "  datetime.datetime(2025, 5, 29, 2, 0, tzinfo=<DstTzInfo 'America/Bogota' -05-1 day, 19:00:00 STD>),\n",
       "  'security'),\n",
       " ('S2',\n",
       "  datetime.datetime(2025, 5, 29, 18, 0, tzinfo=<DstTzInfo 'America/Bogota' -05-1 day, 19:00:00 STD>),\n",
       "  datetime.datetime(2025, 5, 30, 2, 0, tzinfo=<DstTzInfo 'America/Bogota' -05-1 day, 19:00:00 STD>),\n",
       "  'security'),\n",
       " ('S3',\n",
       "  datetime.datetime(2025, 6, 8, 2, 0, tzinfo=<DstTzInfo 'America/Bogota' -05-1 day, 19:00:00 STD>),\n",
       "  datetime.datetime(2025, 6, 8, 10, 0, tzinfo=<DstTzInfo 'America/Bogota' -05-1 day, 19:00:00 STD>),\n",
       "  'security'),\n",
       " ('S1',\n",
       "  datetime.datetime(2025, 6, 9, 2, 0, tzinfo=<DstTzInfo 'America/Bogota' -05-1 day, 19:00:00 STD>),\n",
       "  datetime.datetime(2025, 6, 9, 10, 0, tzinfo=<DstTzInfo 'America/Bogota' -05-1 day, 19:00:00 STD>),\n",
       "  'security'),\n",
       " ('S2',\n",
       "  datetime.datetime(2025, 6, 11, 2, 0, tzinfo=<DstTzInfo 'America/Bogota' -05-1 day, 19:00:00 STD>),\n",
       "  datetime.datetime(2025, 6, 11, 10, 0, tzinfo=<DstTzInfo 'America/Bogota' -05-1 day, 19:00:00 STD>),\n",
       "  'security'),\n",
       " ('S3',\n",
       "  datetime.datetime(2025, 6, 11, 10, 0, tzinfo=<DstTzInfo 'America/Bogota' -05-1 day, 19:00:00 STD>),\n",
       "  datetime.datetime(2025, 6, 11, 18, 0, tzinfo=<DstTzInfo 'America/Bogota' -05-1 day, 19:00:00 STD>),\n",
       "  'security'),\n",
       " ('S2',\n",
       "  datetime.datetime(2025, 6, 12, 18, 0, tzinfo=<DstTzInfo 'America/Bogota' -05-1 day, 19:00:00 STD>),\n",
       "  datetime.datetime(2025, 6, 13, 2, 0, tzinfo=<DstTzInfo 'America/Bogota' -05-1 day, 19:00:00 STD>),\n",
       "  'security'),\n",
       " ('S1',\n",
       "  datetime.datetime(2025, 6, 17, 18, 0, tzinfo=<DstTzInfo 'America/Bogota' -05-1 day, 19:00:00 STD>),\n",
       "  datetime.datetime(2025, 6, 18, 2, 0, tzinfo=<DstTzInfo 'America/Bogota' -05-1 day, 19:00:00 STD>),\n",
       "  'security'),\n",
       " ('S3',\n",
       "  datetime.datetime(2025, 6, 19, 10, 0, tzinfo=<DstTzInfo 'America/Bogota' -05-1 day, 19:00:00 STD>),\n",
       "  datetime.datetime(2025, 6, 19, 18, 0, tzinfo=<DstTzInfo 'America/Bogota' -05-1 day, 19:00:00 STD>),\n",
       "  'security'),\n",
       " ('S1',\n",
       "  datetime.datetime(2025, 6, 19, 18, 0, tzinfo=<DstTzInfo 'America/Bogota' -05-1 day, 19:00:00 STD>),\n",
       "  datetime.datetime(2025, 6, 20, 2, 0, tzinfo=<DstTzInfo 'America/Bogota' -05-1 day, 19:00:00 STD>),\n",
       "  'security'),\n",
       " ('S2',\n",
       "  datetime.datetime(2025, 6, 21, 2, 0, tzinfo=<DstTzInfo 'America/Bogota' -05-1 day, 19:00:00 STD>),\n",
       "  datetime.datetime(2025, 6, 21, 10, 0, tzinfo=<DstTzInfo 'America/Bogota' -05-1 day, 19:00:00 STD>),\n",
       "  'security'),\n",
       " ('S1',\n",
       "  datetime.datetime(2025, 6, 21, 18, 0, tzinfo=<DstTzInfo 'America/Bogota' -05-1 day, 19:00:00 STD>),\n",
       "  datetime.datetime(2025, 6, 22, 2, 0, tzinfo=<DstTzInfo 'America/Bogota' -05-1 day, 19:00:00 STD>),\n",
       "  'security'),\n",
       " ('S3',\n",
       "  datetime.datetime(2025, 6, 23, 10, 0, tzinfo=<DstTzInfo 'America/Bogota' -05-1 day, 19:00:00 STD>),\n",
       "  datetime.datetime(2025, 6, 23, 18, 0, tzinfo=<DstTzInfo 'America/Bogota' -05-1 day, 19:00:00 STD>),\n",
       "  'security'),\n",
       " ('S1',\n",
       "  datetime.datetime(2025, 6, 27, 2, 0, tzinfo=<DstTzInfo 'America/Bogota' -05-1 day, 19:00:00 STD>),\n",
       "  datetime.datetime(2025, 6, 27, 10, 0, tzinfo=<DstTzInfo 'America/Bogota' -05-1 day, 19:00:00 STD>),\n",
       "  'security'),\n",
       " ('S2',\n",
       "  datetime.datetime(2025, 6, 28, 2, 0, tzinfo=<DstTzInfo 'America/Bogota' -05-1 day, 19:00:00 STD>),\n",
       "  datetime.datetime(2025, 6, 28, 10, 0, tzinfo=<DstTzInfo 'America/Bogota' -05-1 day, 19:00:00 STD>),\n",
       "  'security'),\n",
       " ('S1',\n",
       "  datetime.datetime(2025, 7, 2, 2, 0, tzinfo=<DstTzInfo 'America/Bogota' -05-1 day, 19:00:00 STD>),\n",
       "  datetime.datetime(2025, 7, 2, 10, 0, tzinfo=<DstTzInfo 'America/Bogota' -05-1 day, 19:00:00 STD>),\n",
       "  'security'),\n",
       " ('S1',\n",
       "  datetime.datetime(2025, 7, 3, 18, 0, tzinfo=<DstTzInfo 'America/Bogota' -05-1 day, 19:00:00 STD>),\n",
       "  datetime.datetime(2025, 7, 4, 2, 0, tzinfo=<DstTzInfo 'America/Bogota' -05-1 day, 19:00:00 STD>),\n",
       "  'security'),\n",
       " ('S3',\n",
       "  datetime.datetime(2025, 7, 4, 2, 0, tzinfo=<DstTzInfo 'America/Bogota' -05-1 day, 19:00:00 STD>),\n",
       "  datetime.datetime(2025, 7, 4, 10, 0, tzinfo=<DstTzInfo 'America/Bogota' -05-1 day, 19:00:00 STD>),\n",
       "  'security'),\n",
       " ('S2',\n",
       "  datetime.datetime(2025, 7, 5, 18, 0, tzinfo=<DstTzInfo 'America/Bogota' -05-1 day, 19:00:00 STD>),\n",
       "  datetime.datetime(2025, 7, 6, 2, 0, tzinfo=<DstTzInfo 'America/Bogota' -05-1 day, 19:00:00 STD>),\n",
       "  'security'),\n",
       " ('S3',\n",
       "  datetime.datetime(2025, 7, 6, 18, 0, tzinfo=<DstTzInfo 'America/Bogota' -05-1 day, 19:00:00 STD>),\n",
       "  datetime.datetime(2025, 7, 7, 2, 0, tzinfo=<DstTzInfo 'America/Bogota' -05-1 day, 19:00:00 STD>),\n",
       "  'security'),\n",
       " ('S1',\n",
       "  datetime.datetime(2025, 7, 11, 2, 0, tzinfo=<DstTzInfo 'America/Bogota' -05-1 day, 19:00:00 STD>),\n",
       "  datetime.datetime(2025, 7, 11, 10, 0, tzinfo=<DstTzInfo 'America/Bogota' -05-1 day, 19:00:00 STD>),\n",
       "  'security'),\n",
       " ('S3',\n",
       "  datetime.datetime(2025, 7, 11, 18, 0, tzinfo=<DstTzInfo 'America/Bogota' -05-1 day, 19:00:00 STD>),\n",
       "  datetime.datetime(2025, 7, 12, 2, 0, tzinfo=<DstTzInfo 'America/Bogota' -05-1 day, 19:00:00 STD>),\n",
       "  'security'),\n",
       " ('S3',\n",
       "  datetime.datetime(2025, 7, 13, 2, 0, tzinfo=<DstTzInfo 'America/Bogota' -05-1 day, 19:00:00 STD>),\n",
       "  datetime.datetime(2025, 7, 13, 10, 0, tzinfo=<DstTzInfo 'America/Bogota' -05-1 day, 19:00:00 STD>),\n",
       "  'security'),\n",
       " ('S1',\n",
       "  datetime.datetime(2025, 7, 14, 10, 0, tzinfo=<DstTzInfo 'America/Bogota' -05-1 day, 19:00:00 STD>),\n",
       "  datetime.datetime(2025, 7, 14, 18, 0, tzinfo=<DstTzInfo 'America/Bogota' -05-1 day, 19:00:00 STD>),\n",
       "  'security'),\n",
       " ('S3',\n",
       "  datetime.datetime(2025, 7, 15, 2, 0, tzinfo=<DstTzInfo 'America/Bogota' -05-1 day, 19:00:00 STD>),\n",
       "  datetime.datetime(2025, 7, 15, 10, 0, tzinfo=<DstTzInfo 'America/Bogota' -05-1 day, 19:00:00 STD>),\n",
       "  'security'),\n",
       " ('S1',\n",
       "  datetime.datetime(2025, 7, 16, 10, 0, tzinfo=<DstTzInfo 'America/Bogota' -05-1 day, 19:00:00 STD>),\n",
       "  datetime.datetime(2025, 7, 16, 18, 0, tzinfo=<DstTzInfo 'America/Bogota' -05-1 day, 19:00:00 STD>),\n",
       "  'security'),\n",
       " ('S2',\n",
       "  datetime.datetime(2025, 7, 17, 18, 0, tzinfo=<DstTzInfo 'America/Bogota' -05-1 day, 19:00:00 STD>),\n",
       "  datetime.datetime(2025, 7, 18, 2, 0, tzinfo=<DstTzInfo 'America/Bogota' -05-1 day, 19:00:00 STD>),\n",
       "  'security'),\n",
       " ('S3',\n",
       "  datetime.datetime(2025, 7, 21, 10, 0, tzinfo=<DstTzInfo 'America/Bogota' -05-1 day, 19:00:00 STD>),\n",
       "  datetime.datetime(2025, 7, 21, 18, 0, tzinfo=<DstTzInfo 'America/Bogota' -05-1 day, 19:00:00 STD>),\n",
       "  'security'),\n",
       " ('S3',\n",
       "  datetime.datetime(2025, 7, 22, 10, 0, tzinfo=<DstTzInfo 'America/Bogota' -05-1 day, 19:00:00 STD>),\n",
       "  datetime.datetime(2025, 7, 22, 18, 0, tzinfo=<DstTzInfo 'America/Bogota' -05-1 day, 19:00:00 STD>),\n",
       "  'security'),\n",
       " ('S3',\n",
       "  datetime.datetime(2025, 7, 23, 10, 0, tzinfo=<DstTzInfo 'America/Bogota' -05-1 day, 19:00:00 STD>),\n",
       "  datetime.datetime(2025, 7, 23, 18, 0, tzinfo=<DstTzInfo 'America/Bogota' -05-1 day, 19:00:00 STD>),\n",
       "  'security'),\n",
       " ('S1',\n",
       "  datetime.datetime(2025, 7, 24, 18, 0, tzinfo=<DstTzInfo 'America/Bogota' -05-1 day, 19:00:00 STD>),\n",
       "  datetime.datetime(2025, 7, 25, 2, 0, tzinfo=<DstTzInfo 'America/Bogota' -05-1 day, 19:00:00 STD>),\n",
       "  'security')]"
      ]
     },
     "execution_count": 9,
     "metadata": {},
     "output_type": "execute_result"
    }
   ],
   "execution_count": 9
  },
  {
   "metadata": {
    "ExecuteTime": {
     "end_time": "2025-09-18T16:14:18.753242Z",
     "start_time": "2025-09-18T16:14:18.747175Z"
    }
   },
   "cell_type": "code",
   "source": "rests[\"C001\"]",
   "id": "dcf88c11c627d57d",
   "outputs": [
    {
     "data": {
      "text/plain": [
       "[80.0,\n",
       " 8.0,\n",
       " 72.0,\n",
       " 40.0,\n",
       " 64.0,\n",
       " 48.0,\n",
       " 88.0,\n",
       " 8.0,\n",
       " 0.0,\n",
       " 32.0,\n",
       " 8.0,\n",
       " 32.0,\n",
       " 16.0,\n",
       " 216.0,\n",
       " 16.0,\n",
       " 40.0,\n",
       " 0.0,\n",
       " 24.0,\n",
       " 112.0,\n",
       " 32.0,\n",
       " 0.0,\n",
       " 24.0,\n",
       " 8.0,\n",
       " 32.0,\n",
       " 80.0,\n",
       " 16.0,\n",
       " 88.0,\n",
       " 32.0,\n",
       " 0.0,\n",
       " 32.0,\n",
       " 16.0,\n",
       " 96.0,\n",
       " 8.0,\n",
       " 24.0,\n",
       " 24.0,\n",
       " 8.0,\n",
       " 24.0,\n",
       " 24.0,\n",
       " 80.0,\n",
       " 16.0,\n",
       " 16.0,\n",
       " 24.0]"
      ]
     },
     "execution_count": 10,
     "metadata": {},
     "output_type": "execute_result"
    }
   ],
   "execution_count": 10
  },
  {
   "metadata": {
    "ExecuteTime": {
     "end_time": "2025-09-18T16:16:45.418301Z",
     "start_time": "2025-09-18T16:16:45.405123Z"
    }
   },
   "cell_type": "code",
   "source": "ordered_shifts_dict['C064']",
   "id": "247e2669c418fb4d",
   "outputs": [
    {
     "data": {
      "text/plain": [
       "[('S1',\n",
       "  datetime.datetime(2025, 5, 1, 18, 0, tzinfo=<DstTzInfo 'America/Bogota' -05-1 day, 19:00:00 STD>),\n",
       "  datetime.datetime(2025, 5, 2, 2, 0, tzinfo=<DstTzInfo 'America/Bogota' -05-1 day, 19:00:00 STD>),\n",
       "  'cook'),\n",
       " ('S3',\n",
       "  datetime.datetime(2025, 5, 2, 2, 0, tzinfo=<DstTzInfo 'America/Bogota' -05-1 day, 19:00:00 STD>),\n",
       "  datetime.datetime(2025, 5, 2, 10, 0, tzinfo=<DstTzInfo 'America/Bogota' -05-1 day, 19:00:00 STD>),\n",
       "  'cook'),\n",
       " ('S2',\n",
       "  datetime.datetime(2025, 5, 6, 10, 0, tzinfo=<DstTzInfo 'America/Bogota' -05-1 day, 19:00:00 STD>),\n",
       "  datetime.datetime(2025, 5, 6, 18, 0, tzinfo=<DstTzInfo 'America/Bogota' -05-1 day, 19:00:00 STD>),\n",
       "  'cook'),\n",
       " ('S2',\n",
       "  datetime.datetime(2025, 5, 7, 18, 0, tzinfo=<DstTzInfo 'America/Bogota' -05-1 day, 19:00:00 STD>),\n",
       "  datetime.datetime(2025, 5, 8, 2, 0, tzinfo=<DstTzInfo 'America/Bogota' -05-1 day, 19:00:00 STD>),\n",
       "  'cook'),\n",
       " ('S2',\n",
       "  datetime.datetime(2025, 5, 9, 10, 0, tzinfo=<DstTzInfo 'America/Bogota' -05-1 day, 19:00:00 STD>),\n",
       "  datetime.datetime(2025, 5, 9, 18, 0, tzinfo=<DstTzInfo 'America/Bogota' -05-1 day, 19:00:00 STD>),\n",
       "  'cook'),\n",
       " ('S1',\n",
       "  datetime.datetime(2025, 5, 10, 10, 0, tzinfo=<DstTzInfo 'America/Bogota' -05-1 day, 19:00:00 STD>),\n",
       "  datetime.datetime(2025, 5, 10, 18, 0, tzinfo=<DstTzInfo 'America/Bogota' -05-1 day, 19:00:00 STD>),\n",
       "  'cook'),\n",
       " ('S2',\n",
       "  datetime.datetime(2025, 5, 10, 10, 0, tzinfo=<DstTzInfo 'America/Bogota' -05-1 day, 19:00:00 STD>),\n",
       "  datetime.datetime(2025, 5, 10, 18, 0, tzinfo=<DstTzInfo 'America/Bogota' -05-1 day, 19:00:00 STD>),\n",
       "  'cook'),\n",
       " ('S3',\n",
       "  datetime.datetime(2025, 5, 10, 18, 0, tzinfo=<DstTzInfo 'America/Bogota' -05-1 day, 19:00:00 STD>),\n",
       "  datetime.datetime(2025, 5, 11, 2, 0, tzinfo=<DstTzInfo 'America/Bogota' -05-1 day, 19:00:00 STD>),\n",
       "  'cook'),\n",
       " ('S2',\n",
       "  datetime.datetime(2025, 5, 11, 10, 0, tzinfo=<DstTzInfo 'America/Bogota' -05-1 day, 19:00:00 STD>),\n",
       "  datetime.datetime(2025, 5, 11, 18, 0, tzinfo=<DstTzInfo 'America/Bogota' -05-1 day, 19:00:00 STD>),\n",
       "  'cook'),\n",
       " ('S1',\n",
       "  datetime.datetime(2025, 5, 11, 10, 0, tzinfo=<DstTzInfo 'America/Bogota' -05-1 day, 19:00:00 STD>),\n",
       "  datetime.datetime(2025, 5, 11, 18, 0, tzinfo=<DstTzInfo 'America/Bogota' -05-1 day, 19:00:00 STD>),\n",
       "  'cook'),\n",
       " ('S3',\n",
       "  datetime.datetime(2025, 5, 12, 18, 0, tzinfo=<DstTzInfo 'America/Bogota' -05-1 day, 19:00:00 STD>),\n",
       "  datetime.datetime(2025, 5, 13, 2, 0, tzinfo=<DstTzInfo 'America/Bogota' -05-1 day, 19:00:00 STD>),\n",
       "  'cook'),\n",
       " ('S1',\n",
       "  datetime.datetime(2025, 5, 13, 2, 0, tzinfo=<DstTzInfo 'America/Bogota' -05-1 day, 19:00:00 STD>),\n",
       "  datetime.datetime(2025, 5, 13, 10, 0, tzinfo=<DstTzInfo 'America/Bogota' -05-1 day, 19:00:00 STD>),\n",
       "  'cook'),\n",
       " ('S2',\n",
       "  datetime.datetime(2025, 5, 13, 10, 0, tzinfo=<DstTzInfo 'America/Bogota' -05-1 day, 19:00:00 STD>),\n",
       "  datetime.datetime(2025, 5, 13, 18, 0, tzinfo=<DstTzInfo 'America/Bogota' -05-1 day, 19:00:00 STD>),\n",
       "  'cook'),\n",
       " ('S2',\n",
       "  datetime.datetime(2025, 5, 17, 10, 0, tzinfo=<DstTzInfo 'America/Bogota' -05-1 day, 19:00:00 STD>),\n",
       "  datetime.datetime(2025, 5, 17, 18, 0, tzinfo=<DstTzInfo 'America/Bogota' -05-1 day, 19:00:00 STD>),\n",
       "  'cook'),\n",
       " ('S1',\n",
       "  datetime.datetime(2025, 5, 18, 18, 0, tzinfo=<DstTzInfo 'America/Bogota' -05-1 day, 19:00:00 STD>),\n",
       "  datetime.datetime(2025, 5, 19, 2, 0, tzinfo=<DstTzInfo 'America/Bogota' -05-1 day, 19:00:00 STD>),\n",
       "  'cook'),\n",
       " ('S1',\n",
       "  datetime.datetime(2025, 5, 21, 10, 0, tzinfo=<DstTzInfo 'America/Bogota' -05-1 day, 19:00:00 STD>),\n",
       "  datetime.datetime(2025, 5, 21, 18, 0, tzinfo=<DstTzInfo 'America/Bogota' -05-1 day, 19:00:00 STD>),\n",
       "  'cook'),\n",
       " ('S2',\n",
       "  datetime.datetime(2025, 5, 26, 2, 0, tzinfo=<DstTzInfo 'America/Bogota' -05-1 day, 19:00:00 STD>),\n",
       "  datetime.datetime(2025, 5, 26, 10, 0, tzinfo=<DstTzInfo 'America/Bogota' -05-1 day, 19:00:00 STD>),\n",
       "  'cook'),\n",
       " ('S3',\n",
       "  datetime.datetime(2025, 5, 27, 10, 0, tzinfo=<DstTzInfo 'America/Bogota' -05-1 day, 19:00:00 STD>),\n",
       "  datetime.datetime(2025, 5, 27, 18, 0, tzinfo=<DstTzInfo 'America/Bogota' -05-1 day, 19:00:00 STD>),\n",
       "  'cook'),\n",
       " ('S3',\n",
       "  datetime.datetime(2025, 6, 1, 2, 0, tzinfo=<DstTzInfo 'America/Bogota' -05-1 day, 19:00:00 STD>),\n",
       "  datetime.datetime(2025, 6, 1, 10, 0, tzinfo=<DstTzInfo 'America/Bogota' -05-1 day, 19:00:00 STD>),\n",
       "  'cook'),\n",
       " ('S3',\n",
       "  datetime.datetime(2025, 6, 6, 10, 0, tzinfo=<DstTzInfo 'America/Bogota' -05-1 day, 19:00:00 STD>),\n",
       "  datetime.datetime(2025, 6, 6, 18, 0, tzinfo=<DstTzInfo 'America/Bogota' -05-1 day, 19:00:00 STD>),\n",
       "  'cook'),\n",
       " ('S1',\n",
       "  datetime.datetime(2025, 6, 10, 2, 0, tzinfo=<DstTzInfo 'America/Bogota' -05-1 day, 19:00:00 STD>),\n",
       "  datetime.datetime(2025, 6, 10, 10, 0, tzinfo=<DstTzInfo 'America/Bogota' -05-1 day, 19:00:00 STD>),\n",
       "  'cook'),\n",
       " ('S2',\n",
       "  datetime.datetime(2025, 6, 12, 18, 0, tzinfo=<DstTzInfo 'America/Bogota' -05-1 day, 19:00:00 STD>),\n",
       "  datetime.datetime(2025, 6, 13, 2, 0, tzinfo=<DstTzInfo 'America/Bogota' -05-1 day, 19:00:00 STD>),\n",
       "  'cook'),\n",
       " ('S3',\n",
       "  datetime.datetime(2025, 6, 13, 2, 0, tzinfo=<DstTzInfo 'America/Bogota' -05-1 day, 19:00:00 STD>),\n",
       "  datetime.datetime(2025, 6, 13, 10, 0, tzinfo=<DstTzInfo 'America/Bogota' -05-1 day, 19:00:00 STD>),\n",
       "  'cook'),\n",
       " ('S3',\n",
       "  datetime.datetime(2025, 6, 13, 10, 0, tzinfo=<DstTzInfo 'America/Bogota' -05-1 day, 19:00:00 STD>),\n",
       "  datetime.datetime(2025, 6, 13, 18, 0, tzinfo=<DstTzInfo 'America/Bogota' -05-1 day, 19:00:00 STD>),\n",
       "  'cook'),\n",
       " ('S1',\n",
       "  datetime.datetime(2025, 6, 14, 2, 0, tzinfo=<DstTzInfo 'America/Bogota' -05-1 day, 19:00:00 STD>),\n",
       "  datetime.datetime(2025, 6, 14, 10, 0, tzinfo=<DstTzInfo 'America/Bogota' -05-1 day, 19:00:00 STD>),\n",
       "  'cook'),\n",
       " ('S3',\n",
       "  datetime.datetime(2025, 6, 15, 2, 0, tzinfo=<DstTzInfo 'America/Bogota' -05-1 day, 19:00:00 STD>),\n",
       "  datetime.datetime(2025, 6, 15, 10, 0, tzinfo=<DstTzInfo 'America/Bogota' -05-1 day, 19:00:00 STD>),\n",
       "  'cook'),\n",
       " ('S1',\n",
       "  datetime.datetime(2025, 6, 15, 18, 0, tzinfo=<DstTzInfo 'America/Bogota' -05-1 day, 19:00:00 STD>),\n",
       "  datetime.datetime(2025, 6, 16, 2, 0, tzinfo=<DstTzInfo 'America/Bogota' -05-1 day, 19:00:00 STD>),\n",
       "  'cook'),\n",
       " ('S2',\n",
       "  datetime.datetime(2025, 6, 15, 18, 0, tzinfo=<DstTzInfo 'America/Bogota' -05-1 day, 19:00:00 STD>),\n",
       "  datetime.datetime(2025, 6, 16, 2, 0, tzinfo=<DstTzInfo 'America/Bogota' -05-1 day, 19:00:00 STD>),\n",
       "  'cook'),\n",
       " ('S2',\n",
       "  datetime.datetime(2025, 6, 18, 10, 0, tzinfo=<DstTzInfo 'America/Bogota' -05-1 day, 19:00:00 STD>),\n",
       "  datetime.datetime(2025, 6, 18, 18, 0, tzinfo=<DstTzInfo 'America/Bogota' -05-1 day, 19:00:00 STD>),\n",
       "  'cook'),\n",
       " ('S2',\n",
       "  datetime.datetime(2025, 6, 20, 18, 0, tzinfo=<DstTzInfo 'America/Bogota' -05-1 day, 19:00:00 STD>),\n",
       "  datetime.datetime(2025, 6, 21, 2, 0, tzinfo=<DstTzInfo 'America/Bogota' -05-1 day, 19:00:00 STD>),\n",
       "  'cook'),\n",
       " ('S3',\n",
       "  datetime.datetime(2025, 6, 22, 2, 0, tzinfo=<DstTzInfo 'America/Bogota' -05-1 day, 19:00:00 STD>),\n",
       "  datetime.datetime(2025, 6, 22, 10, 0, tzinfo=<DstTzInfo 'America/Bogota' -05-1 day, 19:00:00 STD>),\n",
       "  'cook'),\n",
       " ('S3',\n",
       "  datetime.datetime(2025, 6, 23, 10, 0, tzinfo=<DstTzInfo 'America/Bogota' -05-1 day, 19:00:00 STD>),\n",
       "  datetime.datetime(2025, 6, 23, 18, 0, tzinfo=<DstTzInfo 'America/Bogota' -05-1 day, 19:00:00 STD>),\n",
       "  'cook'),\n",
       " ('S3',\n",
       "  datetime.datetime(2025, 6, 25, 18, 0, tzinfo=<DstTzInfo 'America/Bogota' -05-1 day, 19:00:00 STD>),\n",
       "  datetime.datetime(2025, 6, 26, 2, 0, tzinfo=<DstTzInfo 'America/Bogota' -05-1 day, 19:00:00 STD>),\n",
       "  'cook'),\n",
       " ('S2',\n",
       "  datetime.datetime(2025, 6, 30, 18, 0, tzinfo=<DstTzInfo 'America/Bogota' -05-1 day, 19:00:00 STD>),\n",
       "  datetime.datetime(2025, 7, 1, 2, 0, tzinfo=<DstTzInfo 'America/Bogota' -05-1 day, 19:00:00 STD>),\n",
       "  'cook'),\n",
       " ('S3',\n",
       "  datetime.datetime(2025, 7, 3, 10, 0, tzinfo=<DstTzInfo 'America/Bogota' -05-1 day, 19:00:00 STD>),\n",
       "  datetime.datetime(2025, 7, 3, 18, 0, tzinfo=<DstTzInfo 'America/Bogota' -05-1 day, 19:00:00 STD>),\n",
       "  'cook'),\n",
       " ('S1',\n",
       "  datetime.datetime(2025, 7, 4, 2, 0, tzinfo=<DstTzInfo 'America/Bogota' -05-1 day, 19:00:00 STD>),\n",
       "  datetime.datetime(2025, 7, 4, 10, 0, tzinfo=<DstTzInfo 'America/Bogota' -05-1 day, 19:00:00 STD>),\n",
       "  'cook'),\n",
       " ('S3',\n",
       "  datetime.datetime(2025, 7, 5, 2, 0, tzinfo=<DstTzInfo 'America/Bogota' -05-1 day, 19:00:00 STD>),\n",
       "  datetime.datetime(2025, 7, 5, 10, 0, tzinfo=<DstTzInfo 'America/Bogota' -05-1 day, 19:00:00 STD>),\n",
       "  'cook'),\n",
       " ('S2',\n",
       "  datetime.datetime(2025, 7, 5, 18, 0, tzinfo=<DstTzInfo 'America/Bogota' -05-1 day, 19:00:00 STD>),\n",
       "  datetime.datetime(2025, 7, 6, 2, 0, tzinfo=<DstTzInfo 'America/Bogota' -05-1 day, 19:00:00 STD>),\n",
       "  'cook'),\n",
       " ('S1',\n",
       "  datetime.datetime(2025, 7, 6, 18, 0, tzinfo=<DstTzInfo 'America/Bogota' -05-1 day, 19:00:00 STD>),\n",
       "  datetime.datetime(2025, 7, 7, 2, 0, tzinfo=<DstTzInfo 'America/Bogota' -05-1 day, 19:00:00 STD>),\n",
       "  'cook'),\n",
       " ('S1',\n",
       "  datetime.datetime(2025, 7, 9, 2, 0, tzinfo=<DstTzInfo 'America/Bogota' -05-1 day, 19:00:00 STD>),\n",
       "  datetime.datetime(2025, 7, 9, 10, 0, tzinfo=<DstTzInfo 'America/Bogota' -05-1 day, 19:00:00 STD>),\n",
       "  'cook'),\n",
       " ('S2',\n",
       "  datetime.datetime(2025, 7, 9, 2, 0, tzinfo=<DstTzInfo 'America/Bogota' -05-1 day, 19:00:00 STD>),\n",
       "  datetime.datetime(2025, 7, 9, 10, 0, tzinfo=<DstTzInfo 'America/Bogota' -05-1 day, 19:00:00 STD>),\n",
       "  'cook'),\n",
       " ('S2',\n",
       "  datetime.datetime(2025, 7, 11, 18, 0, tzinfo=<DstTzInfo 'America/Bogota' -05-1 day, 19:00:00 STD>),\n",
       "  datetime.datetime(2025, 7, 12, 2, 0, tzinfo=<DstTzInfo 'America/Bogota' -05-1 day, 19:00:00 STD>),\n",
       "  'cook'),\n",
       " ('S1',\n",
       "  datetime.datetime(2025, 7, 13, 2, 0, tzinfo=<DstTzInfo 'America/Bogota' -05-1 day, 19:00:00 STD>),\n",
       "  datetime.datetime(2025, 7, 13, 10, 0, tzinfo=<DstTzInfo 'America/Bogota' -05-1 day, 19:00:00 STD>),\n",
       "  'cook'),\n",
       " ('S1',\n",
       "  datetime.datetime(2025, 7, 14, 10, 0, tzinfo=<DstTzInfo 'America/Bogota' -05-1 day, 19:00:00 STD>),\n",
       "  datetime.datetime(2025, 7, 14, 18, 0, tzinfo=<DstTzInfo 'America/Bogota' -05-1 day, 19:00:00 STD>),\n",
       "  'cook'),\n",
       " ('S1',\n",
       "  datetime.datetime(2025, 7, 15, 10, 0, tzinfo=<DstTzInfo 'America/Bogota' -05-1 day, 19:00:00 STD>),\n",
       "  datetime.datetime(2025, 7, 15, 18, 0, tzinfo=<DstTzInfo 'America/Bogota' -05-1 day, 19:00:00 STD>),\n",
       "  'cook'),\n",
       " ('S3',\n",
       "  datetime.datetime(2025, 7, 20, 10, 0, tzinfo=<DstTzInfo 'America/Bogota' -05-1 day, 19:00:00 STD>),\n",
       "  datetime.datetime(2025, 7, 20, 18, 0, tzinfo=<DstTzInfo 'America/Bogota' -05-1 day, 19:00:00 STD>),\n",
       "  'cook'),\n",
       " ('S1',\n",
       "  datetime.datetime(2025, 7, 20, 18, 0, tzinfo=<DstTzInfo 'America/Bogota' -05-1 day, 19:00:00 STD>),\n",
       "  datetime.datetime(2025, 7, 21, 2, 0, tzinfo=<DstTzInfo 'America/Bogota' -05-1 day, 19:00:00 STD>),\n",
       "  'cook'),\n",
       " ('S2',\n",
       "  datetime.datetime(2025, 7, 22, 2, 0, tzinfo=<DstTzInfo 'America/Bogota' -05-1 day, 19:00:00 STD>),\n",
       "  datetime.datetime(2025, 7, 22, 10, 0, tzinfo=<DstTzInfo 'America/Bogota' -05-1 day, 19:00:00 STD>),\n",
       "  'cook'),\n",
       " ('S3',\n",
       "  datetime.datetime(2025, 7, 23, 2, 0, tzinfo=<DstTzInfo 'America/Bogota' -05-1 day, 19:00:00 STD>),\n",
       "  datetime.datetime(2025, 7, 23, 10, 0, tzinfo=<DstTzInfo 'America/Bogota' -05-1 day, 19:00:00 STD>),\n",
       "  'cook'),\n",
       " ('S1',\n",
       "  datetime.datetime(2025, 7, 24, 18, 0, tzinfo=<DstTzInfo 'America/Bogota' -05-1 day, 19:00:00 STD>),\n",
       "  datetime.datetime(2025, 7, 25, 2, 0, tzinfo=<DstTzInfo 'America/Bogota' -05-1 day, 19:00:00 STD>),\n",
       "  'cook')]"
      ]
     },
     "execution_count": 12,
     "metadata": {},
     "output_type": "execute_result"
    }
   ],
   "execution_count": 12
  },
  {
   "metadata": {
    "ExecuteTime": {
     "end_time": "2025-09-18T16:17:31.052180Z",
     "start_time": "2025-09-18T16:17:31.045377Z"
    }
   },
   "cell_type": "code",
   "source": "rests['C064']",
   "id": "f659b9ab96ca13ab",
   "outputs": [
    {
     "data": {
      "text/plain": [
       "[0.0,\n",
       " 96.0,\n",
       " 24.0,\n",
       " 32.0,\n",
       " 16.0,\n",
       " -8.0,\n",
       " 0.0,\n",
       " 8.0,\n",
       " -8.0,\n",
       " 24.0,\n",
       " 0.0,\n",
       " 0.0,\n",
       " 88.0,\n",
       " 24.0,\n",
       " 56.0,\n",
       " 104.0,\n",
       " 24.0,\n",
       " 104.0,\n",
       " 120.0,\n",
       " 80.0,\n",
       " 56.0,\n",
       " 0.0,\n",
       " 0.0,\n",
       " 8.0,\n",
       " 16.0,\n",
       " 8.0,\n",
       " -8.0,\n",
       " 56.0,\n",
       " 48.0,\n",
       " 24.0,\n",
       " 24.0,\n",
       " 48.0,\n",
       " 112.0,\n",
       " 56.0,\n",
       " 8.0,\n",
       " 16.0,\n",
       " 8.0,\n",
       " 16.0,\n",
       " 48.0,\n",
       " -8.0,\n",
       " 56.0,\n",
       " 24.0,\n",
       " 24.0,\n",
       " 16.0,\n",
       " 112.0,\n",
       " 0.0,\n",
       " 24.0,\n",
       " 16.0,\n",
       " 32.0]"
      ]
     },
     "execution_count": 13,
     "metadata": {},
     "output_type": "execute_result"
    }
   ],
   "execution_count": 13
  },
  {
   "metadata": {
    "ExecuteTime": {
     "end_time": "2025-09-18T16:27:36.702903Z",
     "start_time": "2025-09-18T16:27:36.654150Z"
    }
   },
   "cell_type": "code",
   "source": "_= plot_crew_schedule(df, 'C064', plot=True)",
   "id": "f7a3b71b4f96e1da",
   "outputs": [
    {
     "data": {
      "application/vnd.plotly.v1+json": {
       "data": [
        {
         "hovertemplate": "Ship: S1<br>Role: cook<br>Shift length: 8.0 hours<br>%{x|%Y-%m-%d %H:%M}",
         "line": {
          "width": 10
         },
         "mode": "lines",
         "name": "S1 (8.0h)",
         "x": [
          "2025-05-01T18:00:00-05:00",
          "2025-05-02T02:00:00-05:00"
         ],
         "y": [
          0,
          0
         ],
         "type": "scatter"
        },
        {
         "hovertemplate": "Ship: S3<br>Role: cook<br>Shift length: 8.0 hours<br>%{x|%Y-%m-%d %H:%M}",
         "line": {
          "width": 10
         },
         "mode": "lines",
         "name": "S3 (8.0h)",
         "x": [
          "2025-05-02T02:00:00-05:00",
          "2025-05-02T10:00:00-05:00"
         ],
         "y": [
          2,
          2
         ],
         "type": "scatter"
        },
        {
         "hovertemplate": "Ship: S2<br>Role: cook<br>Shift length: 8.0 hours<br>%{x|%Y-%m-%d %H:%M}",
         "line": {
          "width": 10
         },
         "mode": "lines",
         "name": "S2 (8.0h)",
         "x": [
          "2025-05-06T10:00:00-05:00",
          "2025-05-06T18:00:00-05:00"
         ],
         "y": [
          1,
          1
         ],
         "type": "scatter"
        },
        {
         "hovertemplate": "Ship: S2<br>Role: cook<br>Shift length: 8.0 hours<br>%{x|%Y-%m-%d %H:%M}",
         "line": {
          "width": 10
         },
         "mode": "lines",
         "name": "S2 (8.0h)",
         "x": [
          "2025-05-07T18:00:00-05:00",
          "2025-05-08T02:00:00-05:00"
         ],
         "y": [
          1,
          1
         ],
         "type": "scatter"
        },
        {
         "hovertemplate": "Ship: S2<br>Role: cook<br>Shift length: 8.0 hours<br>%{x|%Y-%m-%d %H:%M}",
         "line": {
          "width": 10
         },
         "mode": "lines",
         "name": "S2 (8.0h)",
         "x": [
          "2025-05-09T10:00:00-05:00",
          "2025-05-09T18:00:00-05:00"
         ],
         "y": [
          1,
          1
         ],
         "type": "scatter"
        },
        {
         "hovertemplate": "Ship: S1<br>Role: cook<br>Shift length: 8.0 hours<br>%{x|%Y-%m-%d %H:%M}",
         "line": {
          "width": 10
         },
         "mode": "lines",
         "name": "S1 (8.0h)",
         "x": [
          "2025-05-10T10:00:00-05:00",
          "2025-05-10T18:00:00-05:00"
         ],
         "y": [
          0,
          0
         ],
         "type": "scatter"
        },
        {
         "hovertemplate": "Ship: S2<br>Role: cook<br>Shift length: 8.0 hours<br>%{x|%Y-%m-%d %H:%M}",
         "line": {
          "width": 10
         },
         "mode": "lines",
         "name": "S2 (8.0h)",
         "x": [
          "2025-05-10T10:00:00-05:00",
          "2025-05-10T18:00:00-05:00"
         ],
         "y": [
          1,
          1
         ],
         "type": "scatter"
        },
        {
         "hovertemplate": "Ship: S3<br>Role: cook<br>Shift length: 8.0 hours<br>%{x|%Y-%m-%d %H:%M}",
         "line": {
          "width": 10
         },
         "mode": "lines",
         "name": "S3 (8.0h)",
         "x": [
          "2025-05-10T18:00:00-05:00",
          "2025-05-11T02:00:00-05:00"
         ],
         "y": [
          2,
          2
         ],
         "type": "scatter"
        },
        {
         "hovertemplate": "Ship: S2<br>Role: cook<br>Shift length: 8.0 hours<br>%{x|%Y-%m-%d %H:%M}",
         "line": {
          "width": 10
         },
         "mode": "lines",
         "name": "S2 (8.0h)",
         "x": [
          "2025-05-11T10:00:00-05:00",
          "2025-05-11T18:00:00-05:00"
         ],
         "y": [
          1,
          1
         ],
         "type": "scatter"
        },
        {
         "hovertemplate": "Ship: S1<br>Role: cook<br>Shift length: 8.0 hours<br>%{x|%Y-%m-%d %H:%M}",
         "line": {
          "width": 10
         },
         "mode": "lines",
         "name": "S1 (8.0h)",
         "x": [
          "2025-05-11T10:00:00-05:00",
          "2025-05-11T18:00:00-05:00"
         ],
         "y": [
          0,
          0
         ],
         "type": "scatter"
        },
        {
         "hovertemplate": "Ship: S3<br>Role: cook<br>Shift length: 8.0 hours<br>%{x|%Y-%m-%d %H:%M}",
         "line": {
          "width": 10
         },
         "mode": "lines",
         "name": "S3 (8.0h)",
         "x": [
          "2025-05-12T18:00:00-05:00",
          "2025-05-13T02:00:00-05:00"
         ],
         "y": [
          2,
          2
         ],
         "type": "scatter"
        },
        {
         "hovertemplate": "Ship: S1<br>Role: cook<br>Shift length: 8.0 hours<br>%{x|%Y-%m-%d %H:%M}",
         "line": {
          "width": 10
         },
         "mode": "lines",
         "name": "S1 (8.0h)",
         "x": [
          "2025-05-13T02:00:00-05:00",
          "2025-05-13T10:00:00-05:00"
         ],
         "y": [
          0,
          0
         ],
         "type": "scatter"
        },
        {
         "hovertemplate": "Ship: S2<br>Role: cook<br>Shift length: 8.0 hours<br>%{x|%Y-%m-%d %H:%M}",
         "line": {
          "width": 10
         },
         "mode": "lines",
         "name": "S2 (8.0h)",
         "x": [
          "2025-05-13T10:00:00-05:00",
          "2025-05-13T18:00:00-05:00"
         ],
         "y": [
          1,
          1
         ],
         "type": "scatter"
        },
        {
         "hovertemplate": "Ship: S2<br>Role: cook<br>Shift length: 8.0 hours<br>%{x|%Y-%m-%d %H:%M}",
         "line": {
          "width": 10
         },
         "mode": "lines",
         "name": "S2 (8.0h)",
         "x": [
          "2025-05-17T10:00:00-05:00",
          "2025-05-17T18:00:00-05:00"
         ],
         "y": [
          1,
          1
         ],
         "type": "scatter"
        },
        {
         "hovertemplate": "Ship: S1<br>Role: cook<br>Shift length: 8.0 hours<br>%{x|%Y-%m-%d %H:%M}",
         "line": {
          "width": 10
         },
         "mode": "lines",
         "name": "S1 (8.0h)",
         "x": [
          "2025-05-18T18:00:00-05:00",
          "2025-05-19T02:00:00-05:00"
         ],
         "y": [
          0,
          0
         ],
         "type": "scatter"
        },
        {
         "hovertemplate": "Ship: S1<br>Role: cook<br>Shift length: 8.0 hours<br>%{x|%Y-%m-%d %H:%M}",
         "line": {
          "width": 10
         },
         "mode": "lines",
         "name": "S1 (8.0h)",
         "x": [
          "2025-05-21T10:00:00-05:00",
          "2025-05-21T18:00:00-05:00"
         ],
         "y": [
          0,
          0
         ],
         "type": "scatter"
        },
        {
         "hovertemplate": "Ship: S2<br>Role: cook<br>Shift length: 8.0 hours<br>%{x|%Y-%m-%d %H:%M}",
         "line": {
          "width": 10
         },
         "mode": "lines",
         "name": "S2 (8.0h)",
         "x": [
          "2025-05-26T02:00:00-05:00",
          "2025-05-26T10:00:00-05:00"
         ],
         "y": [
          1,
          1
         ],
         "type": "scatter"
        },
        {
         "hovertemplate": "Ship: S3<br>Role: cook<br>Shift length: 8.0 hours<br>%{x|%Y-%m-%d %H:%M}",
         "line": {
          "width": 10
         },
         "mode": "lines",
         "name": "S3 (8.0h)",
         "x": [
          "2025-05-27T10:00:00-05:00",
          "2025-05-27T18:00:00-05:00"
         ],
         "y": [
          2,
          2
         ],
         "type": "scatter"
        },
        {
         "hovertemplate": "Ship: S3<br>Role: cook<br>Shift length: 8.0 hours<br>%{x|%Y-%m-%d %H:%M}",
         "line": {
          "width": 10
         },
         "mode": "lines",
         "name": "S3 (8.0h)",
         "x": [
          "2025-06-01T02:00:00-05:00",
          "2025-06-01T10:00:00-05:00"
         ],
         "y": [
          2,
          2
         ],
         "type": "scatter"
        },
        {
         "hovertemplate": "Ship: S3<br>Role: cook<br>Shift length: 8.0 hours<br>%{x|%Y-%m-%d %H:%M}",
         "line": {
          "width": 10
         },
         "mode": "lines",
         "name": "S3 (8.0h)",
         "x": [
          "2025-06-06T10:00:00-05:00",
          "2025-06-06T18:00:00-05:00"
         ],
         "y": [
          2,
          2
         ],
         "type": "scatter"
        },
        {
         "hovertemplate": "Ship: S1<br>Role: cook<br>Shift length: 8.0 hours<br>%{x|%Y-%m-%d %H:%M}",
         "line": {
          "width": 10
         },
         "mode": "lines",
         "name": "S1 (8.0h)",
         "x": [
          "2025-06-10T02:00:00-05:00",
          "2025-06-10T10:00:00-05:00"
         ],
         "y": [
          0,
          0
         ],
         "type": "scatter"
        },
        {
         "hovertemplate": "Ship: S2<br>Role: cook<br>Shift length: 8.0 hours<br>%{x|%Y-%m-%d %H:%M}",
         "line": {
          "width": 10
         },
         "mode": "lines",
         "name": "S2 (8.0h)",
         "x": [
          "2025-06-12T18:00:00-05:00",
          "2025-06-13T02:00:00-05:00"
         ],
         "y": [
          1,
          1
         ],
         "type": "scatter"
        },
        {
         "hovertemplate": "Ship: S3<br>Role: cook<br>Shift length: 8.0 hours<br>%{x|%Y-%m-%d %H:%M}",
         "line": {
          "width": 10
         },
         "mode": "lines",
         "name": "S3 (8.0h)",
         "x": [
          "2025-06-13T02:00:00-05:00",
          "2025-06-13T10:00:00-05:00"
         ],
         "y": [
          2,
          2
         ],
         "type": "scatter"
        },
        {
         "hovertemplate": "Ship: S3<br>Role: cook<br>Shift length: 8.0 hours<br>%{x|%Y-%m-%d %H:%M}",
         "line": {
          "width": 10
         },
         "mode": "lines",
         "name": "S3 (8.0h)",
         "x": [
          "2025-06-13T10:00:00-05:00",
          "2025-06-13T18:00:00-05:00"
         ],
         "y": [
          2,
          2
         ],
         "type": "scatter"
        },
        {
         "hovertemplate": "Ship: S1<br>Role: cook<br>Shift length: 8.0 hours<br>%{x|%Y-%m-%d %H:%M}",
         "line": {
          "width": 10
         },
         "mode": "lines",
         "name": "S1 (8.0h)",
         "x": [
          "2025-06-14T02:00:00-05:00",
          "2025-06-14T10:00:00-05:00"
         ],
         "y": [
          0,
          0
         ],
         "type": "scatter"
        },
        {
         "hovertemplate": "Ship: S3<br>Role: cook<br>Shift length: 8.0 hours<br>%{x|%Y-%m-%d %H:%M}",
         "line": {
          "width": 10
         },
         "mode": "lines",
         "name": "S3 (8.0h)",
         "x": [
          "2025-06-15T02:00:00-05:00",
          "2025-06-15T10:00:00-05:00"
         ],
         "y": [
          2,
          2
         ],
         "type": "scatter"
        },
        {
         "hovertemplate": "Ship: S1<br>Role: cook<br>Shift length: 8.0 hours<br>%{x|%Y-%m-%d %H:%M}",
         "line": {
          "width": 10
         },
         "mode": "lines",
         "name": "S1 (8.0h)",
         "x": [
          "2025-06-15T18:00:00-05:00",
          "2025-06-16T02:00:00-05:00"
         ],
         "y": [
          0,
          0
         ],
         "type": "scatter"
        },
        {
         "hovertemplate": "Ship: S2<br>Role: cook<br>Shift length: 8.0 hours<br>%{x|%Y-%m-%d %H:%M}",
         "line": {
          "width": 10
         },
         "mode": "lines",
         "name": "S2 (8.0h)",
         "x": [
          "2025-06-15T18:00:00-05:00",
          "2025-06-16T02:00:00-05:00"
         ],
         "y": [
          1,
          1
         ],
         "type": "scatter"
        },
        {
         "hovertemplate": "Ship: S2<br>Role: cook<br>Shift length: 8.0 hours<br>%{x|%Y-%m-%d %H:%M}",
         "line": {
          "width": 10
         },
         "mode": "lines",
         "name": "S2 (8.0h)",
         "x": [
          "2025-06-18T10:00:00-05:00",
          "2025-06-18T18:00:00-05:00"
         ],
         "y": [
          1,
          1
         ],
         "type": "scatter"
        },
        {
         "hovertemplate": "Ship: S2<br>Role: cook<br>Shift length: 8.0 hours<br>%{x|%Y-%m-%d %H:%M}",
         "line": {
          "width": 10
         },
         "mode": "lines",
         "name": "S2 (8.0h)",
         "x": [
          "2025-06-20T18:00:00-05:00",
          "2025-06-21T02:00:00-05:00"
         ],
         "y": [
          1,
          1
         ],
         "type": "scatter"
        },
        {
         "hovertemplate": "Ship: S3<br>Role: cook<br>Shift length: 8.0 hours<br>%{x|%Y-%m-%d %H:%M}",
         "line": {
          "width": 10
         },
         "mode": "lines",
         "name": "S3 (8.0h)",
         "x": [
          "2025-06-22T02:00:00-05:00",
          "2025-06-22T10:00:00-05:00"
         ],
         "y": [
          2,
          2
         ],
         "type": "scatter"
        },
        {
         "hovertemplate": "Ship: S3<br>Role: cook<br>Shift length: 8.0 hours<br>%{x|%Y-%m-%d %H:%M}",
         "line": {
          "width": 10
         },
         "mode": "lines",
         "name": "S3 (8.0h)",
         "x": [
          "2025-06-23T10:00:00-05:00",
          "2025-06-23T18:00:00-05:00"
         ],
         "y": [
          2,
          2
         ],
         "type": "scatter"
        },
        {
         "hovertemplate": "Ship: S3<br>Role: cook<br>Shift length: 8.0 hours<br>%{x|%Y-%m-%d %H:%M}",
         "line": {
          "width": 10
         },
         "mode": "lines",
         "name": "S3 (8.0h)",
         "x": [
          "2025-06-25T18:00:00-05:00",
          "2025-06-26T02:00:00-05:00"
         ],
         "y": [
          2,
          2
         ],
         "type": "scatter"
        },
        {
         "hovertemplate": "Ship: S2<br>Role: cook<br>Shift length: 8.0 hours<br>%{x|%Y-%m-%d %H:%M}",
         "line": {
          "width": 10
         },
         "mode": "lines",
         "name": "S2 (8.0h)",
         "x": [
          "2025-06-30T18:00:00-05:00",
          "2025-07-01T02:00:00-05:00"
         ],
         "y": [
          1,
          1
         ],
         "type": "scatter"
        },
        {
         "hovertemplate": "Ship: S3<br>Role: cook<br>Shift length: 8.0 hours<br>%{x|%Y-%m-%d %H:%M}",
         "line": {
          "width": 10
         },
         "mode": "lines",
         "name": "S3 (8.0h)",
         "x": [
          "2025-07-03T10:00:00-05:00",
          "2025-07-03T18:00:00-05:00"
         ],
         "y": [
          2,
          2
         ],
         "type": "scatter"
        },
        {
         "hovertemplate": "Ship: S1<br>Role: cook<br>Shift length: 8.0 hours<br>%{x|%Y-%m-%d %H:%M}",
         "line": {
          "width": 10
         },
         "mode": "lines",
         "name": "S1 (8.0h)",
         "x": [
          "2025-07-04T02:00:00-05:00",
          "2025-07-04T10:00:00-05:00"
         ],
         "y": [
          0,
          0
         ],
         "type": "scatter"
        },
        {
         "hovertemplate": "Ship: S3<br>Role: cook<br>Shift length: 8.0 hours<br>%{x|%Y-%m-%d %H:%M}",
         "line": {
          "width": 10
         },
         "mode": "lines",
         "name": "S3 (8.0h)",
         "x": [
          "2025-07-05T02:00:00-05:00",
          "2025-07-05T10:00:00-05:00"
         ],
         "y": [
          2,
          2
         ],
         "type": "scatter"
        },
        {
         "hovertemplate": "Ship: S2<br>Role: cook<br>Shift length: 8.0 hours<br>%{x|%Y-%m-%d %H:%M}",
         "line": {
          "width": 10
         },
         "mode": "lines",
         "name": "S2 (8.0h)",
         "x": [
          "2025-07-05T18:00:00-05:00",
          "2025-07-06T02:00:00-05:00"
         ],
         "y": [
          1,
          1
         ],
         "type": "scatter"
        },
        {
         "hovertemplate": "Ship: S1<br>Role: cook<br>Shift length: 8.0 hours<br>%{x|%Y-%m-%d %H:%M}",
         "line": {
          "width": 10
         },
         "mode": "lines",
         "name": "S1 (8.0h)",
         "x": [
          "2025-07-06T18:00:00-05:00",
          "2025-07-07T02:00:00-05:00"
         ],
         "y": [
          0,
          0
         ],
         "type": "scatter"
        },
        {
         "hovertemplate": "Ship: S1<br>Role: cook<br>Shift length: 8.0 hours<br>%{x|%Y-%m-%d %H:%M}",
         "line": {
          "width": 10
         },
         "mode": "lines",
         "name": "S1 (8.0h)",
         "x": [
          "2025-07-09T02:00:00-05:00",
          "2025-07-09T10:00:00-05:00"
         ],
         "y": [
          0,
          0
         ],
         "type": "scatter"
        },
        {
         "hovertemplate": "Ship: S2<br>Role: cook<br>Shift length: 8.0 hours<br>%{x|%Y-%m-%d %H:%M}",
         "line": {
          "width": 10
         },
         "mode": "lines",
         "name": "S2 (8.0h)",
         "x": [
          "2025-07-09T02:00:00-05:00",
          "2025-07-09T10:00:00-05:00"
         ],
         "y": [
          1,
          1
         ],
         "type": "scatter"
        },
        {
         "hovertemplate": "Ship: S2<br>Role: cook<br>Shift length: 8.0 hours<br>%{x|%Y-%m-%d %H:%M}",
         "line": {
          "width": 10
         },
         "mode": "lines",
         "name": "S2 (8.0h)",
         "x": [
          "2025-07-11T18:00:00-05:00",
          "2025-07-12T02:00:00-05:00"
         ],
         "y": [
          1,
          1
         ],
         "type": "scatter"
        },
        {
         "hovertemplate": "Ship: S1<br>Role: cook<br>Shift length: 8.0 hours<br>%{x|%Y-%m-%d %H:%M}",
         "line": {
          "width": 10
         },
         "mode": "lines",
         "name": "S1 (8.0h)",
         "x": [
          "2025-07-13T02:00:00-05:00",
          "2025-07-13T10:00:00-05:00"
         ],
         "y": [
          0,
          0
         ],
         "type": "scatter"
        },
        {
         "hovertemplate": "Ship: S1<br>Role: cook<br>Shift length: 8.0 hours<br>%{x|%Y-%m-%d %H:%M}",
         "line": {
          "width": 10
         },
         "mode": "lines",
         "name": "S1 (8.0h)",
         "x": [
          "2025-07-14T10:00:00-05:00",
          "2025-07-14T18:00:00-05:00"
         ],
         "y": [
          0,
          0
         ],
         "type": "scatter"
        },
        {
         "hovertemplate": "Ship: S1<br>Role: cook<br>Shift length: 8.0 hours<br>%{x|%Y-%m-%d %H:%M}",
         "line": {
          "width": 10
         },
         "mode": "lines",
         "name": "S1 (8.0h)",
         "x": [
          "2025-07-15T10:00:00-05:00",
          "2025-07-15T18:00:00-05:00"
         ],
         "y": [
          0,
          0
         ],
         "type": "scatter"
        },
        {
         "hovertemplate": "Ship: S3<br>Role: cook<br>Shift length: 8.0 hours<br>%{x|%Y-%m-%d %H:%M}",
         "line": {
          "width": 10
         },
         "mode": "lines",
         "name": "S3 (8.0h)",
         "x": [
          "2025-07-20T10:00:00-05:00",
          "2025-07-20T18:00:00-05:00"
         ],
         "y": [
          2,
          2
         ],
         "type": "scatter"
        },
        {
         "hovertemplate": "Ship: S1<br>Role: cook<br>Shift length: 8.0 hours<br>%{x|%Y-%m-%d %H:%M}",
         "line": {
          "width": 10
         },
         "mode": "lines",
         "name": "S1 (8.0h)",
         "x": [
          "2025-07-20T18:00:00-05:00",
          "2025-07-21T02:00:00-05:00"
         ],
         "y": [
          0,
          0
         ],
         "type": "scatter"
        },
        {
         "hovertemplate": "Ship: S2<br>Role: cook<br>Shift length: 8.0 hours<br>%{x|%Y-%m-%d %H:%M}",
         "line": {
          "width": 10
         },
         "mode": "lines",
         "name": "S2 (8.0h)",
         "x": [
          "2025-07-22T02:00:00-05:00",
          "2025-07-22T10:00:00-05:00"
         ],
         "y": [
          1,
          1
         ],
         "type": "scatter"
        },
        {
         "hovertemplate": "Ship: S3<br>Role: cook<br>Shift length: 8.0 hours<br>%{x|%Y-%m-%d %H:%M}",
         "line": {
          "width": 10
         },
         "mode": "lines",
         "name": "S3 (8.0h)",
         "x": [
          "2025-07-23T02:00:00-05:00",
          "2025-07-23T10:00:00-05:00"
         ],
         "y": [
          2,
          2
         ],
         "type": "scatter"
        },
        {
         "hovertemplate": "Ship: S1<br>Role: cook<br>Shift length: 8.0 hours<br>%{x|%Y-%m-%d %H:%M}",
         "line": {
          "width": 10
         },
         "mode": "lines",
         "name": "S1 (8.0h)",
         "x": [
          "2025-07-24T18:00:00-05:00",
          "2025-07-25T02:00:00-05:00"
         ],
         "y": [
          0,
          0
         ],
         "type": "scatter"
        }
       ],
       "layout": {
        "template": {
         "data": {
          "histogram2dcontour": [
           {
            "type": "histogram2dcontour",
            "colorbar": {
             "outlinewidth": 0,
             "ticks": ""
            },
            "colorscale": [
             [
              0.0,
              "#0d0887"
             ],
             [
              0.1111111111111111,
              "#46039f"
             ],
             [
              0.2222222222222222,
              "#7201a8"
             ],
             [
              0.3333333333333333,
              "#9c179e"
             ],
             [
              0.4444444444444444,
              "#bd3786"
             ],
             [
              0.5555555555555556,
              "#d8576b"
             ],
             [
              0.6666666666666666,
              "#ed7953"
             ],
             [
              0.7777777777777778,
              "#fb9f3a"
             ],
             [
              0.8888888888888888,
              "#fdca26"
             ],
             [
              1.0,
              "#f0f921"
             ]
            ]
           }
          ],
          "choropleth": [
           {
            "type": "choropleth",
            "colorbar": {
             "outlinewidth": 0,
             "ticks": ""
            }
           }
          ],
          "histogram2d": [
           {
            "type": "histogram2d",
            "colorbar": {
             "outlinewidth": 0,
             "ticks": ""
            },
            "colorscale": [
             [
              0.0,
              "#0d0887"
             ],
             [
              0.1111111111111111,
              "#46039f"
             ],
             [
              0.2222222222222222,
              "#7201a8"
             ],
             [
              0.3333333333333333,
              "#9c179e"
             ],
             [
              0.4444444444444444,
              "#bd3786"
             ],
             [
              0.5555555555555556,
              "#d8576b"
             ],
             [
              0.6666666666666666,
              "#ed7953"
             ],
             [
              0.7777777777777778,
              "#fb9f3a"
             ],
             [
              0.8888888888888888,
              "#fdca26"
             ],
             [
              1.0,
              "#f0f921"
             ]
            ]
           }
          ],
          "heatmap": [
           {
            "type": "heatmap",
            "colorbar": {
             "outlinewidth": 0,
             "ticks": ""
            },
            "colorscale": [
             [
              0.0,
              "#0d0887"
             ],
             [
              0.1111111111111111,
              "#46039f"
             ],
             [
              0.2222222222222222,
              "#7201a8"
             ],
             [
              0.3333333333333333,
              "#9c179e"
             ],
             [
              0.4444444444444444,
              "#bd3786"
             ],
             [
              0.5555555555555556,
              "#d8576b"
             ],
             [
              0.6666666666666666,
              "#ed7953"
             ],
             [
              0.7777777777777778,
              "#fb9f3a"
             ],
             [
              0.8888888888888888,
              "#fdca26"
             ],
             [
              1.0,
              "#f0f921"
             ]
            ]
           }
          ],
          "contourcarpet": [
           {
            "type": "contourcarpet",
            "colorbar": {
             "outlinewidth": 0,
             "ticks": ""
            }
           }
          ],
          "contour": [
           {
            "type": "contour",
            "colorbar": {
             "outlinewidth": 0,
             "ticks": ""
            },
            "colorscale": [
             [
              0.0,
              "#0d0887"
             ],
             [
              0.1111111111111111,
              "#46039f"
             ],
             [
              0.2222222222222222,
              "#7201a8"
             ],
             [
              0.3333333333333333,
              "#9c179e"
             ],
             [
              0.4444444444444444,
              "#bd3786"
             ],
             [
              0.5555555555555556,
              "#d8576b"
             ],
             [
              0.6666666666666666,
              "#ed7953"
             ],
             [
              0.7777777777777778,
              "#fb9f3a"
             ],
             [
              0.8888888888888888,
              "#fdca26"
             ],
             [
              1.0,
              "#f0f921"
             ]
            ]
           }
          ],
          "surface": [
           {
            "type": "surface",
            "colorbar": {
             "outlinewidth": 0,
             "ticks": ""
            },
            "colorscale": [
             [
              0.0,
              "#0d0887"
             ],
             [
              0.1111111111111111,
              "#46039f"
             ],
             [
              0.2222222222222222,
              "#7201a8"
             ],
             [
              0.3333333333333333,
              "#9c179e"
             ],
             [
              0.4444444444444444,
              "#bd3786"
             ],
             [
              0.5555555555555556,
              "#d8576b"
             ],
             [
              0.6666666666666666,
              "#ed7953"
             ],
             [
              0.7777777777777778,
              "#fb9f3a"
             ],
             [
              0.8888888888888888,
              "#fdca26"
             ],
             [
              1.0,
              "#f0f921"
             ]
            ]
           }
          ],
          "mesh3d": [
           {
            "type": "mesh3d",
            "colorbar": {
             "outlinewidth": 0,
             "ticks": ""
            }
           }
          ],
          "scatter": [
           {
            "marker": {
             "line": {
              "color": "#283442"
             }
            },
            "type": "scatter"
           }
          ],
          "parcoords": [
           {
            "type": "parcoords",
            "line": {
             "colorbar": {
              "outlinewidth": 0,
              "ticks": ""
             }
            }
           }
          ],
          "scatterpolargl": [
           {
            "type": "scatterpolargl",
            "marker": {
             "colorbar": {
              "outlinewidth": 0,
              "ticks": ""
             }
            }
           }
          ],
          "bar": [
           {
            "error_x": {
             "color": "#f2f5fa"
            },
            "error_y": {
             "color": "#f2f5fa"
            },
            "marker": {
             "line": {
              "color": "rgb(17,17,17)",
              "width": 0.5
             },
             "pattern": {
              "fillmode": "overlay",
              "size": 10,
              "solidity": 0.2
             }
            },
            "type": "bar"
           }
          ],
          "scattergeo": [
           {
            "type": "scattergeo",
            "marker": {
             "colorbar": {
              "outlinewidth": 0,
              "ticks": ""
             }
            }
           }
          ],
          "scatterpolar": [
           {
            "type": "scatterpolar",
            "marker": {
             "colorbar": {
              "outlinewidth": 0,
              "ticks": ""
             }
            }
           }
          ],
          "histogram": [
           {
            "marker": {
             "pattern": {
              "fillmode": "overlay",
              "size": 10,
              "solidity": 0.2
             }
            },
            "type": "histogram"
           }
          ],
          "scattergl": [
           {
            "marker": {
             "line": {
              "color": "#283442"
             }
            },
            "type": "scattergl"
           }
          ],
          "scatter3d": [
           {
            "type": "scatter3d",
            "line": {
             "colorbar": {
              "outlinewidth": 0,
              "ticks": ""
             }
            },
            "marker": {
             "colorbar": {
              "outlinewidth": 0,
              "ticks": ""
             }
            }
           }
          ],
          "scattermap": [
           {
            "type": "scattermap",
            "marker": {
             "colorbar": {
              "outlinewidth": 0,
              "ticks": ""
             }
            }
           }
          ],
          "scattermapbox": [
           {
            "type": "scattermapbox",
            "marker": {
             "colorbar": {
              "outlinewidth": 0,
              "ticks": ""
             }
            }
           }
          ],
          "scatterternary": [
           {
            "type": "scatterternary",
            "marker": {
             "colorbar": {
              "outlinewidth": 0,
              "ticks": ""
             }
            }
           }
          ],
          "scattercarpet": [
           {
            "type": "scattercarpet",
            "marker": {
             "colorbar": {
              "outlinewidth": 0,
              "ticks": ""
             }
            }
           }
          ],
          "carpet": [
           {
            "aaxis": {
             "endlinecolor": "#A2B1C6",
             "gridcolor": "#506784",
             "linecolor": "#506784",
             "minorgridcolor": "#506784",
             "startlinecolor": "#A2B1C6"
            },
            "baxis": {
             "endlinecolor": "#A2B1C6",
             "gridcolor": "#506784",
             "linecolor": "#506784",
             "minorgridcolor": "#506784",
             "startlinecolor": "#A2B1C6"
            },
            "type": "carpet"
           }
          ],
          "table": [
           {
            "cells": {
             "fill": {
              "color": "#506784"
             },
             "line": {
              "color": "rgb(17,17,17)"
             }
            },
            "header": {
             "fill": {
              "color": "#2a3f5f"
             },
             "line": {
              "color": "rgb(17,17,17)"
             }
            },
            "type": "table"
           }
          ],
          "barpolar": [
           {
            "marker": {
             "line": {
              "color": "rgb(17,17,17)",
              "width": 0.5
             },
             "pattern": {
              "fillmode": "overlay",
              "size": 10,
              "solidity": 0.2
             }
            },
            "type": "barpolar"
           }
          ],
          "pie": [
           {
            "automargin": true,
            "type": "pie"
           }
          ]
         },
         "layout": {
          "autotypenumbers": "strict",
          "colorway": [
           "#636efa",
           "#EF553B",
           "#00cc96",
           "#ab63fa",
           "#FFA15A",
           "#19d3f3",
           "#FF6692",
           "#B6E880",
           "#FF97FF",
           "#FECB52"
          ],
          "font": {
           "color": "#f2f5fa"
          },
          "hovermode": "closest",
          "hoverlabel": {
           "align": "left"
          },
          "paper_bgcolor": "rgb(17,17,17)",
          "plot_bgcolor": "rgb(17,17,17)",
          "polar": {
           "bgcolor": "rgb(17,17,17)",
           "angularaxis": {
            "gridcolor": "#506784",
            "linecolor": "#506784",
            "ticks": ""
           },
           "radialaxis": {
            "gridcolor": "#506784",
            "linecolor": "#506784",
            "ticks": ""
           }
          },
          "ternary": {
           "bgcolor": "rgb(17,17,17)",
           "aaxis": {
            "gridcolor": "#506784",
            "linecolor": "#506784",
            "ticks": ""
           },
           "baxis": {
            "gridcolor": "#506784",
            "linecolor": "#506784",
            "ticks": ""
           },
           "caxis": {
            "gridcolor": "#506784",
            "linecolor": "#506784",
            "ticks": ""
           }
          },
          "coloraxis": {
           "colorbar": {
            "outlinewidth": 0,
            "ticks": ""
           }
          },
          "colorscale": {
           "sequential": [
            [
             0.0,
             "#0d0887"
            ],
            [
             0.1111111111111111,
             "#46039f"
            ],
            [
             0.2222222222222222,
             "#7201a8"
            ],
            [
             0.3333333333333333,
             "#9c179e"
            ],
            [
             0.4444444444444444,
             "#bd3786"
            ],
            [
             0.5555555555555556,
             "#d8576b"
            ],
            [
             0.6666666666666666,
             "#ed7953"
            ],
            [
             0.7777777777777778,
             "#fb9f3a"
            ],
            [
             0.8888888888888888,
             "#fdca26"
            ],
            [
             1.0,
             "#f0f921"
            ]
           ],
           "sequentialminus": [
            [
             0.0,
             "#0d0887"
            ],
            [
             0.1111111111111111,
             "#46039f"
            ],
            [
             0.2222222222222222,
             "#7201a8"
            ],
            [
             0.3333333333333333,
             "#9c179e"
            ],
            [
             0.4444444444444444,
             "#bd3786"
            ],
            [
             0.5555555555555556,
             "#d8576b"
            ],
            [
             0.6666666666666666,
             "#ed7953"
            ],
            [
             0.7777777777777778,
             "#fb9f3a"
            ],
            [
             0.8888888888888888,
             "#fdca26"
            ],
            [
             1.0,
             "#f0f921"
            ]
           ],
           "diverging": [
            [
             0,
             "#8e0152"
            ],
            [
             0.1,
             "#c51b7d"
            ],
            [
             0.2,
             "#de77ae"
            ],
            [
             0.3,
             "#f1b6da"
            ],
            [
             0.4,
             "#fde0ef"
            ],
            [
             0.5,
             "#f7f7f7"
            ],
            [
             0.6,
             "#e6f5d0"
            ],
            [
             0.7,
             "#b8e186"
            ],
            [
             0.8,
             "#7fbc41"
            ],
            [
             0.9,
             "#4d9221"
            ],
            [
             1,
             "#276419"
            ]
           ]
          },
          "xaxis": {
           "gridcolor": "#283442",
           "linecolor": "#506784",
           "ticks": "",
           "title": {
            "standoff": 15
           },
           "zerolinecolor": "#283442",
           "automargin": true,
           "zerolinewidth": 2
          },
          "yaxis": {
           "gridcolor": "#283442",
           "linecolor": "#506784",
           "ticks": "",
           "title": {
            "standoff": 15
           },
           "zerolinecolor": "#283442",
           "automargin": true,
           "zerolinewidth": 2
          },
          "scene": {
           "xaxis": {
            "backgroundcolor": "rgb(17,17,17)",
            "gridcolor": "#506784",
            "linecolor": "#506784",
            "showbackground": true,
            "ticks": "",
            "zerolinecolor": "#C8D4E3",
            "gridwidth": 2
           },
           "yaxis": {
            "backgroundcolor": "rgb(17,17,17)",
            "gridcolor": "#506784",
            "linecolor": "#506784",
            "showbackground": true,
            "ticks": "",
            "zerolinecolor": "#C8D4E3",
            "gridwidth": 2
           },
           "zaxis": {
            "backgroundcolor": "rgb(17,17,17)",
            "gridcolor": "#506784",
            "linecolor": "#506784",
            "showbackground": true,
            "ticks": "",
            "zerolinecolor": "#C8D4E3",
            "gridwidth": 2
           }
          },
          "shapedefaults": {
           "line": {
            "color": "#f2f5fa"
           }
          },
          "annotationdefaults": {
           "arrowcolor": "#f2f5fa",
           "arrowhead": 0,
           "arrowwidth": 1
          },
          "geo": {
           "bgcolor": "rgb(17,17,17)",
           "landcolor": "rgb(17,17,17)",
           "subunitcolor": "#506784",
           "showland": true,
           "showlakes": true,
           "lakecolor": "rgb(17,17,17)"
          },
          "title": {
           "x": 0.05
          },
          "updatemenudefaults": {
           "bgcolor": "#506784",
           "borderwidth": 0
          },
          "sliderdefaults": {
           "bgcolor": "#C8D4E3",
           "borderwidth": 1,
           "bordercolor": "rgb(17,17,17)",
           "tickwidth": 0
          },
          "mapbox": {
           "style": "dark"
          }
         }
        },
        "yaxis": {
         "title": {
          "text": "Ship"
         },
         "tickmode": "array",
         "tickvals": [
          0,
          1,
          2
         ],
         "ticktext": [
          "S1",
          "S2",
          "S3"
         ]
        },
        "title": {
         "text": "Crew Schedule for C064 (Role: cook)"
        },
        "xaxis": {
         "title": {
          "text": "Time"
         }
        },
        "showlegend": true,
        "height": 450
       },
       "config": {
        "plotlyServerURL": "https://plot.ly"
       }
      }
     },
     "metadata": {},
     "output_type": "display_data",
     "jetTransient": {
      "display_id": null
     }
    }
   ],
   "execution_count": 15
  },
  {
   "metadata": {
    "ExecuteTime": {
     "end_time": "2025-09-18T16:33:09.243425Z",
     "start_time": "2025-09-18T16:33:09.236692Z"
    }
   },
   "cell_type": "code",
   "source": [
    "lengths = {\n",
    "    crew_id: [(end - start).total_seconds() / 3600 for (ship, start, end, role) in ordered_shifts or []]\n",
    "    for crew_id, ordered_shifts in ordered_shifts_dict.items()\n",
    "}\n"
   ],
   "id": "ff0953f764066d5c",
   "outputs": [],
   "execution_count": 16
  },
  {
   "metadata": {
    "ExecuteTime": {
     "end_time": "2025-09-18T16:38:16.523968Z",
     "start_time": "2025-09-18T16:38:16.502650Z"
    }
   },
   "cell_type": "code",
   "source": [
    "# Build summary table with additional rest metrics: rests == 0 and rests < 0\n",
    "data = []\n",
    "for crew_id, shift_list in ordered_shifts_dict.items():\n",
    "    shift_list = shift_list or []\n",
    "    shift_lengths = lengths.get(crew_id, []) or []\n",
    "    rest_list = rests.get(crew_id, []) or []\n",
    "\n",
    "    data.append({\n",
    "        \"crew_id\": crew_id,\n",
    "        \"num_shifts\": len(shift_list),\n",
    "        \"num_shifts_gt_8h\": sum(1 for h in shift_lengths if h > 8),\n",
    "        \"num_rests\": len(rest_list),\n",
    "        \"num_rests_lt_12h\": sum(1 for r in rest_list if r < 12),\n",
    "        \"num_rests_eq_0h\": sum(1 for r in rest_list if r == 0),\n",
    "        \"num_rests_lt_0h\": sum(1 for r in rest_list if r < 0),\n",
    "    })\n",
    "\n",
    "report_df = pd.DataFrame(data).sort_values(\"crew_id\").reset_index(drop=True)\n",
    "report_df\n"
   ],
   "id": "62a9b0a281d446ce",
   "outputs": [
    {
     "data": {
      "text/plain": [
       "   crew_id  num_shifts  num_shifts_gt_8h  num_rests  num_rests_lt_12h  \\\n",
       "0     C001          43                 0         42                10   \n",
       "1     C002          44                 0         43                14   \n",
       "2     C003          49                 0         48                14   \n",
       "3     C005          72                 0         71                31   \n",
       "4     C006          53                 0         52                19   \n",
       "..     ...         ...               ...        ...               ...   \n",
       "76    C101          47                 0         46                15   \n",
       "77    C103          44                 0         43                16   \n",
       "78    C105          52                 0         51                16   \n",
       "79    C107          50                 0         49                18   \n",
       "80    C108          39                 0         38                13   \n",
       "\n",
       "    num_rests_eq_0h  num_rests_lt_0h  \n",
       "0                 4                0  \n",
       "1                 5                3  \n",
       "2                 3                7  \n",
       "3                13                7  \n",
       "4                13                4  \n",
       "..              ...              ...  \n",
       "76                6                4  \n",
       "77                8                4  \n",
       "78                8                2  \n",
       "79                9                2  \n",
       "80                4                3  \n",
       "\n",
       "[81 rows x 7 columns]"
      ],
      "text/html": [
       "<div>\n",
       "<style scoped>\n",
       "    .dataframe tbody tr th:only-of-type {\n",
       "        vertical-align: middle;\n",
       "    }\n",
       "\n",
       "    .dataframe tbody tr th {\n",
       "        vertical-align: top;\n",
       "    }\n",
       "\n",
       "    .dataframe thead th {\n",
       "        text-align: right;\n",
       "    }\n",
       "</style>\n",
       "<table border=\"1\" class=\"dataframe\">\n",
       "  <thead>\n",
       "    <tr style=\"text-align: right;\">\n",
       "      <th></th>\n",
       "      <th>crew_id</th>\n",
       "      <th>num_shifts</th>\n",
       "      <th>num_shifts_gt_8h</th>\n",
       "      <th>num_rests</th>\n",
       "      <th>num_rests_lt_12h</th>\n",
       "      <th>num_rests_eq_0h</th>\n",
       "      <th>num_rests_lt_0h</th>\n",
       "    </tr>\n",
       "  </thead>\n",
       "  <tbody>\n",
       "    <tr>\n",
       "      <th>0</th>\n",
       "      <td>C001</td>\n",
       "      <td>43</td>\n",
       "      <td>0</td>\n",
       "      <td>42</td>\n",
       "      <td>10</td>\n",
       "      <td>4</td>\n",
       "      <td>0</td>\n",
       "    </tr>\n",
       "    <tr>\n",
       "      <th>1</th>\n",
       "      <td>C002</td>\n",
       "      <td>44</td>\n",
       "      <td>0</td>\n",
       "      <td>43</td>\n",
       "      <td>14</td>\n",
       "      <td>5</td>\n",
       "      <td>3</td>\n",
       "    </tr>\n",
       "    <tr>\n",
       "      <th>2</th>\n",
       "      <td>C003</td>\n",
       "      <td>49</td>\n",
       "      <td>0</td>\n",
       "      <td>48</td>\n",
       "      <td>14</td>\n",
       "      <td>3</td>\n",
       "      <td>7</td>\n",
       "    </tr>\n",
       "    <tr>\n",
       "      <th>3</th>\n",
       "      <td>C005</td>\n",
       "      <td>72</td>\n",
       "      <td>0</td>\n",
       "      <td>71</td>\n",
       "      <td>31</td>\n",
       "      <td>13</td>\n",
       "      <td>7</td>\n",
       "    </tr>\n",
       "    <tr>\n",
       "      <th>4</th>\n",
       "      <td>C006</td>\n",
       "      <td>53</td>\n",
       "      <td>0</td>\n",
       "      <td>52</td>\n",
       "      <td>19</td>\n",
       "      <td>13</td>\n",
       "      <td>4</td>\n",
       "    </tr>\n",
       "    <tr>\n",
       "      <th>...</th>\n",
       "      <td>...</td>\n",
       "      <td>...</td>\n",
       "      <td>...</td>\n",
       "      <td>...</td>\n",
       "      <td>...</td>\n",
       "      <td>...</td>\n",
       "      <td>...</td>\n",
       "    </tr>\n",
       "    <tr>\n",
       "      <th>76</th>\n",
       "      <td>C101</td>\n",
       "      <td>47</td>\n",
       "      <td>0</td>\n",
       "      <td>46</td>\n",
       "      <td>15</td>\n",
       "      <td>6</td>\n",
       "      <td>4</td>\n",
       "    </tr>\n",
       "    <tr>\n",
       "      <th>77</th>\n",
       "      <td>C103</td>\n",
       "      <td>44</td>\n",
       "      <td>0</td>\n",
       "      <td>43</td>\n",
       "      <td>16</td>\n",
       "      <td>8</td>\n",
       "      <td>4</td>\n",
       "    </tr>\n",
       "    <tr>\n",
       "      <th>78</th>\n",
       "      <td>C105</td>\n",
       "      <td>52</td>\n",
       "      <td>0</td>\n",
       "      <td>51</td>\n",
       "      <td>16</td>\n",
       "      <td>8</td>\n",
       "      <td>2</td>\n",
       "    </tr>\n",
       "    <tr>\n",
       "      <th>79</th>\n",
       "      <td>C107</td>\n",
       "      <td>50</td>\n",
       "      <td>0</td>\n",
       "      <td>49</td>\n",
       "      <td>18</td>\n",
       "      <td>9</td>\n",
       "      <td>2</td>\n",
       "    </tr>\n",
       "    <tr>\n",
       "      <th>80</th>\n",
       "      <td>C108</td>\n",
       "      <td>39</td>\n",
       "      <td>0</td>\n",
       "      <td>38</td>\n",
       "      <td>13</td>\n",
       "      <td>4</td>\n",
       "      <td>3</td>\n",
       "    </tr>\n",
       "  </tbody>\n",
       "</table>\n",
       "<p>81 rows × 7 columns</p>\n",
       "</div>"
      ]
     },
     "execution_count": 18,
     "metadata": {},
     "output_type": "execute_result"
    }
   ],
   "execution_count": 18
  },
  {
   "metadata": {},
   "cell_type": "markdown",
   "source": "The following metrics correspond to 3 KPI's that measure the quality of the scheduling presented in the crew_shifts_hist.csv",
   "id": "2b166f5bcb3760ab"
  },
  {
   "metadata": {
    "ExecuteTime": {
     "end_time": "2025-09-18T16:52:33.795423Z",
     "start_time": "2025-09-18T16:52:33.788623Z"
    }
   },
   "cell_type": "code",
   "source": [
    "consecutive_shifts = sum(report_df[\"num_rests_eq_0h\"])\n",
    "print(\"There are\", consecutive_shifts, \"consecutive shifts.\")\n",
    "infeasible_assignations = sum(report_df[\"num_rests_lt_0h\"])\n",
    "print(\"There are\", infeasible_assignations, \"infeasible assignations.\")\n",
    "total_not_allowed_rests = sum(report_df[\"num_rests_lt_12h\"])\n",
    "print(\"There are\", total_not_allowed_rests, \"rests that are shorter than 12 hours.\")\n",
    "total_number_of_shifts = sum(report_df[\"num_shifts\"])\n",
    "print(\"There are\", total_number_of_shifts, \"shifts in total.\")"
   ],
   "id": "2c3c205a88e7532b",
   "outputs": [
    {
     "name": "stdout",
     "output_type": "stream",
     "text": [
      "There are 478 consecutive shifts.\n",
      "There are 237 infeasible assignations.\n",
      "There are 1101 rests that are shorter than 12 hours.\n",
      "There are 3686 shifts in total.\n"
     ]
    }
   ],
   "execution_count": 22
  },
  {
   "metadata": {},
   "cell_type": "markdown",
   "source": [
    "## Consecutive Shifts\n",
    "This shifts are that were concatenated with 0 rest time, this means the crew member is supposed to work 16 hours in a row.\n",
    "\n",
    "## Infeasible Assignations\n",
    "There are cases where the crew member is supposed to work in 2 Ships during the same hours.\n",
    "\n",
    "The C064 has examples of both"
   ],
   "id": "2609812f82a445ed"
  },
  {
   "metadata": {
    "ExecuteTime": {
     "end_time": "2025-09-18T16:59:06.748561Z",
     "start_time": "2025-09-18T16:59:06.705090Z"
    }
   },
   "cell_type": "code",
   "source": "_=plot_crew_schedule(df,\"C064\", plot=True)",
   "id": "3ed1fc707b2147f1",
   "outputs": [
    {
     "data": {
      "application/vnd.plotly.v1+json": {
       "data": [
        {
         "hovertemplate": "Ship: S1<br>Role: cook<br>Shift length: 8.0 hours<br>%{x|%Y-%m-%d %H:%M}",
         "line": {
          "width": 10
         },
         "mode": "lines",
         "name": "S1 (8.0h)",
         "x": [
          "2025-05-01T18:00:00-05:00",
          "2025-05-02T02:00:00-05:00"
         ],
         "y": [
          0,
          0
         ],
         "type": "scatter"
        },
        {
         "hovertemplate": "Ship: S3<br>Role: cook<br>Shift length: 8.0 hours<br>%{x|%Y-%m-%d %H:%M}",
         "line": {
          "width": 10
         },
         "mode": "lines",
         "name": "S3 (8.0h)",
         "x": [
          "2025-05-02T02:00:00-05:00",
          "2025-05-02T10:00:00-05:00"
         ],
         "y": [
          2,
          2
         ],
         "type": "scatter"
        },
        {
         "hovertemplate": "Ship: S2<br>Role: cook<br>Shift length: 8.0 hours<br>%{x|%Y-%m-%d %H:%M}",
         "line": {
          "width": 10
         },
         "mode": "lines",
         "name": "S2 (8.0h)",
         "x": [
          "2025-05-06T10:00:00-05:00",
          "2025-05-06T18:00:00-05:00"
         ],
         "y": [
          1,
          1
         ],
         "type": "scatter"
        },
        {
         "hovertemplate": "Ship: S2<br>Role: cook<br>Shift length: 8.0 hours<br>%{x|%Y-%m-%d %H:%M}",
         "line": {
          "width": 10
         },
         "mode": "lines",
         "name": "S2 (8.0h)",
         "x": [
          "2025-05-07T18:00:00-05:00",
          "2025-05-08T02:00:00-05:00"
         ],
         "y": [
          1,
          1
         ],
         "type": "scatter"
        },
        {
         "hovertemplate": "Ship: S2<br>Role: cook<br>Shift length: 8.0 hours<br>%{x|%Y-%m-%d %H:%M}",
         "line": {
          "width": 10
         },
         "mode": "lines",
         "name": "S2 (8.0h)",
         "x": [
          "2025-05-09T10:00:00-05:00",
          "2025-05-09T18:00:00-05:00"
         ],
         "y": [
          1,
          1
         ],
         "type": "scatter"
        },
        {
         "hovertemplate": "Ship: S1<br>Role: cook<br>Shift length: 8.0 hours<br>%{x|%Y-%m-%d %H:%M}",
         "line": {
          "width": 10
         },
         "mode": "lines",
         "name": "S1 (8.0h)",
         "x": [
          "2025-05-10T10:00:00-05:00",
          "2025-05-10T18:00:00-05:00"
         ],
         "y": [
          0,
          0
         ],
         "type": "scatter"
        },
        {
         "hovertemplate": "Ship: S2<br>Role: cook<br>Shift length: 8.0 hours<br>%{x|%Y-%m-%d %H:%M}",
         "line": {
          "width": 10
         },
         "mode": "lines",
         "name": "S2 (8.0h)",
         "x": [
          "2025-05-10T10:00:00-05:00",
          "2025-05-10T18:00:00-05:00"
         ],
         "y": [
          1,
          1
         ],
         "type": "scatter"
        },
        {
         "hovertemplate": "Ship: S3<br>Role: cook<br>Shift length: 8.0 hours<br>%{x|%Y-%m-%d %H:%M}",
         "line": {
          "width": 10
         },
         "mode": "lines",
         "name": "S3 (8.0h)",
         "x": [
          "2025-05-10T18:00:00-05:00",
          "2025-05-11T02:00:00-05:00"
         ],
         "y": [
          2,
          2
         ],
         "type": "scatter"
        },
        {
         "hovertemplate": "Ship: S2<br>Role: cook<br>Shift length: 8.0 hours<br>%{x|%Y-%m-%d %H:%M}",
         "line": {
          "width": 10
         },
         "mode": "lines",
         "name": "S2 (8.0h)",
         "x": [
          "2025-05-11T10:00:00-05:00",
          "2025-05-11T18:00:00-05:00"
         ],
         "y": [
          1,
          1
         ],
         "type": "scatter"
        },
        {
         "hovertemplate": "Ship: S1<br>Role: cook<br>Shift length: 8.0 hours<br>%{x|%Y-%m-%d %H:%M}",
         "line": {
          "width": 10
         },
         "mode": "lines",
         "name": "S1 (8.0h)",
         "x": [
          "2025-05-11T10:00:00-05:00",
          "2025-05-11T18:00:00-05:00"
         ],
         "y": [
          0,
          0
         ],
         "type": "scatter"
        },
        {
         "hovertemplate": "Ship: S3<br>Role: cook<br>Shift length: 8.0 hours<br>%{x|%Y-%m-%d %H:%M}",
         "line": {
          "width": 10
         },
         "mode": "lines",
         "name": "S3 (8.0h)",
         "x": [
          "2025-05-12T18:00:00-05:00",
          "2025-05-13T02:00:00-05:00"
         ],
         "y": [
          2,
          2
         ],
         "type": "scatter"
        },
        {
         "hovertemplate": "Ship: S1<br>Role: cook<br>Shift length: 8.0 hours<br>%{x|%Y-%m-%d %H:%M}",
         "line": {
          "width": 10
         },
         "mode": "lines",
         "name": "S1 (8.0h)",
         "x": [
          "2025-05-13T02:00:00-05:00",
          "2025-05-13T10:00:00-05:00"
         ],
         "y": [
          0,
          0
         ],
         "type": "scatter"
        },
        {
         "hovertemplate": "Ship: S2<br>Role: cook<br>Shift length: 8.0 hours<br>%{x|%Y-%m-%d %H:%M}",
         "line": {
          "width": 10
         },
         "mode": "lines",
         "name": "S2 (8.0h)",
         "x": [
          "2025-05-13T10:00:00-05:00",
          "2025-05-13T18:00:00-05:00"
         ],
         "y": [
          1,
          1
         ],
         "type": "scatter"
        },
        {
         "hovertemplate": "Ship: S2<br>Role: cook<br>Shift length: 8.0 hours<br>%{x|%Y-%m-%d %H:%M}",
         "line": {
          "width": 10
         },
         "mode": "lines",
         "name": "S2 (8.0h)",
         "x": [
          "2025-05-17T10:00:00-05:00",
          "2025-05-17T18:00:00-05:00"
         ],
         "y": [
          1,
          1
         ],
         "type": "scatter"
        },
        {
         "hovertemplate": "Ship: S1<br>Role: cook<br>Shift length: 8.0 hours<br>%{x|%Y-%m-%d %H:%M}",
         "line": {
          "width": 10
         },
         "mode": "lines",
         "name": "S1 (8.0h)",
         "x": [
          "2025-05-18T18:00:00-05:00",
          "2025-05-19T02:00:00-05:00"
         ],
         "y": [
          0,
          0
         ],
         "type": "scatter"
        },
        {
         "hovertemplate": "Ship: S1<br>Role: cook<br>Shift length: 8.0 hours<br>%{x|%Y-%m-%d %H:%M}",
         "line": {
          "width": 10
         },
         "mode": "lines",
         "name": "S1 (8.0h)",
         "x": [
          "2025-05-21T10:00:00-05:00",
          "2025-05-21T18:00:00-05:00"
         ],
         "y": [
          0,
          0
         ],
         "type": "scatter"
        },
        {
         "hovertemplate": "Ship: S2<br>Role: cook<br>Shift length: 8.0 hours<br>%{x|%Y-%m-%d %H:%M}",
         "line": {
          "width": 10
         },
         "mode": "lines",
         "name": "S2 (8.0h)",
         "x": [
          "2025-05-26T02:00:00-05:00",
          "2025-05-26T10:00:00-05:00"
         ],
         "y": [
          1,
          1
         ],
         "type": "scatter"
        },
        {
         "hovertemplate": "Ship: S3<br>Role: cook<br>Shift length: 8.0 hours<br>%{x|%Y-%m-%d %H:%M}",
         "line": {
          "width": 10
         },
         "mode": "lines",
         "name": "S3 (8.0h)",
         "x": [
          "2025-05-27T10:00:00-05:00",
          "2025-05-27T18:00:00-05:00"
         ],
         "y": [
          2,
          2
         ],
         "type": "scatter"
        },
        {
         "hovertemplate": "Ship: S3<br>Role: cook<br>Shift length: 8.0 hours<br>%{x|%Y-%m-%d %H:%M}",
         "line": {
          "width": 10
         },
         "mode": "lines",
         "name": "S3 (8.0h)",
         "x": [
          "2025-06-01T02:00:00-05:00",
          "2025-06-01T10:00:00-05:00"
         ],
         "y": [
          2,
          2
         ],
         "type": "scatter"
        },
        {
         "hovertemplate": "Ship: S3<br>Role: cook<br>Shift length: 8.0 hours<br>%{x|%Y-%m-%d %H:%M}",
         "line": {
          "width": 10
         },
         "mode": "lines",
         "name": "S3 (8.0h)",
         "x": [
          "2025-06-06T10:00:00-05:00",
          "2025-06-06T18:00:00-05:00"
         ],
         "y": [
          2,
          2
         ],
         "type": "scatter"
        },
        {
         "hovertemplate": "Ship: S1<br>Role: cook<br>Shift length: 8.0 hours<br>%{x|%Y-%m-%d %H:%M}",
         "line": {
          "width": 10
         },
         "mode": "lines",
         "name": "S1 (8.0h)",
         "x": [
          "2025-06-10T02:00:00-05:00",
          "2025-06-10T10:00:00-05:00"
         ],
         "y": [
          0,
          0
         ],
         "type": "scatter"
        },
        {
         "hovertemplate": "Ship: S2<br>Role: cook<br>Shift length: 8.0 hours<br>%{x|%Y-%m-%d %H:%M}",
         "line": {
          "width": 10
         },
         "mode": "lines",
         "name": "S2 (8.0h)",
         "x": [
          "2025-06-12T18:00:00-05:00",
          "2025-06-13T02:00:00-05:00"
         ],
         "y": [
          1,
          1
         ],
         "type": "scatter"
        },
        {
         "hovertemplate": "Ship: S3<br>Role: cook<br>Shift length: 8.0 hours<br>%{x|%Y-%m-%d %H:%M}",
         "line": {
          "width": 10
         },
         "mode": "lines",
         "name": "S3 (8.0h)",
         "x": [
          "2025-06-13T02:00:00-05:00",
          "2025-06-13T10:00:00-05:00"
         ],
         "y": [
          2,
          2
         ],
         "type": "scatter"
        },
        {
         "hovertemplate": "Ship: S3<br>Role: cook<br>Shift length: 8.0 hours<br>%{x|%Y-%m-%d %H:%M}",
         "line": {
          "width": 10
         },
         "mode": "lines",
         "name": "S3 (8.0h)",
         "x": [
          "2025-06-13T10:00:00-05:00",
          "2025-06-13T18:00:00-05:00"
         ],
         "y": [
          2,
          2
         ],
         "type": "scatter"
        },
        {
         "hovertemplate": "Ship: S1<br>Role: cook<br>Shift length: 8.0 hours<br>%{x|%Y-%m-%d %H:%M}",
         "line": {
          "width": 10
         },
         "mode": "lines",
         "name": "S1 (8.0h)",
         "x": [
          "2025-06-14T02:00:00-05:00",
          "2025-06-14T10:00:00-05:00"
         ],
         "y": [
          0,
          0
         ],
         "type": "scatter"
        },
        {
         "hovertemplate": "Ship: S3<br>Role: cook<br>Shift length: 8.0 hours<br>%{x|%Y-%m-%d %H:%M}",
         "line": {
          "width": 10
         },
         "mode": "lines",
         "name": "S3 (8.0h)",
         "x": [
          "2025-06-15T02:00:00-05:00",
          "2025-06-15T10:00:00-05:00"
         ],
         "y": [
          2,
          2
         ],
         "type": "scatter"
        },
        {
         "hovertemplate": "Ship: S1<br>Role: cook<br>Shift length: 8.0 hours<br>%{x|%Y-%m-%d %H:%M}",
         "line": {
          "width": 10
         },
         "mode": "lines",
         "name": "S1 (8.0h)",
         "x": [
          "2025-06-15T18:00:00-05:00",
          "2025-06-16T02:00:00-05:00"
         ],
         "y": [
          0,
          0
         ],
         "type": "scatter"
        },
        {
         "hovertemplate": "Ship: S2<br>Role: cook<br>Shift length: 8.0 hours<br>%{x|%Y-%m-%d %H:%M}",
         "line": {
          "width": 10
         },
         "mode": "lines",
         "name": "S2 (8.0h)",
         "x": [
          "2025-06-15T18:00:00-05:00",
          "2025-06-16T02:00:00-05:00"
         ],
         "y": [
          1,
          1
         ],
         "type": "scatter"
        },
        {
         "hovertemplate": "Ship: S2<br>Role: cook<br>Shift length: 8.0 hours<br>%{x|%Y-%m-%d %H:%M}",
         "line": {
          "width": 10
         },
         "mode": "lines",
         "name": "S2 (8.0h)",
         "x": [
          "2025-06-18T10:00:00-05:00",
          "2025-06-18T18:00:00-05:00"
         ],
         "y": [
          1,
          1
         ],
         "type": "scatter"
        },
        {
         "hovertemplate": "Ship: S2<br>Role: cook<br>Shift length: 8.0 hours<br>%{x|%Y-%m-%d %H:%M}",
         "line": {
          "width": 10
         },
         "mode": "lines",
         "name": "S2 (8.0h)",
         "x": [
          "2025-06-20T18:00:00-05:00",
          "2025-06-21T02:00:00-05:00"
         ],
         "y": [
          1,
          1
         ],
         "type": "scatter"
        },
        {
         "hovertemplate": "Ship: S3<br>Role: cook<br>Shift length: 8.0 hours<br>%{x|%Y-%m-%d %H:%M}",
         "line": {
          "width": 10
         },
         "mode": "lines",
         "name": "S3 (8.0h)",
         "x": [
          "2025-06-22T02:00:00-05:00",
          "2025-06-22T10:00:00-05:00"
         ],
         "y": [
          2,
          2
         ],
         "type": "scatter"
        },
        {
         "hovertemplate": "Ship: S3<br>Role: cook<br>Shift length: 8.0 hours<br>%{x|%Y-%m-%d %H:%M}",
         "line": {
          "width": 10
         },
         "mode": "lines",
         "name": "S3 (8.0h)",
         "x": [
          "2025-06-23T10:00:00-05:00",
          "2025-06-23T18:00:00-05:00"
         ],
         "y": [
          2,
          2
         ],
         "type": "scatter"
        },
        {
         "hovertemplate": "Ship: S3<br>Role: cook<br>Shift length: 8.0 hours<br>%{x|%Y-%m-%d %H:%M}",
         "line": {
          "width": 10
         },
         "mode": "lines",
         "name": "S3 (8.0h)",
         "x": [
          "2025-06-25T18:00:00-05:00",
          "2025-06-26T02:00:00-05:00"
         ],
         "y": [
          2,
          2
         ],
         "type": "scatter"
        },
        {
         "hovertemplate": "Ship: S2<br>Role: cook<br>Shift length: 8.0 hours<br>%{x|%Y-%m-%d %H:%M}",
         "line": {
          "width": 10
         },
         "mode": "lines",
         "name": "S2 (8.0h)",
         "x": [
          "2025-06-30T18:00:00-05:00",
          "2025-07-01T02:00:00-05:00"
         ],
         "y": [
          1,
          1
         ],
         "type": "scatter"
        },
        {
         "hovertemplate": "Ship: S3<br>Role: cook<br>Shift length: 8.0 hours<br>%{x|%Y-%m-%d %H:%M}",
         "line": {
          "width": 10
         },
         "mode": "lines",
         "name": "S3 (8.0h)",
         "x": [
          "2025-07-03T10:00:00-05:00",
          "2025-07-03T18:00:00-05:00"
         ],
         "y": [
          2,
          2
         ],
         "type": "scatter"
        },
        {
         "hovertemplate": "Ship: S1<br>Role: cook<br>Shift length: 8.0 hours<br>%{x|%Y-%m-%d %H:%M}",
         "line": {
          "width": 10
         },
         "mode": "lines",
         "name": "S1 (8.0h)",
         "x": [
          "2025-07-04T02:00:00-05:00",
          "2025-07-04T10:00:00-05:00"
         ],
         "y": [
          0,
          0
         ],
         "type": "scatter"
        },
        {
         "hovertemplate": "Ship: S3<br>Role: cook<br>Shift length: 8.0 hours<br>%{x|%Y-%m-%d %H:%M}",
         "line": {
          "width": 10
         },
         "mode": "lines",
         "name": "S3 (8.0h)",
         "x": [
          "2025-07-05T02:00:00-05:00",
          "2025-07-05T10:00:00-05:00"
         ],
         "y": [
          2,
          2
         ],
         "type": "scatter"
        },
        {
         "hovertemplate": "Ship: S2<br>Role: cook<br>Shift length: 8.0 hours<br>%{x|%Y-%m-%d %H:%M}",
         "line": {
          "width": 10
         },
         "mode": "lines",
         "name": "S2 (8.0h)",
         "x": [
          "2025-07-05T18:00:00-05:00",
          "2025-07-06T02:00:00-05:00"
         ],
         "y": [
          1,
          1
         ],
         "type": "scatter"
        },
        {
         "hovertemplate": "Ship: S1<br>Role: cook<br>Shift length: 8.0 hours<br>%{x|%Y-%m-%d %H:%M}",
         "line": {
          "width": 10
         },
         "mode": "lines",
         "name": "S1 (8.0h)",
         "x": [
          "2025-07-06T18:00:00-05:00",
          "2025-07-07T02:00:00-05:00"
         ],
         "y": [
          0,
          0
         ],
         "type": "scatter"
        },
        {
         "hovertemplate": "Ship: S1<br>Role: cook<br>Shift length: 8.0 hours<br>%{x|%Y-%m-%d %H:%M}",
         "line": {
          "width": 10
         },
         "mode": "lines",
         "name": "S1 (8.0h)",
         "x": [
          "2025-07-09T02:00:00-05:00",
          "2025-07-09T10:00:00-05:00"
         ],
         "y": [
          0,
          0
         ],
         "type": "scatter"
        },
        {
         "hovertemplate": "Ship: S2<br>Role: cook<br>Shift length: 8.0 hours<br>%{x|%Y-%m-%d %H:%M}",
         "line": {
          "width": 10
         },
         "mode": "lines",
         "name": "S2 (8.0h)",
         "x": [
          "2025-07-09T02:00:00-05:00",
          "2025-07-09T10:00:00-05:00"
         ],
         "y": [
          1,
          1
         ],
         "type": "scatter"
        },
        {
         "hovertemplate": "Ship: S2<br>Role: cook<br>Shift length: 8.0 hours<br>%{x|%Y-%m-%d %H:%M}",
         "line": {
          "width": 10
         },
         "mode": "lines",
         "name": "S2 (8.0h)",
         "x": [
          "2025-07-11T18:00:00-05:00",
          "2025-07-12T02:00:00-05:00"
         ],
         "y": [
          1,
          1
         ],
         "type": "scatter"
        },
        {
         "hovertemplate": "Ship: S1<br>Role: cook<br>Shift length: 8.0 hours<br>%{x|%Y-%m-%d %H:%M}",
         "line": {
          "width": 10
         },
         "mode": "lines",
         "name": "S1 (8.0h)",
         "x": [
          "2025-07-13T02:00:00-05:00",
          "2025-07-13T10:00:00-05:00"
         ],
         "y": [
          0,
          0
         ],
         "type": "scatter"
        },
        {
         "hovertemplate": "Ship: S1<br>Role: cook<br>Shift length: 8.0 hours<br>%{x|%Y-%m-%d %H:%M}",
         "line": {
          "width": 10
         },
         "mode": "lines",
         "name": "S1 (8.0h)",
         "x": [
          "2025-07-14T10:00:00-05:00",
          "2025-07-14T18:00:00-05:00"
         ],
         "y": [
          0,
          0
         ],
         "type": "scatter"
        },
        {
         "hovertemplate": "Ship: S1<br>Role: cook<br>Shift length: 8.0 hours<br>%{x|%Y-%m-%d %H:%M}",
         "line": {
          "width": 10
         },
         "mode": "lines",
         "name": "S1 (8.0h)",
         "x": [
          "2025-07-15T10:00:00-05:00",
          "2025-07-15T18:00:00-05:00"
         ],
         "y": [
          0,
          0
         ],
         "type": "scatter"
        },
        {
         "hovertemplate": "Ship: S3<br>Role: cook<br>Shift length: 8.0 hours<br>%{x|%Y-%m-%d %H:%M}",
         "line": {
          "width": 10
         },
         "mode": "lines",
         "name": "S3 (8.0h)",
         "x": [
          "2025-07-20T10:00:00-05:00",
          "2025-07-20T18:00:00-05:00"
         ],
         "y": [
          2,
          2
         ],
         "type": "scatter"
        },
        {
         "hovertemplate": "Ship: S1<br>Role: cook<br>Shift length: 8.0 hours<br>%{x|%Y-%m-%d %H:%M}",
         "line": {
          "width": 10
         },
         "mode": "lines",
         "name": "S1 (8.0h)",
         "x": [
          "2025-07-20T18:00:00-05:00",
          "2025-07-21T02:00:00-05:00"
         ],
         "y": [
          0,
          0
         ],
         "type": "scatter"
        },
        {
         "hovertemplate": "Ship: S2<br>Role: cook<br>Shift length: 8.0 hours<br>%{x|%Y-%m-%d %H:%M}",
         "line": {
          "width": 10
         },
         "mode": "lines",
         "name": "S2 (8.0h)",
         "x": [
          "2025-07-22T02:00:00-05:00",
          "2025-07-22T10:00:00-05:00"
         ],
         "y": [
          1,
          1
         ],
         "type": "scatter"
        },
        {
         "hovertemplate": "Ship: S3<br>Role: cook<br>Shift length: 8.0 hours<br>%{x|%Y-%m-%d %H:%M}",
         "line": {
          "width": 10
         },
         "mode": "lines",
         "name": "S3 (8.0h)",
         "x": [
          "2025-07-23T02:00:00-05:00",
          "2025-07-23T10:00:00-05:00"
         ],
         "y": [
          2,
          2
         ],
         "type": "scatter"
        },
        {
         "hovertemplate": "Ship: S1<br>Role: cook<br>Shift length: 8.0 hours<br>%{x|%Y-%m-%d %H:%M}",
         "line": {
          "width": 10
         },
         "mode": "lines",
         "name": "S1 (8.0h)",
         "x": [
          "2025-07-24T18:00:00-05:00",
          "2025-07-25T02:00:00-05:00"
         ],
         "y": [
          0,
          0
         ],
         "type": "scatter"
        }
       ],
       "layout": {
        "template": {
         "data": {
          "histogram2dcontour": [
           {
            "type": "histogram2dcontour",
            "colorbar": {
             "outlinewidth": 0,
             "ticks": ""
            },
            "colorscale": [
             [
              0.0,
              "#0d0887"
             ],
             [
              0.1111111111111111,
              "#46039f"
             ],
             [
              0.2222222222222222,
              "#7201a8"
             ],
             [
              0.3333333333333333,
              "#9c179e"
             ],
             [
              0.4444444444444444,
              "#bd3786"
             ],
             [
              0.5555555555555556,
              "#d8576b"
             ],
             [
              0.6666666666666666,
              "#ed7953"
             ],
             [
              0.7777777777777778,
              "#fb9f3a"
             ],
             [
              0.8888888888888888,
              "#fdca26"
             ],
             [
              1.0,
              "#f0f921"
             ]
            ]
           }
          ],
          "choropleth": [
           {
            "type": "choropleth",
            "colorbar": {
             "outlinewidth": 0,
             "ticks": ""
            }
           }
          ],
          "histogram2d": [
           {
            "type": "histogram2d",
            "colorbar": {
             "outlinewidth": 0,
             "ticks": ""
            },
            "colorscale": [
             [
              0.0,
              "#0d0887"
             ],
             [
              0.1111111111111111,
              "#46039f"
             ],
             [
              0.2222222222222222,
              "#7201a8"
             ],
             [
              0.3333333333333333,
              "#9c179e"
             ],
             [
              0.4444444444444444,
              "#bd3786"
             ],
             [
              0.5555555555555556,
              "#d8576b"
             ],
             [
              0.6666666666666666,
              "#ed7953"
             ],
             [
              0.7777777777777778,
              "#fb9f3a"
             ],
             [
              0.8888888888888888,
              "#fdca26"
             ],
             [
              1.0,
              "#f0f921"
             ]
            ]
           }
          ],
          "heatmap": [
           {
            "type": "heatmap",
            "colorbar": {
             "outlinewidth": 0,
             "ticks": ""
            },
            "colorscale": [
             [
              0.0,
              "#0d0887"
             ],
             [
              0.1111111111111111,
              "#46039f"
             ],
             [
              0.2222222222222222,
              "#7201a8"
             ],
             [
              0.3333333333333333,
              "#9c179e"
             ],
             [
              0.4444444444444444,
              "#bd3786"
             ],
             [
              0.5555555555555556,
              "#d8576b"
             ],
             [
              0.6666666666666666,
              "#ed7953"
             ],
             [
              0.7777777777777778,
              "#fb9f3a"
             ],
             [
              0.8888888888888888,
              "#fdca26"
             ],
             [
              1.0,
              "#f0f921"
             ]
            ]
           }
          ],
          "contourcarpet": [
           {
            "type": "contourcarpet",
            "colorbar": {
             "outlinewidth": 0,
             "ticks": ""
            }
           }
          ],
          "contour": [
           {
            "type": "contour",
            "colorbar": {
             "outlinewidth": 0,
             "ticks": ""
            },
            "colorscale": [
             [
              0.0,
              "#0d0887"
             ],
             [
              0.1111111111111111,
              "#46039f"
             ],
             [
              0.2222222222222222,
              "#7201a8"
             ],
             [
              0.3333333333333333,
              "#9c179e"
             ],
             [
              0.4444444444444444,
              "#bd3786"
             ],
             [
              0.5555555555555556,
              "#d8576b"
             ],
             [
              0.6666666666666666,
              "#ed7953"
             ],
             [
              0.7777777777777778,
              "#fb9f3a"
             ],
             [
              0.8888888888888888,
              "#fdca26"
             ],
             [
              1.0,
              "#f0f921"
             ]
            ]
           }
          ],
          "surface": [
           {
            "type": "surface",
            "colorbar": {
             "outlinewidth": 0,
             "ticks": ""
            },
            "colorscale": [
             [
              0.0,
              "#0d0887"
             ],
             [
              0.1111111111111111,
              "#46039f"
             ],
             [
              0.2222222222222222,
              "#7201a8"
             ],
             [
              0.3333333333333333,
              "#9c179e"
             ],
             [
              0.4444444444444444,
              "#bd3786"
             ],
             [
              0.5555555555555556,
              "#d8576b"
             ],
             [
              0.6666666666666666,
              "#ed7953"
             ],
             [
              0.7777777777777778,
              "#fb9f3a"
             ],
             [
              0.8888888888888888,
              "#fdca26"
             ],
             [
              1.0,
              "#f0f921"
             ]
            ]
           }
          ],
          "mesh3d": [
           {
            "type": "mesh3d",
            "colorbar": {
             "outlinewidth": 0,
             "ticks": ""
            }
           }
          ],
          "scatter": [
           {
            "marker": {
             "line": {
              "color": "#283442"
             }
            },
            "type": "scatter"
           }
          ],
          "parcoords": [
           {
            "type": "parcoords",
            "line": {
             "colorbar": {
              "outlinewidth": 0,
              "ticks": ""
             }
            }
           }
          ],
          "scatterpolargl": [
           {
            "type": "scatterpolargl",
            "marker": {
             "colorbar": {
              "outlinewidth": 0,
              "ticks": ""
             }
            }
           }
          ],
          "bar": [
           {
            "error_x": {
             "color": "#f2f5fa"
            },
            "error_y": {
             "color": "#f2f5fa"
            },
            "marker": {
             "line": {
              "color": "rgb(17,17,17)",
              "width": 0.5
             },
             "pattern": {
              "fillmode": "overlay",
              "size": 10,
              "solidity": 0.2
             }
            },
            "type": "bar"
           }
          ],
          "scattergeo": [
           {
            "type": "scattergeo",
            "marker": {
             "colorbar": {
              "outlinewidth": 0,
              "ticks": ""
             }
            }
           }
          ],
          "scatterpolar": [
           {
            "type": "scatterpolar",
            "marker": {
             "colorbar": {
              "outlinewidth": 0,
              "ticks": ""
             }
            }
           }
          ],
          "histogram": [
           {
            "marker": {
             "pattern": {
              "fillmode": "overlay",
              "size": 10,
              "solidity": 0.2
             }
            },
            "type": "histogram"
           }
          ],
          "scattergl": [
           {
            "marker": {
             "line": {
              "color": "#283442"
             }
            },
            "type": "scattergl"
           }
          ],
          "scatter3d": [
           {
            "type": "scatter3d",
            "line": {
             "colorbar": {
              "outlinewidth": 0,
              "ticks": ""
             }
            },
            "marker": {
             "colorbar": {
              "outlinewidth": 0,
              "ticks": ""
             }
            }
           }
          ],
          "scattermap": [
           {
            "type": "scattermap",
            "marker": {
             "colorbar": {
              "outlinewidth": 0,
              "ticks": ""
             }
            }
           }
          ],
          "scattermapbox": [
           {
            "type": "scattermapbox",
            "marker": {
             "colorbar": {
              "outlinewidth": 0,
              "ticks": ""
             }
            }
           }
          ],
          "scatterternary": [
           {
            "type": "scatterternary",
            "marker": {
             "colorbar": {
              "outlinewidth": 0,
              "ticks": ""
             }
            }
           }
          ],
          "scattercarpet": [
           {
            "type": "scattercarpet",
            "marker": {
             "colorbar": {
              "outlinewidth": 0,
              "ticks": ""
             }
            }
           }
          ],
          "carpet": [
           {
            "aaxis": {
             "endlinecolor": "#A2B1C6",
             "gridcolor": "#506784",
             "linecolor": "#506784",
             "minorgridcolor": "#506784",
             "startlinecolor": "#A2B1C6"
            },
            "baxis": {
             "endlinecolor": "#A2B1C6",
             "gridcolor": "#506784",
             "linecolor": "#506784",
             "minorgridcolor": "#506784",
             "startlinecolor": "#A2B1C6"
            },
            "type": "carpet"
           }
          ],
          "table": [
           {
            "cells": {
             "fill": {
              "color": "#506784"
             },
             "line": {
              "color": "rgb(17,17,17)"
             }
            },
            "header": {
             "fill": {
              "color": "#2a3f5f"
             },
             "line": {
              "color": "rgb(17,17,17)"
             }
            },
            "type": "table"
           }
          ],
          "barpolar": [
           {
            "marker": {
             "line": {
              "color": "rgb(17,17,17)",
              "width": 0.5
             },
             "pattern": {
              "fillmode": "overlay",
              "size": 10,
              "solidity": 0.2
             }
            },
            "type": "barpolar"
           }
          ],
          "pie": [
           {
            "automargin": true,
            "type": "pie"
           }
          ]
         },
         "layout": {
          "autotypenumbers": "strict",
          "colorway": [
           "#636efa",
           "#EF553B",
           "#00cc96",
           "#ab63fa",
           "#FFA15A",
           "#19d3f3",
           "#FF6692",
           "#B6E880",
           "#FF97FF",
           "#FECB52"
          ],
          "font": {
           "color": "#f2f5fa"
          },
          "hovermode": "closest",
          "hoverlabel": {
           "align": "left"
          },
          "paper_bgcolor": "rgb(17,17,17)",
          "plot_bgcolor": "rgb(17,17,17)",
          "polar": {
           "bgcolor": "rgb(17,17,17)",
           "angularaxis": {
            "gridcolor": "#506784",
            "linecolor": "#506784",
            "ticks": ""
           },
           "radialaxis": {
            "gridcolor": "#506784",
            "linecolor": "#506784",
            "ticks": ""
           }
          },
          "ternary": {
           "bgcolor": "rgb(17,17,17)",
           "aaxis": {
            "gridcolor": "#506784",
            "linecolor": "#506784",
            "ticks": ""
           },
           "baxis": {
            "gridcolor": "#506784",
            "linecolor": "#506784",
            "ticks": ""
           },
           "caxis": {
            "gridcolor": "#506784",
            "linecolor": "#506784",
            "ticks": ""
           }
          },
          "coloraxis": {
           "colorbar": {
            "outlinewidth": 0,
            "ticks": ""
           }
          },
          "colorscale": {
           "sequential": [
            [
             0.0,
             "#0d0887"
            ],
            [
             0.1111111111111111,
             "#46039f"
            ],
            [
             0.2222222222222222,
             "#7201a8"
            ],
            [
             0.3333333333333333,
             "#9c179e"
            ],
            [
             0.4444444444444444,
             "#bd3786"
            ],
            [
             0.5555555555555556,
             "#d8576b"
            ],
            [
             0.6666666666666666,
             "#ed7953"
            ],
            [
             0.7777777777777778,
             "#fb9f3a"
            ],
            [
             0.8888888888888888,
             "#fdca26"
            ],
            [
             1.0,
             "#f0f921"
            ]
           ],
           "sequentialminus": [
            [
             0.0,
             "#0d0887"
            ],
            [
             0.1111111111111111,
             "#46039f"
            ],
            [
             0.2222222222222222,
             "#7201a8"
            ],
            [
             0.3333333333333333,
             "#9c179e"
            ],
            [
             0.4444444444444444,
             "#bd3786"
            ],
            [
             0.5555555555555556,
             "#d8576b"
            ],
            [
             0.6666666666666666,
             "#ed7953"
            ],
            [
             0.7777777777777778,
             "#fb9f3a"
            ],
            [
             0.8888888888888888,
             "#fdca26"
            ],
            [
             1.0,
             "#f0f921"
            ]
           ],
           "diverging": [
            [
             0,
             "#8e0152"
            ],
            [
             0.1,
             "#c51b7d"
            ],
            [
             0.2,
             "#de77ae"
            ],
            [
             0.3,
             "#f1b6da"
            ],
            [
             0.4,
             "#fde0ef"
            ],
            [
             0.5,
             "#f7f7f7"
            ],
            [
             0.6,
             "#e6f5d0"
            ],
            [
             0.7,
             "#b8e186"
            ],
            [
             0.8,
             "#7fbc41"
            ],
            [
             0.9,
             "#4d9221"
            ],
            [
             1,
             "#276419"
            ]
           ]
          },
          "xaxis": {
           "gridcolor": "#283442",
           "linecolor": "#506784",
           "ticks": "",
           "title": {
            "standoff": 15
           },
           "zerolinecolor": "#283442",
           "automargin": true,
           "zerolinewidth": 2
          },
          "yaxis": {
           "gridcolor": "#283442",
           "linecolor": "#506784",
           "ticks": "",
           "title": {
            "standoff": 15
           },
           "zerolinecolor": "#283442",
           "automargin": true,
           "zerolinewidth": 2
          },
          "scene": {
           "xaxis": {
            "backgroundcolor": "rgb(17,17,17)",
            "gridcolor": "#506784",
            "linecolor": "#506784",
            "showbackground": true,
            "ticks": "",
            "zerolinecolor": "#C8D4E3",
            "gridwidth": 2
           },
           "yaxis": {
            "backgroundcolor": "rgb(17,17,17)",
            "gridcolor": "#506784",
            "linecolor": "#506784",
            "showbackground": true,
            "ticks": "",
            "zerolinecolor": "#C8D4E3",
            "gridwidth": 2
           },
           "zaxis": {
            "backgroundcolor": "rgb(17,17,17)",
            "gridcolor": "#506784",
            "linecolor": "#506784",
            "showbackground": true,
            "ticks": "",
            "zerolinecolor": "#C8D4E3",
            "gridwidth": 2
           }
          },
          "shapedefaults": {
           "line": {
            "color": "#f2f5fa"
           }
          },
          "annotationdefaults": {
           "arrowcolor": "#f2f5fa",
           "arrowhead": 0,
           "arrowwidth": 1
          },
          "geo": {
           "bgcolor": "rgb(17,17,17)",
           "landcolor": "rgb(17,17,17)",
           "subunitcolor": "#506784",
           "showland": true,
           "showlakes": true,
           "lakecolor": "rgb(17,17,17)"
          },
          "title": {
           "x": 0.05
          },
          "updatemenudefaults": {
           "bgcolor": "#506784",
           "borderwidth": 0
          },
          "sliderdefaults": {
           "bgcolor": "#C8D4E3",
           "borderwidth": 1,
           "bordercolor": "rgb(17,17,17)",
           "tickwidth": 0
          },
          "mapbox": {
           "style": "dark"
          }
         }
        },
        "yaxis": {
         "title": {
          "text": "Ship"
         },
         "tickmode": "array",
         "tickvals": [
          0,
          1,
          2
         ],
         "ticktext": [
          "S1",
          "S2",
          "S3"
         ]
        },
        "title": {
         "text": "Crew Schedule for C064 (Role: cook)"
        },
        "xaxis": {
         "title": {
          "text": "Time"
         }
        },
        "showlegend": true,
        "height": 450
       },
       "config": {
        "plotlyServerURL": "https://plot.ly"
       }
      }
     },
     "metadata": {},
     "output_type": "display_data",
     "jetTransient": {
      "display_id": null
     }
    }
   ],
   "execution_count": 23
  },
  {
   "metadata": {},
   "cell_type": "code",
   "outputs": [],
   "execution_count": null,
   "source": "",
   "id": "f5ed865b4024b0e3"
  }
 ],
 "metadata": {
  "kernelspec": {
   "display_name": "Python 3",
   "language": "python",
   "name": "python3"
  },
  "language_info": {
   "codemirror_mode": {
    "name": "ipython",
    "version": 2
   },
   "file_extension": ".py",
   "mimetype": "text/x-python",
   "name": "python",
   "nbconvert_exporter": "python",
   "pygments_lexer": "ipython2",
   "version": "2.7.6"
  }
 },
 "nbformat": 4,
 "nbformat_minor": 5
}
