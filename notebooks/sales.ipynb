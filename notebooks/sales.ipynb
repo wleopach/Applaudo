{
 "cells": [
  {
   "metadata": {},
   "cell_type": "markdown",
   "source": "## Top 10 items by sales/units",
   "id": "db73bcbae0fe9c6c"
  },
  {
   "cell_type": "code",
   "id": "initial_id",
   "metadata": {
    "collapsed": true,
    "ExecuteTime": {
     "end_time": "2025-09-18T20:11:26.110253Z",
     "start_time": "2025-09-18T20:11:25.561796Z"
    }
   },
   "source": [
    "import duckdb\n",
    "\n",
    "con=duckdb.execute(\"\"\"IMPORT DATABASE '../data/db';\"\"\")\n",
    "df = con.execute(\"\"\" SELECT item_id, SUM(qty_day) units FROM daily_demand\n",
    "  GROUP BY item_id\n",
    "  ORDER BY units DESC\n",
    "  LIMIT 10;\"\"\").df()\n",
    "con.close()\n",
    "df"
   ],
   "outputs": [
    {
     "data": {
      "text/plain": [
       "  item_id    units\n",
       "0    I002  12027.0\n",
       "1    I011  11879.0\n",
       "2    I012  11861.0\n",
       "3    I006   7042.0\n",
       "4    I014   6998.0\n",
       "5    I007   6995.0\n",
       "6    I008   6942.0\n",
       "7    I013   6928.0\n",
       "8    I004   4991.0\n",
       "9    I003   4985.0"
      ],
      "text/html": [
       "<div>\n",
       "<style scoped>\n",
       "    .dataframe tbody tr th:only-of-type {\n",
       "        vertical-align: middle;\n",
       "    }\n",
       "\n",
       "    .dataframe tbody tr th {\n",
       "        vertical-align: top;\n",
       "    }\n",
       "\n",
       "    .dataframe thead th {\n",
       "        text-align: right;\n",
       "    }\n",
       "</style>\n",
       "<table border=\"1\" class=\"dataframe\">\n",
       "  <thead>\n",
       "    <tr style=\"text-align: right;\">\n",
       "      <th></th>\n",
       "      <th>item_id</th>\n",
       "      <th>units</th>\n",
       "    </tr>\n",
       "  </thead>\n",
       "  <tbody>\n",
       "    <tr>\n",
       "      <th>0</th>\n",
       "      <td>I002</td>\n",
       "      <td>12027.0</td>\n",
       "    </tr>\n",
       "    <tr>\n",
       "      <th>1</th>\n",
       "      <td>I011</td>\n",
       "      <td>11879.0</td>\n",
       "    </tr>\n",
       "    <tr>\n",
       "      <th>2</th>\n",
       "      <td>I012</td>\n",
       "      <td>11861.0</td>\n",
       "    </tr>\n",
       "    <tr>\n",
       "      <th>3</th>\n",
       "      <td>I006</td>\n",
       "      <td>7042.0</td>\n",
       "    </tr>\n",
       "    <tr>\n",
       "      <th>4</th>\n",
       "      <td>I014</td>\n",
       "      <td>6998.0</td>\n",
       "    </tr>\n",
       "    <tr>\n",
       "      <th>5</th>\n",
       "      <td>I007</td>\n",
       "      <td>6995.0</td>\n",
       "    </tr>\n",
       "    <tr>\n",
       "      <th>6</th>\n",
       "      <td>I008</td>\n",
       "      <td>6942.0</td>\n",
       "    </tr>\n",
       "    <tr>\n",
       "      <th>7</th>\n",
       "      <td>I013</td>\n",
       "      <td>6928.0</td>\n",
       "    </tr>\n",
       "    <tr>\n",
       "      <th>8</th>\n",
       "      <td>I004</td>\n",
       "      <td>4991.0</td>\n",
       "    </tr>\n",
       "    <tr>\n",
       "      <th>9</th>\n",
       "      <td>I003</td>\n",
       "      <td>4985.0</td>\n",
       "    </tr>\n",
       "  </tbody>\n",
       "</table>\n",
       "</div>"
      ]
     },
     "execution_count": 1,
     "metadata": {},
     "output_type": "execute_result"
    }
   ],
   "execution_count": 1
  },
  {
   "metadata": {
    "ExecuteTime": {
     "end_time": "2025-09-18T20:25:32.933280Z",
     "start_time": "2025-09-18T20:25:32.751911Z"
    }
   },
   "cell_type": "code",
   "source": [
    "con=duckdb.execute(\"\"\"IMPORT DATABASE '../data/db';\"\"\")\n",
    "df = con.execute(\"\"\" SELECT\n",
    "     doy,\n",
    "     ship_id,\n",
    "     SUM(qty_day) AS total_sales\n",
    " FROM daily_demand\n",
    " WHERE item_id = 'I002'\n",
    " GROUP BY doy, ship_id\n",
    " ORDER BY doy, ship_id;\"\"\").df()\n",
    "con.close()\n",
    "df"
   ],
   "id": "7bb897bc26b164bc",
   "outputs": [
    {
     "data": {
      "text/plain": [
       "     doy ship_id  total_sales\n",
       "0    121      S1         28.0\n",
       "1    121      S2         18.0\n",
       "2    121      S3          8.0\n",
       "3    122      S1         63.0\n",
       "4    122      S2         43.0\n",
       "..   ...     ...          ...\n",
       "249  204      S1         55.0\n",
       "250  204      S2         25.0\n",
       "251  204      S3         34.0\n",
       "252  205      S1         27.0\n",
       "253  206      S1         20.0\n",
       "\n",
       "[254 rows x 3 columns]"
      ],
      "text/html": [
       "<div>\n",
       "<style scoped>\n",
       "    .dataframe tbody tr th:only-of-type {\n",
       "        vertical-align: middle;\n",
       "    }\n",
       "\n",
       "    .dataframe tbody tr th {\n",
       "        vertical-align: top;\n",
       "    }\n",
       "\n",
       "    .dataframe thead th {\n",
       "        text-align: right;\n",
       "    }\n",
       "</style>\n",
       "<table border=\"1\" class=\"dataframe\">\n",
       "  <thead>\n",
       "    <tr style=\"text-align: right;\">\n",
       "      <th></th>\n",
       "      <th>doy</th>\n",
       "      <th>ship_id</th>\n",
       "      <th>total_sales</th>\n",
       "    </tr>\n",
       "  </thead>\n",
       "  <tbody>\n",
       "    <tr>\n",
       "      <th>0</th>\n",
       "      <td>121</td>\n",
       "      <td>S1</td>\n",
       "      <td>28.0</td>\n",
       "    </tr>\n",
       "    <tr>\n",
       "      <th>1</th>\n",
       "      <td>121</td>\n",
       "      <td>S2</td>\n",
       "      <td>18.0</td>\n",
       "    </tr>\n",
       "    <tr>\n",
       "      <th>2</th>\n",
       "      <td>121</td>\n",
       "      <td>S3</td>\n",
       "      <td>8.0</td>\n",
       "    </tr>\n",
       "    <tr>\n",
       "      <th>3</th>\n",
       "      <td>122</td>\n",
       "      <td>S1</td>\n",
       "      <td>63.0</td>\n",
       "    </tr>\n",
       "    <tr>\n",
       "      <th>4</th>\n",
       "      <td>122</td>\n",
       "      <td>S2</td>\n",
       "      <td>43.0</td>\n",
       "    </tr>\n",
       "    <tr>\n",
       "      <th>...</th>\n",
       "      <td>...</td>\n",
       "      <td>...</td>\n",
       "      <td>...</td>\n",
       "    </tr>\n",
       "    <tr>\n",
       "      <th>249</th>\n",
       "      <td>204</td>\n",
       "      <td>S1</td>\n",
       "      <td>55.0</td>\n",
       "    </tr>\n",
       "    <tr>\n",
       "      <th>250</th>\n",
       "      <td>204</td>\n",
       "      <td>S2</td>\n",
       "      <td>25.0</td>\n",
       "    </tr>\n",
       "    <tr>\n",
       "      <th>251</th>\n",
       "      <td>204</td>\n",
       "      <td>S3</td>\n",
       "      <td>34.0</td>\n",
       "    </tr>\n",
       "    <tr>\n",
       "      <th>252</th>\n",
       "      <td>205</td>\n",
       "      <td>S1</td>\n",
       "      <td>27.0</td>\n",
       "    </tr>\n",
       "    <tr>\n",
       "      <th>253</th>\n",
       "      <td>206</td>\n",
       "      <td>S1</td>\n",
       "      <td>20.0</td>\n",
       "    </tr>\n",
       "  </tbody>\n",
       "</table>\n",
       "<p>254 rows × 3 columns</p>\n",
       "</div>"
      ]
     },
     "execution_count": 2,
     "metadata": {},
     "output_type": "execute_result"
    }
   ],
   "execution_count": 2
  },
  {
   "metadata": {
    "ExecuteTime": {
     "end_time": "2025-09-18T21:04:30.744058Z",
     "start_time": "2025-09-18T21:04:30.659272Z"
    }
   },
   "cell_type": "code",
   "source": [
    "import plotly.express as px\n",
    "\n",
    "# Ensure data is sorted by day of year\n",
    "_df_plot = df.sort_values([\"doy\", \"ship_id\"])\n",
    "\n",
    "fig = px.line(\n",
    "    _df_plot,\n",
    "    x=\"doy\",\n",
    "    y=\"total_sales\",\n",
    "    color=\"ship_id\",\n",
    "    markers=True,\n",
    "    title=\"Total Sales by Day of Year (DOY) and Ship of  Soda Can 330ml\",\n",
    "    labels={\"doy\": \"Day of Year (DOY)\", \"total_sales\": \"Total Sales\", \"ship_id\": \"Ship\"},\n",
    ")\n",
    "\n",
    "fig.update_layout(\n",
    "    legend_title_text=\"Ship\",\n",
    "    xaxis=dict(tickmode=\"linear\"),\n",
    ")\n",
    "\n",
    "fig.show()\n"
   ],
   "id": "cf4298f1b2bd9725",
   "outputs": [
    {
     "data": {
      "application/vnd.plotly.v1+json": {
       "data": [
        {
         "hovertemplate": "Ship=S1<br>Day of Year (DOY)=%{x}<br>Total Sales=%{y}<extra></extra>",
         "legendgroup": "S1",
         "line": {
          "color": "#636efa",
          "dash": "solid"
         },
         "marker": {
          "symbol": "circle"
         },
         "mode": "lines+markers",
         "name": "S1",
         "orientation": "v",
         "showlegend": true,
         "x": {
          "dtype": "i2",
          "bdata": "eQB6AHsAfAB9AH4AfwCAAIEAggCDAIQAhQCGAIcAiACJAIoAiwCMAI0AjgCPAJAAkQCSAJMAlACVAJYAlwCYAJkAmgCbAJwAnQCeAJ8AoAChAKIAowCkAKUApgCnAKgAqQCqAKsArACtAK4ArwCwALEAsgCzALQAtQC2ALcAuAC5ALoAuwC8AL0AvgC/AMAAwQDCAMMAxADFAMYAxwDIAMkAygDLAMwAzQDOAA=="
         },
         "xaxis": "x",
         "y": {
          "dtype": "f8",
          "bdata": "AAAAAAAAPEAAAAAAAIBPQAAAAAAAAE5AAAAAAACASkAAAAAAAIBFQAAAAAAAgE9AAAAAAAAASUAAAAAAAIBXQAAAAAAAgExAAAAAAACASUAAAAAAAIBIQAAAAAAAgEVAAAAAAAAASEAAAAAAAAA7QAAAAAAAAD5AAAAAAAAAS0AAAAAAAIBJQAAAAAAAAE1AAAAAAACASUAAAAAAAIBEQAAAAAAAADVAAAAAAAAAPUAAAAAAAIBMQAAAAAAAgE5AAAAAAAAATkAAAAAAAABIQAAAAAAAAEtAAAAAAABAUEAAAAAAAMBUQAAAAAAAAFFAAAAAAACATEAAAAAAAIBHQAAAAAAAgElAAAAAAAAARkAAAAAAAIBGQAAAAAAAAExAAAAAAAAAQ0AAAAAAAIBJQAAAAAAAgEZAAAAAAAAARkAAAAAAAIBDQAAAAAAAADJAAAAAAACAQ0AAAAAAAIBQQAAAAAAAgE9AAAAAAABAVEAAAAAAAIBJQAAAAAAAAExAAAAAAAAAPEAAAAAAAAA6QAAAAAAAgEpAAAAAAAAATUAAAAAAAEBQQAAAAAAAAEhAAAAAAAAAR0AAAAAAAAAwQAAAAAAAAD1AAAAAAAAATEAAAAAAAABEQAAAAAAAgEBAAAAAAAAATEAAAAAAAABDQAAAAAAAAEhAAAAAAACAUkAAAAAAAABMQAAAAAAAAEpAAAAAAAAATUAAAAAAAIBGQAAAAAAAAE5AAAAAAAAANEAAAAAAAAA9QAAAAAAAAEVAAAAAAACAREAAAAAAAIBJQAAAAAAAAEtAAAAAAAAAR0AAAAAAAABKQAAAAAAAgFFAAAAAAAAATUAAAAAAAABQQAAAAAAAgElAAAAAAAAASUAAAAAAAIBMQAAAAAAAgEtAAAAAAAAAO0AAAAAAAAA0QA=="
         },
         "yaxis": "y",
         "type": "scatter"
        },
        {
         "hovertemplate": "Ship=S2<br>Day of Year (DOY)=%{x}<br>Total Sales=%{y}<extra></extra>",
         "legendgroup": "S2",
         "line": {
          "color": "#EF553B",
          "dash": "solid"
         },
         "marker": {
          "symbol": "circle"
         },
         "mode": "lines+markers",
         "name": "S2",
         "orientation": "v",
         "showlegend": true,
         "x": {
          "dtype": "i2",
          "bdata": "eQB6AHsAfAB9AH4AfwCAAIEAggCDAIQAhQCGAIcAiACJAIoAiwCMAI0AjgCPAJAAkQCSAJMAlACVAJYAlwCYAJkAmgCbAJwAnQCeAJ8AoAChAKIAowCkAKUApgCnAKgAqQCqAKsArACtAK4ArwCwALEAsgCzALQAtQC2ALcAuAC5ALoAuwC8AL0AvgC/AMAAwQDCAMMAxADFAMYAxwDIAMkAygDLAMwA"
         },
         "xaxis": "x",
         "y": {
          "dtype": "f8",
          "bdata": "AAAAAAAAMkAAAAAAAIBFQAAAAAAAAE1AAAAAAAAAR0AAAAAAAABJQAAAAAAAAENAAAAAAACARkAAAAAAAIBOQAAAAAAAAFBAAAAAAAAAPkAAAAAAAABGQAAAAAAAgEJAAAAAAACAQEAAAAAAAAA4QAAAAAAAACpAAAAAAACARUAAAAAAAIBDQAAAAAAAAEBAAAAAAACAQUAAAAAAAIBEQAAAAAAAgEFAAAAAAAAATkAAAAAAAEBQQAAAAAAAgElAAAAAAAAAR0AAAAAAAIBEQAAAAAAAgEhAAAAAAAAARkAAAAAAAABGQAAAAAAAAEpAAAAAAACAR0AAAAAAAABIQAAAAAAAgENAAAAAAAAAQ0AAAAAAAABAQAAAAAAAADZAAAAAAAAAR0AAAAAAAIBKQAAAAAAAgEdAAAAAAACAREAAAAAAAABKQAAAAAAAAD5AAAAAAAAALEAAAAAAAABEQAAAAAAAgEZAAAAAAACASEAAAAAAAABGQAAAAAAAAEZAAAAAAAAAOkAAAAAAAAAuQAAAAAAAAERAAAAAAAAASUAAAAAAAABDQAAAAAAAAEZAAAAAAAAAPUAAAAAAAAAxQAAAAAAAADZAAAAAAAAASEAAAAAAAEBQQAAAAAAAQFRAAAAAAAAATkAAAAAAAIBPQAAAAAAAAEVAAAAAAAAAMUAAAAAAAABEQAAAAAAAAE5AAAAAAAAAUEAAAAAAAABMQAAAAAAAAEFAAAAAAACARkAAAAAAAIBUQAAAAAAAwFFAAAAAAACAUEAAAAAAAIBHQAAAAAAAgEdAAAAAAAAAS0AAAAAAAIBFQAAAAAAAQFBAAAAAAADAUkAAAAAAAAA7QAAAAAAAgERAAAAAAAAAQEAAAAAAAABGQAAAAAAAADlA"
         },
         "yaxis": "y",
         "type": "scatter"
        },
        {
         "hovertemplate": "Ship=S3<br>Day of Year (DOY)=%{x}<br>Total Sales=%{y}<extra></extra>",
         "legendgroup": "S3",
         "line": {
          "color": "#00cc96",
          "dash": "solid"
         },
         "marker": {
          "symbol": "circle"
         },
         "mode": "lines+markers",
         "name": "S3",
         "orientation": "v",
         "showlegend": true,
         "x": {
          "dtype": "i2",
          "bdata": "eQB6AHsAfAB9AH4AfwCAAIEAggCDAIQAhQCGAIcAiACJAIoAiwCMAI0AjgCPAJAAkQCSAJMAlACVAJYAlwCYAJkAmgCbAJwAnQCeAJ8AoAChAKIAowCkAKUApgCnAKgAqQCqAKsArACtAK4ArwCwALEAsgCzALQAtQC2ALcAuAC5ALoAuwC8AL0AvgC/AMAAwQDCAMMAxADFAMYAxwDIAMkAygDLAMwA"
         },
         "xaxis": "x",
         "y": {
          "dtype": "f8",
          "bdata": "AAAAAAAAIEAAAAAAAABDQAAAAAAAAEpAAAAAAAAARkAAAAAAAABAQAAAAAAAgEJAAAAAAAAAQUAAAAAAAABOQAAAAAAAQFZAAAAAAAAASUAAAAAAAEBRQAAAAAAAAERAAAAAAACARkAAAAAAAIBDQAAAAAAAABxAAAAAAAAAS0AAAAAAAIBCQAAAAAAAgEtAAAAAAAAAQkAAAAAAAABDQAAAAAAAAEhAAAAAAAAASUAAAAAAAEBSQAAAAAAAgE5AAAAAAACAS0AAAAAAAABGQAAAAAAAAEtAAAAAAACASUAAAAAAAABQQAAAAAAAgFFAAAAAAACAQEAAAAAAAABLQAAAAAAAgEVAAAAAAACASEAAAAAAAABLQAAAAAAAgEtAAAAAAAAAUEAAAAAAAABLQAAAAAAAgElAAAAAAACAREAAAAAAAABEQAAAAAAAAERAAAAAAACATkAAAAAAAABQQAAAAAAAAERAAAAAAACARUAAAAAAAABJQAAAAAAAAEtAAAAAAACASEAAAAAAAABJQAAAAAAAAE1AAAAAAADAUkAAAAAAAIBNQAAAAAAAAE1AAAAAAACASEAAAAAAAABCQAAAAAAAAABAAAAAAAAASkAAAAAAAIBLQAAAAAAAAEpAAAAAAACASUAAAAAAAIBKQAAAAAAAAExAAAAAAAAAR0AAAAAAAIBGQAAAAAAAgEhAAAAAAAAASUAAAAAAAABAQAAAAAAAAEFAAAAAAAAAQUAAAAAAAIBOQAAAAAAAQFNAAAAAAAAAS0AAAAAAAIBQQAAAAAAAgE1AAAAAAACASEAAAAAAAABPQAAAAAAAAExAAAAAAAAARkAAAAAAAABIQAAAAAAAgEhAAAAAAACARUAAAAAAAABHQAAAAAAAAEFA"
         },
         "yaxis": "y",
         "type": "scatter"
        }
       ],
       "layout": {
        "template": {
         "data": {
          "histogram2dcontour": [
           {
            "type": "histogram2dcontour",
            "colorbar": {
             "outlinewidth": 0,
             "ticks": ""
            },
            "colorscale": [
             [
              0.0,
              "#0d0887"
             ],
             [
              0.1111111111111111,
              "#46039f"
             ],
             [
              0.2222222222222222,
              "#7201a8"
             ],
             [
              0.3333333333333333,
              "#9c179e"
             ],
             [
              0.4444444444444444,
              "#bd3786"
             ],
             [
              0.5555555555555556,
              "#d8576b"
             ],
             [
              0.6666666666666666,
              "#ed7953"
             ],
             [
              0.7777777777777778,
              "#fb9f3a"
             ],
             [
              0.8888888888888888,
              "#fdca26"
             ],
             [
              1.0,
              "#f0f921"
             ]
            ]
           }
          ],
          "choropleth": [
           {
            "type": "choropleth",
            "colorbar": {
             "outlinewidth": 0,
             "ticks": ""
            }
           }
          ],
          "histogram2d": [
           {
            "type": "histogram2d",
            "colorbar": {
             "outlinewidth": 0,
             "ticks": ""
            },
            "colorscale": [
             [
              0.0,
              "#0d0887"
             ],
             [
              0.1111111111111111,
              "#46039f"
             ],
             [
              0.2222222222222222,
              "#7201a8"
             ],
             [
              0.3333333333333333,
              "#9c179e"
             ],
             [
              0.4444444444444444,
              "#bd3786"
             ],
             [
              0.5555555555555556,
              "#d8576b"
             ],
             [
              0.6666666666666666,
              "#ed7953"
             ],
             [
              0.7777777777777778,
              "#fb9f3a"
             ],
             [
              0.8888888888888888,
              "#fdca26"
             ],
             [
              1.0,
              "#f0f921"
             ]
            ]
           }
          ],
          "heatmap": [
           {
            "type": "heatmap",
            "colorbar": {
             "outlinewidth": 0,
             "ticks": ""
            },
            "colorscale": [
             [
              0.0,
              "#0d0887"
             ],
             [
              0.1111111111111111,
              "#46039f"
             ],
             [
              0.2222222222222222,
              "#7201a8"
             ],
             [
              0.3333333333333333,
              "#9c179e"
             ],
             [
              0.4444444444444444,
              "#bd3786"
             ],
             [
              0.5555555555555556,
              "#d8576b"
             ],
             [
              0.6666666666666666,
              "#ed7953"
             ],
             [
              0.7777777777777778,
              "#fb9f3a"
             ],
             [
              0.8888888888888888,
              "#fdca26"
             ],
             [
              1.0,
              "#f0f921"
             ]
            ]
           }
          ],
          "contourcarpet": [
           {
            "type": "contourcarpet",
            "colorbar": {
             "outlinewidth": 0,
             "ticks": ""
            }
           }
          ],
          "contour": [
           {
            "type": "contour",
            "colorbar": {
             "outlinewidth": 0,
             "ticks": ""
            },
            "colorscale": [
             [
              0.0,
              "#0d0887"
             ],
             [
              0.1111111111111111,
              "#46039f"
             ],
             [
              0.2222222222222222,
              "#7201a8"
             ],
             [
              0.3333333333333333,
              "#9c179e"
             ],
             [
              0.4444444444444444,
              "#bd3786"
             ],
             [
              0.5555555555555556,
              "#d8576b"
             ],
             [
              0.6666666666666666,
              "#ed7953"
             ],
             [
              0.7777777777777778,
              "#fb9f3a"
             ],
             [
              0.8888888888888888,
              "#fdca26"
             ],
             [
              1.0,
              "#f0f921"
             ]
            ]
           }
          ],
          "surface": [
           {
            "type": "surface",
            "colorbar": {
             "outlinewidth": 0,
             "ticks": ""
            },
            "colorscale": [
             [
              0.0,
              "#0d0887"
             ],
             [
              0.1111111111111111,
              "#46039f"
             ],
             [
              0.2222222222222222,
              "#7201a8"
             ],
             [
              0.3333333333333333,
              "#9c179e"
             ],
             [
              0.4444444444444444,
              "#bd3786"
             ],
             [
              0.5555555555555556,
              "#d8576b"
             ],
             [
              0.6666666666666666,
              "#ed7953"
             ],
             [
              0.7777777777777778,
              "#fb9f3a"
             ],
             [
              0.8888888888888888,
              "#fdca26"
             ],
             [
              1.0,
              "#f0f921"
             ]
            ]
           }
          ],
          "mesh3d": [
           {
            "type": "mesh3d",
            "colorbar": {
             "outlinewidth": 0,
             "ticks": ""
            }
           }
          ],
          "scatter": [
           {
            "marker": {
             "line": {
              "color": "#283442"
             }
            },
            "type": "scatter"
           }
          ],
          "parcoords": [
           {
            "type": "parcoords",
            "line": {
             "colorbar": {
              "outlinewidth": 0,
              "ticks": ""
             }
            }
           }
          ],
          "scatterpolargl": [
           {
            "type": "scatterpolargl",
            "marker": {
             "colorbar": {
              "outlinewidth": 0,
              "ticks": ""
             }
            }
           }
          ],
          "bar": [
           {
            "error_x": {
             "color": "#f2f5fa"
            },
            "error_y": {
             "color": "#f2f5fa"
            },
            "marker": {
             "line": {
              "color": "rgb(17,17,17)",
              "width": 0.5
             },
             "pattern": {
              "fillmode": "overlay",
              "size": 10,
              "solidity": 0.2
             }
            },
            "type": "bar"
           }
          ],
          "scattergeo": [
           {
            "type": "scattergeo",
            "marker": {
             "colorbar": {
              "outlinewidth": 0,
              "ticks": ""
             }
            }
           }
          ],
          "scatterpolar": [
           {
            "type": "scatterpolar",
            "marker": {
             "colorbar": {
              "outlinewidth": 0,
              "ticks": ""
             }
            }
           }
          ],
          "histogram": [
           {
            "marker": {
             "pattern": {
              "fillmode": "overlay",
              "size": 10,
              "solidity": 0.2
             }
            },
            "type": "histogram"
           }
          ],
          "scattergl": [
           {
            "marker": {
             "line": {
              "color": "#283442"
             }
            },
            "type": "scattergl"
           }
          ],
          "scatter3d": [
           {
            "type": "scatter3d",
            "line": {
             "colorbar": {
              "outlinewidth": 0,
              "ticks": ""
             }
            },
            "marker": {
             "colorbar": {
              "outlinewidth": 0,
              "ticks": ""
             }
            }
           }
          ],
          "scattermap": [
           {
            "type": "scattermap",
            "marker": {
             "colorbar": {
              "outlinewidth": 0,
              "ticks": ""
             }
            }
           }
          ],
          "scattermapbox": [
           {
            "type": "scattermapbox",
            "marker": {
             "colorbar": {
              "outlinewidth": 0,
              "ticks": ""
             }
            }
           }
          ],
          "scatterternary": [
           {
            "type": "scatterternary",
            "marker": {
             "colorbar": {
              "outlinewidth": 0,
              "ticks": ""
             }
            }
           }
          ],
          "scattercarpet": [
           {
            "type": "scattercarpet",
            "marker": {
             "colorbar": {
              "outlinewidth": 0,
              "ticks": ""
             }
            }
           }
          ],
          "carpet": [
           {
            "aaxis": {
             "endlinecolor": "#A2B1C6",
             "gridcolor": "#506784",
             "linecolor": "#506784",
             "minorgridcolor": "#506784",
             "startlinecolor": "#A2B1C6"
            },
            "baxis": {
             "endlinecolor": "#A2B1C6",
             "gridcolor": "#506784",
             "linecolor": "#506784",
             "minorgridcolor": "#506784",
             "startlinecolor": "#A2B1C6"
            },
            "type": "carpet"
           }
          ],
          "table": [
           {
            "cells": {
             "fill": {
              "color": "#506784"
             },
             "line": {
              "color": "rgb(17,17,17)"
             }
            },
            "header": {
             "fill": {
              "color": "#2a3f5f"
             },
             "line": {
              "color": "rgb(17,17,17)"
             }
            },
            "type": "table"
           }
          ],
          "barpolar": [
           {
            "marker": {
             "line": {
              "color": "rgb(17,17,17)",
              "width": 0.5
             },
             "pattern": {
              "fillmode": "overlay",
              "size": 10,
              "solidity": 0.2
             }
            },
            "type": "barpolar"
           }
          ],
          "pie": [
           {
            "automargin": true,
            "type": "pie"
           }
          ]
         },
         "layout": {
          "autotypenumbers": "strict",
          "colorway": [
           "#636efa",
           "#EF553B",
           "#00cc96",
           "#ab63fa",
           "#FFA15A",
           "#19d3f3",
           "#FF6692",
           "#B6E880",
           "#FF97FF",
           "#FECB52"
          ],
          "font": {
           "color": "#f2f5fa"
          },
          "hovermode": "closest",
          "hoverlabel": {
           "align": "left"
          },
          "paper_bgcolor": "rgb(17,17,17)",
          "plot_bgcolor": "rgb(17,17,17)",
          "polar": {
           "bgcolor": "rgb(17,17,17)",
           "angularaxis": {
            "gridcolor": "#506784",
            "linecolor": "#506784",
            "ticks": ""
           },
           "radialaxis": {
            "gridcolor": "#506784",
            "linecolor": "#506784",
            "ticks": ""
           }
          },
          "ternary": {
           "bgcolor": "rgb(17,17,17)",
           "aaxis": {
            "gridcolor": "#506784",
            "linecolor": "#506784",
            "ticks": ""
           },
           "baxis": {
            "gridcolor": "#506784",
            "linecolor": "#506784",
            "ticks": ""
           },
           "caxis": {
            "gridcolor": "#506784",
            "linecolor": "#506784",
            "ticks": ""
           }
          },
          "coloraxis": {
           "colorbar": {
            "outlinewidth": 0,
            "ticks": ""
           }
          },
          "colorscale": {
           "sequential": [
            [
             0.0,
             "#0d0887"
            ],
            [
             0.1111111111111111,
             "#46039f"
            ],
            [
             0.2222222222222222,
             "#7201a8"
            ],
            [
             0.3333333333333333,
             "#9c179e"
            ],
            [
             0.4444444444444444,
             "#bd3786"
            ],
            [
             0.5555555555555556,
             "#d8576b"
            ],
            [
             0.6666666666666666,
             "#ed7953"
            ],
            [
             0.7777777777777778,
             "#fb9f3a"
            ],
            [
             0.8888888888888888,
             "#fdca26"
            ],
            [
             1.0,
             "#f0f921"
            ]
           ],
           "sequentialminus": [
            [
             0.0,
             "#0d0887"
            ],
            [
             0.1111111111111111,
             "#46039f"
            ],
            [
             0.2222222222222222,
             "#7201a8"
            ],
            [
             0.3333333333333333,
             "#9c179e"
            ],
            [
             0.4444444444444444,
             "#bd3786"
            ],
            [
             0.5555555555555556,
             "#d8576b"
            ],
            [
             0.6666666666666666,
             "#ed7953"
            ],
            [
             0.7777777777777778,
             "#fb9f3a"
            ],
            [
             0.8888888888888888,
             "#fdca26"
            ],
            [
             1.0,
             "#f0f921"
            ]
           ],
           "diverging": [
            [
             0,
             "#8e0152"
            ],
            [
             0.1,
             "#c51b7d"
            ],
            [
             0.2,
             "#de77ae"
            ],
            [
             0.3,
             "#f1b6da"
            ],
            [
             0.4,
             "#fde0ef"
            ],
            [
             0.5,
             "#f7f7f7"
            ],
            [
             0.6,
             "#e6f5d0"
            ],
            [
             0.7,
             "#b8e186"
            ],
            [
             0.8,
             "#7fbc41"
            ],
            [
             0.9,
             "#4d9221"
            ],
            [
             1,
             "#276419"
            ]
           ]
          },
          "xaxis": {
           "gridcolor": "#283442",
           "linecolor": "#506784",
           "ticks": "",
           "title": {
            "standoff": 15
           },
           "zerolinecolor": "#283442",
           "automargin": true,
           "zerolinewidth": 2
          },
          "yaxis": {
           "gridcolor": "#283442",
           "linecolor": "#506784",
           "ticks": "",
           "title": {
            "standoff": 15
           },
           "zerolinecolor": "#283442",
           "automargin": true,
           "zerolinewidth": 2
          },
          "scene": {
           "xaxis": {
            "backgroundcolor": "rgb(17,17,17)",
            "gridcolor": "#506784",
            "linecolor": "#506784",
            "showbackground": true,
            "ticks": "",
            "zerolinecolor": "#C8D4E3",
            "gridwidth": 2
           },
           "yaxis": {
            "backgroundcolor": "rgb(17,17,17)",
            "gridcolor": "#506784",
            "linecolor": "#506784",
            "showbackground": true,
            "ticks": "",
            "zerolinecolor": "#C8D4E3",
            "gridwidth": 2
           },
           "zaxis": {
            "backgroundcolor": "rgb(17,17,17)",
            "gridcolor": "#506784",
            "linecolor": "#506784",
            "showbackground": true,
            "ticks": "",
            "zerolinecolor": "#C8D4E3",
            "gridwidth": 2
           }
          },
          "shapedefaults": {
           "line": {
            "color": "#f2f5fa"
           }
          },
          "annotationdefaults": {
           "arrowcolor": "#f2f5fa",
           "arrowhead": 0,
           "arrowwidth": 1
          },
          "geo": {
           "bgcolor": "rgb(17,17,17)",
           "landcolor": "rgb(17,17,17)",
           "subunitcolor": "#506784",
           "showland": true,
           "showlakes": true,
           "lakecolor": "rgb(17,17,17)"
          },
          "title": {
           "x": 0.05
          },
          "updatemenudefaults": {
           "bgcolor": "#506784",
           "borderwidth": 0
          },
          "sliderdefaults": {
           "bgcolor": "#C8D4E3",
           "borderwidth": 1,
           "bordercolor": "rgb(17,17,17)",
           "tickwidth": 0
          },
          "mapbox": {
           "style": "dark"
          }
         }
        },
        "xaxis": {
         "anchor": "y",
         "domain": [
          0.0,
          1.0
         ],
         "title": {
          "text": "Day of Year (DOY)"
         },
         "tickmode": "linear"
        },
        "yaxis": {
         "anchor": "x",
         "domain": [
          0.0,
          1.0
         ],
         "title": {
          "text": "Total Sales"
         }
        },
        "legend": {
         "title": {
          "text": "Ship"
         },
         "tracegroupgap": 0
        },
        "title": {
         "text": "Total Sales by Day of Year (DOY) and Ship of  Soda Can 330ml"
        }
       },
       "config": {
        "plotlyServerURL": "https://plot.ly"
       }
      }
     },
     "metadata": {},
     "output_type": "display_data",
     "jetTransient": {
      "display_id": null
     }
    }
   ],
   "execution_count": 17
  },
  {
   "metadata": {},
   "cell_type": "markdown",
   "source": "## Seasonal decompositions by ship, for  Soda Can 330ml with periods 7 and 30",
   "id": "ed3c0af3d29bfad9"
  },
  {
   "metadata": {
    "ExecuteTime": {
     "end_time": "2025-09-18T20:33:29.256741Z",
     "start_time": "2025-09-18T20:33:25.874728Z"
    }
   },
   "cell_type": "code",
   "source": [
    "from statsmodels.tsa.seasonal import seasonal_decompose\n",
    "import plotly.graph_objects as go\n",
    "from plotly.subplots import make_subplots\n",
    "import pandas as pd\n",
    "import numpy as np\n",
    "\n",
    "# Prepare data\n",
    "_df = df.sort_values([\"doy\", \"ship_id\"]).copy()\n",
    "ship_ids = list(pd.unique(_df[\"ship_id\"]))\n",
    "periods = [7, 30]\n",
    "\n",
    "# Precompute decompositions for each ship and period\n",
    "decomposed = {}  # key: (ship, period) -> dict with components\n",
    "for ship in ship_ids:\n",
    "    sdata = _df[_df[\"ship_id\"] == ship].sort_values(\"doy\")\n",
    "    y = sdata[\"total_sales\"].astype(float)\n",
    "    x = sdata[\"doy\"].values\n",
    "    for p in periods:\n",
    "        try:\n",
    "            if len(y) < 2 * p:\n",
    "                # Not enough data points for seasonal_decompose; skip\n",
    "                continue\n",
    "            result = seasonal_decompose(y, model=\"additive\", period=p, extrapolate_trend=\"freq\")\n",
    "            decomposed[(ship, p)] = {\n",
    "                \"x\": x,\n",
    "                \"observed\": y.values,\n",
    "                \"trend\": result.trend,\n",
    "                \"seasonal\": result.seasonal,\n",
    "                \"resid\": result.resid,\n",
    "            }\n",
    "        except Exception:\n",
    "            # Skip combinations that fail decomposition\n",
    "            continue\n",
    "\n",
    "# Build figure with one set of subplots and toggle traces via dropdown\n",
    "fig = make_subplots(\n",
    "    rows=4, cols=1, shared_xaxes=True, vertical_spacing=0.05,\n",
    "    subplot_titles=(\"Observed\", \"Trend\", \"Seasonal\", \"Residual\")\n",
    ")\n",
    "\n",
    "trace_groups = []  # list of [(obs_idx, trend_idx, seas_idx, resid_idx)] per (ship, period)\n",
    "labels = []\n",
    "\n",
    "for (ship, p), comp in decomposed.items():\n",
    "    x = comp[\"x\"]\n",
    "    # Observed\n",
    "    obs_trace = go.Scatter(x=x, y=comp[\"observed\"], mode=\"lines+markers\", name=f\"{ship} Observed (P={p})\",\n",
    "                           hovertemplate=\"DOY=%{x}<br>Observed=%{y}<extra></extra>\")\n",
    "    fig.add_trace(obs_trace, row=1, col=1)\n",
    "    obs_idx = len(fig.data) - 1\n",
    "\n",
    "    # Trend\n",
    "    trend_trace = go.Scatter(x=x, y=comp[\"trend\"], mode=\"lines\", name=f\"{ship} Trend (P={p})\",\n",
    "                             hovertemplate=\"DOY=%{x}<br>Trend=%{y}<extra></extra>\")\n",
    "    fig.add_trace(trend_trace, row=2, col=1)\n",
    "    trend_idx = len(fig.data) - 1\n",
    "\n",
    "    # Seasonal\n",
    "    seas_trace = go.Scatter(x=x, y=comp[\"seasonal\"], mode=\"lines\", name=f\"{ship} Seasonal (P={p})\",\n",
    "                            hovertemplate=\"DOY=%{x}<br>Seasonal=%{y}<extra></extra>\")\n",
    "    fig.add_trace(seas_trace, row=3, col=1)\n",
    "    seas_idx = len(fig.data) - 1\n",
    "\n",
    "    # Residual\n",
    "    resid_trace = go.Scatter(x=x, y=comp[\"resid\"], mode=\"lines+markers\", name=f\"{ship} Residual (P={p})\",\n",
    "                             hovertemplate=\"DOY=%{x}<br>Residual=%{y}<extra></extra>\")\n",
    "    fig.add_trace(resid_trace, row=4, col=1)\n",
    "    resid_idx = len(fig.data) - 1\n",
    "\n",
    "    trace_groups.append((obs_idx, trend_idx, seas_idx, resid_idx))\n",
    "    labels.append(f\"{ship} • P={p}\")\n",
    "\n",
    "# If nothing to show, create an empty figure\n",
    "if not trace_groups:\n",
    "    fig = go.Figure()\n",
    "    fig.update_layout(title=\"No seasonal decomposition available (insufficient data)\")\n",
    "    fig.show()\n",
    "else:\n",
    "    # Set all traces invisible except the first group\n",
    "    visible = [False] * len(fig.data)\n",
    "    for idx in trace_groups[0]:\n",
    "        visible[idx] = True\n",
    "\n",
    "    fig.update_traces(visible=False)\n",
    "    for idx in trace_groups[0]:\n",
    "        fig.data[idx].visible = True\n",
    "\n",
    "    # Dropdown to select (ship, period) combination\n",
    "    buttons = []\n",
    "    for i, label in enumerate(labels):\n",
    "        vis = [False] * len(fig.data)\n",
    "        for idx in trace_groups[i]:\n",
    "            vis[idx] = True\n",
    "        # Extract ship and period for title\n",
    "        ship_label, p_part = label.split(\" • \")\n",
    "        p_val = int(p_part.split(\"=\")[1])\n",
    "        buttons.append(dict(\n",
    "            label=label,\n",
    "            method=\"update\",\n",
    "            args=[\n",
    "                {\"visible\": vis},\n",
    "                {\"title\": f\"Seasonal Decomposition for {ship_label} (Period={p_val})\"}\n",
    "            ],\n",
    "        ))\n",
    "\n",
    "    fig.update_layout(\n",
    "        title=f\"Seasonal Decomposition for {labels[0].split(' • ')[0]} (Period={int(labels[0].split('=')[1])})\",\n",
    "        height=900,\n",
    "        updatemenus=[dict(\n",
    "            type=\"dropdown\",\n",
    "            x=0.0, y=1.15,\n",
    "            xanchor=\"left\", yanchor=\"top\",\n",
    "            buttons=buttons,\n",
    "            showactive=True\n",
    "        )],\n",
    "        legend_title_text=\"Components\",\n",
    "        margin=dict(t=120)\n",
    "    )\n",
    "    fig.update_xaxes(title_text=\"Day of Year (DOY)\", row=4, col=1)\n",
    "    fig.update_yaxes(title_text=\"Observed\", row=1, col=1)\n",
    "    fig.update_yaxes(title_text=\"Trend\", row=2, col=1)\n",
    "    fig.update_yaxes(title_text=\"Seasonal\", row=3, col=1)\n",
    "    fig.update_yaxes(title_text=\"Residual\", row=4, col=1)\n",
    "\n",
    "    fig.show()\n"
   ],
   "id": "4b410607360f0223",
   "outputs": [
    {
     "data": {
      "application/vnd.plotly.v1+json": {
       "data": [
        {
         "hovertemplate": "DOY=%{x}<br>Observed=%{y}<extra></extra>",
         "mode": "lines+markers",
         "name": "S1 Observed (P=7)",
         "x": {
          "dtype": "i2",
          "bdata": "eQB6AHsAfAB9AH4AfwCAAIEAggCDAIQAhQCGAIcAiACJAIoAiwCMAI0AjgCPAJAAkQCSAJMAlACVAJYAlwCYAJkAmgCbAJwAnQCeAJ8AoAChAKIAowCkAKUApgCnAKgAqQCqAKsArACtAK4ArwCwALEAsgCzALQAtQC2ALcAuAC5ALoAuwC8AL0AvgC/AMAAwQDCAMMAxADFAMYAxwDIAMkAygDLAMwAzQDOAA=="
         },
         "y": {
          "dtype": "f8",
          "bdata": "AAAAAAAAPEAAAAAAAIBPQAAAAAAAAE5AAAAAAACASkAAAAAAAIBFQAAAAAAAgE9AAAAAAAAASUAAAAAAAIBXQAAAAAAAgExAAAAAAACASUAAAAAAAIBIQAAAAAAAgEVAAAAAAAAASEAAAAAAAAA7QAAAAAAAAD5AAAAAAAAAS0AAAAAAAIBJQAAAAAAAAE1AAAAAAACASUAAAAAAAIBEQAAAAAAAADVAAAAAAAAAPUAAAAAAAIBMQAAAAAAAgE5AAAAAAAAATkAAAAAAAABIQAAAAAAAAEtAAAAAAABAUEAAAAAAAMBUQAAAAAAAAFFAAAAAAACATEAAAAAAAIBHQAAAAAAAgElAAAAAAAAARkAAAAAAAIBGQAAAAAAAAExAAAAAAAAAQ0AAAAAAAIBJQAAAAAAAgEZAAAAAAAAARkAAAAAAAIBDQAAAAAAAADJAAAAAAACAQ0AAAAAAAIBQQAAAAAAAgE9AAAAAAABAVEAAAAAAAIBJQAAAAAAAAExAAAAAAAAAPEAAAAAAAAA6QAAAAAAAgEpAAAAAAAAATUAAAAAAAEBQQAAAAAAAAEhAAAAAAAAAR0AAAAAAAAAwQAAAAAAAAD1AAAAAAAAATEAAAAAAAABEQAAAAAAAgEBAAAAAAAAATEAAAAAAAABDQAAAAAAAAEhAAAAAAACAUkAAAAAAAABMQAAAAAAAAEpAAAAAAAAATUAAAAAAAIBGQAAAAAAAAE5AAAAAAAAANEAAAAAAAAA9QAAAAAAAAEVAAAAAAACAREAAAAAAAIBJQAAAAAAAAEtAAAAAAAAAR0AAAAAAAABKQAAAAAAAgFFAAAAAAAAATUAAAAAAAABQQAAAAAAAgElAAAAAAAAASUAAAAAAAIBMQAAAAAAAgEtAAAAAAAAAO0AAAAAAAAA0QA=="
         },
         "type": "scatter",
         "xaxis": "x",
         "yaxis": "y",
         "visible": true
        },
        {
         "hovertemplate": "DOY=%{x}<br>Trend=%{y}<extra></extra>",
         "mode": "lines",
         "name": "S1 Trend (P=7)",
         "x": {
          "dtype": "i2",
          "bdata": "eQB6AHsAfAB9AH4AfwCAAIEAggCDAIQAhQCGAIcAiACJAIoAiwCMAI0AjgCPAJAAkQCSAJMAlACVAJYAlwCYAJkAmgCbAJwAnQCeAJ8AoAChAKIAowCkAKUApgCnAKgAqQCqAKsArACtAK4ArwCwALEAsgCzALQAtQC2ALcAuAC5ALoAuwC8AL0AvgC/AMAAwQDCAMMAxADFAMYAxwDIAMkAygDLAMwAzQDOAA=="
         },
         "y": {
          "dtype": "f8",
          "bdata": "k1PwcgoeTECzbdu2bTtMQNOHxvrQWExAbNu2bdu2SUDatm3btm1OQAAAAAAAAE5At23btm1bTUAjSZIkSRJNQCRJkiRJEk1A////////S0C2bdu2bVtKQJEkSZIkyUVAJUmSJEmSRUAkSZIkSZJFQG3btm3bNkZAkiRJkiTJRkCSJEmSJElGQLZt27Zt20VAkiRJkiTJRUAAAAAAAABGQG3btm3btkZAtm3btm3bRkBIkiRJkqRGQCRJkiRJkkdAbdu2bdu2SkAjSZIkSZJOQLZt27ZtW09AJEmSJEkST0BJkiRJkiROQLZt27ZtW05ASZIkSZKkTUBt27Zt2zZMQJIkSZIkSUpASZIkSZIkSEBt27Zt27ZHQCVJkiRJkkdAJUmSJEkSR0Bt27Zt27ZGQJEkSZIkyURAJEmSJEmSQ0AkSZIkSZJFQNu2bdu2bUZAAAAAAAAASUD//////39JQG3btm3btkpA27Zt27ZtS0AAAAAAAIBKQCRJkiRJkklAbdu2bds2SUAkSZIkSRJIQLZt27Zt20dASJIkSZIkR0CRJEmSJElGQAAAAAAAgEZAbtu2bdu2RkDbtm3btm1FQEmSJEmSJENAbtu2bdu2Q0BJkiRJkiRDQNu2bdu2bUVASJIkSZKkSEBJkiRJkqRIQAAAAAAAgElAkiRJkiRJS0AAAAAAAIBKQCRJkiRJEkxAI0mSJEkSSkC2bdu2bdtGQLZt27Zt20VAJEmSJEkSRUAkSZIkSZJEQG7btm3bNkVAbdu2bds2REAAAAAAAIBGQNu2bdu2bUlAJEmSJEmSSkBu27Zt2zZMQG3btm3bNkxA3LZt27btS0Bs27Zt27ZMQNu2bdu27UxAtm3btm3bSUBIkiRJkiRHQKrg5RS8vEtAQjTWh8a6S0Dah8b60LhLQA=="
         },
         "type": "scatter",
         "xaxis": "x2",
         "yaxis": "y2",
         "visible": true
        },
        {
         "hovertemplate": "DOY=%{x}<br>Seasonal=%{y}<extra></extra>",
         "mode": "lines",
         "name": "S1 Seasonal (P=7)",
         "x": {
          "dtype": "i2",
          "bdata": "eQB6AHsAfAB9AH4AfwCAAIEAggCDAIQAhQCGAIcAiACJAIoAiwCMAI0AjgCPAJAAkQCSAJMAlACVAJYAlwCYAJkAmgCbAJwAnQCeAJ8AoAChAKIAowCkAKUApgCnAKgAqQCqAKsArACtAK4ArwCwALEAsgCzALQAtQC2ALcAuAC5ALoAuwC8AL0AvgC/AMAAwQDCAMMAxADFAMYAxwDIAMkAygDLAMwAzQDOAA=="
         },
         "y": {
          "dtype": "f8",
          "bdata": "i/c5a93OAsAYlZA9r/sJQB1pjJfReBNA6ZIE0danFUBUNZIouCnEvwAnybE2VvA/cQF1nqgVKMCL9zlr3c4CwBiVkD2v+wlAHWmMl9F4E0DpkgTR1qcVQFQ1kii4KcS/ACfJsTZW8D9xAXWeqBUowIv3OWvdzgLAGJWQPa/7CUAdaYyX0XgTQOmSBNHWpxVAVDWSKLgpxL8AJ8mxNlbwP3EBdZ6oFSjAi/c5a93OAsAYlZA9r/sJQB1pjJfReBNA6ZIE0danFUBUNZIouCnEvwAnybE2VvA/cQF1nqgVKMCL9zlr3c4CwBiVkD2v+wlAHWmMl9F4E0DpkgTR1qcVQFQ1kii4KcS/ACfJsTZW8D9xAXWeqBUowIv3OWvdzgLAGJWQPa/7CUAdaYyX0XgTQOmSBNHWpxVAVDWSKLgpxL8AJ8mxNlbwP3EBdZ6oFSjAi/c5a93OAsAYlZA9r/sJQB1pjJfReBNA6ZIE0danFUBUNZIouCnEvwAnybE2VvA/cQF1nqgVKMCL9zlr3c4CwBiVkD2v+wlAHWmMl9F4E0DpkgTR1qcVQFQ1kii4KcS/ACfJsTZW8D9xAXWeqBUowIv3OWvdzgLAGJWQPa/7CUAdaYyX0XgTQOmSBNHWpxVAVDWSKLgpxL8AJ8mxNlbwP3EBdZ6oFSjAi/c5a93OAsAYlZA9r/sJQB1pjJfReBNA6ZIE0danFUBUNZIouCnEvwAnybE2VvA/cQF1nqgVKMCL9zlr3c4CwBiVkD2v+wlAHWmMl9F4E0DpkgTR1qcVQFQ1kii4KcS/ACfJsTZW8D9xAXWeqBUowIv3OWvdzgLAGJWQPa/7CUAdaYyX0XgTQOmSBNHWpxVAVDWSKLgpxL8AJ8mxNlbwP3EBdZ6oFSjAi/c5a93OAsAYlZA9r/sJQA=="
         },
         "type": "scatter",
         "xaxis": "x3",
         "yaxis": "y3",
         "visible": true
        },
        {
         "hovertemplate": "DOY=%{x}<br>Residual=%{y}<extra></extra>",
         "mode": "lines+markers",
         "name": "S1 Residual (P=7)",
         "x": {
          "dtype": "i2",
          "bdata": "eQB6AHsAfAB9AH4AfwCAAIEAggCDAIQAhQCGAIcAiACJAIoAiwCMAI0AjgCPAJAAkQCSAJMAlACVAJYAlwCYAJkAmgCbAJwAnQCeAJ8AoAChAKIAowCkAKUApgCnAKgAqQCqAKsArACtAK4ArwCwALEAsgCzALQAtQC2ALcAuAC5ALoAuwC8AL0AvgC/AMAAwQDCAMMAxADFAMYAxwDIAMkAygDLAMwAzQDOAA=="
         },
         "y": {
          "dtype": "f8",
          "bdata": "NWh5ODniOcC4j7hUdU0KQNSeArdl/fi/ktx2fWS9DsBJSYpGGrMxwADZNk7Jqf8/VCodDMefCkBWViGypBpDQKyTWsMgkBHAijTGy2i8I8BMAPBDokEiwNYtSRBtfdq/MNr2XVKwDkA+Rqjn92YQwNHvDFy2JyjA5JDuzgO5FEBMyalYJ/j4P7T/D7xdviFAG237LilYHkDASXKsjRUQwENsZhjFxSjA9TifgP+5LMCakQkMy+4gQOKm8KFy+iFAvEYSBTeF8j+326axffgpwLjbprF9eCPA4dwrDITMLUBfGh4btxA5QMRHXKq6JhBAZfuw4GOdHMAot10fWa8twJZLEkRbn/a/CNyW9R86FcC9k5nnOjojQE9ZhciSaiZA2kmtYRDIJsDY2+XVl4LmP8TdNo3tw/+/i0iynAQPFEDgkgTR1qcUwPvZQc8yoS3AHYIxpUhMIcC+2pswFIEnQHu7vPpS0BJAkG3jlJy6NEBWue36yHr9v0Da9l1SsA5AQ2xmGMXFJMBXU72btsozwIiPuFR1TQBAowRPH5xiG0BIJFlOggcuQFUjiYKbQglAAFOSopHG3L/72UHPMqEtwIKWh5MjvRvAAm3AeaalKkDK9mHBxzoJwOAkOdbGii7Aa/8feLt8G0AEbsv6D50owHEBdZ6oFSJAzfXUiJLHNUCAUQnZ87rPvx5ZD16NBSLA8D+SpgBe3D8r4Las/9Dhv0gkWU6Chy5AHyPU83szJMCtpno3bZUjwPhL/hhmaQ3AhURDBa0vEcC4aNt3ScHiP6W1rcstZwpAcEmCaOtTIMByJzPPdXQeQC8Q86NJ2C9AsAXY6Dmu8b8M7vLqS0H7P+AkOdbGiijAFnBb1n/o+L8AkjQF8GIjQMl+3Uq4IidAkylFYrEbOsAskZ/ui1hDwA=="
         },
         "type": "scatter",
         "xaxis": "x4",
         "yaxis": "y4",
         "visible": true
        },
        {
         "hovertemplate": "DOY=%{x}<br>Observed=%{y}<extra></extra>",
         "mode": "lines+markers",
         "name": "S1 Observed (P=30)",
         "x": {
          "dtype": "i2",
          "bdata": "eQB6AHsAfAB9AH4AfwCAAIEAggCDAIQAhQCGAIcAiACJAIoAiwCMAI0AjgCPAJAAkQCSAJMAlACVAJYAlwCYAJkAmgCbAJwAnQCeAJ8AoAChAKIAowCkAKUApgCnAKgAqQCqAKsArACtAK4ArwCwALEAsgCzALQAtQC2ALcAuAC5ALoAuwC8AL0AvgC/AMAAwQDCAMMAxADFAMYAxwDIAMkAygDLAMwAzQDOAA=="
         },
         "y": {
          "dtype": "f8",
          "bdata": "AAAAAAAAPEAAAAAAAIBPQAAAAAAAAE5AAAAAAACASkAAAAAAAIBFQAAAAAAAgE9AAAAAAAAASUAAAAAAAIBXQAAAAAAAgExAAAAAAACASUAAAAAAAIBIQAAAAAAAgEVAAAAAAAAASEAAAAAAAAA7QAAAAAAAAD5AAAAAAAAAS0AAAAAAAIBJQAAAAAAAAE1AAAAAAACASUAAAAAAAIBEQAAAAAAAADVAAAAAAAAAPUAAAAAAAIBMQAAAAAAAgE5AAAAAAAAATkAAAAAAAABIQAAAAAAAAEtAAAAAAABAUEAAAAAAAMBUQAAAAAAAAFFAAAAAAACATEAAAAAAAIBHQAAAAAAAgElAAAAAAAAARkAAAAAAAIBGQAAAAAAAAExAAAAAAAAAQ0AAAAAAAIBJQAAAAAAAgEZAAAAAAAAARkAAAAAAAIBDQAAAAAAAADJAAAAAAACAQ0AAAAAAAIBQQAAAAAAAgE9AAAAAAABAVEAAAAAAAIBJQAAAAAAAAExAAAAAAAAAPEAAAAAAAAA6QAAAAAAAgEpAAAAAAAAATUAAAAAAAEBQQAAAAAAAAEhAAAAAAAAAR0AAAAAAAAAwQAAAAAAAAD1AAAAAAAAATEAAAAAAAABEQAAAAAAAgEBAAAAAAAAATEAAAAAAAABDQAAAAAAAAEhAAAAAAACAUkAAAAAAAABMQAAAAAAAAEpAAAAAAAAATUAAAAAAAIBGQAAAAAAAAE5AAAAAAAAANEAAAAAAAAA9QAAAAAAAAEVAAAAAAACAREAAAAAAAIBJQAAAAAAAAEtAAAAAAAAAR0AAAAAAAABKQAAAAAAAgFFAAAAAAAAATUAAAAAAAABQQAAAAAAAgElAAAAAAAAASUAAAAAAAIBMQAAAAAAAgEtAAAAAAAAAO0AAAAAAAAA0QA=="
         },
         "type": "scatter",
         "xaxis": "x",
         "yaxis": "y",
         "visible": false
        },
        {
         "hovertemplate": "DOY=%{x}<br>Trend=%{y}<extra></extra>",
         "mode": "lines",
         "name": "S1 Trend (P=30)",
         "x": {
          "dtype": "i2",
          "bdata": "eQB6AHsAfAB9AH4AfwCAAIEAggCDAIQAhQCGAIcAiACJAIoAiwCMAI0AjgCPAJAAkQCSAJMAlACVAJYAlwCYAJkAmgCbAJwAnQCeAJ8AoAChAKIAowCkAKUApgCnAKgAqQCqAKsArACtAK4ArwCwALEAsgCzALQAtQC2ALcAuAC5ALoAuwC8AL0AvgC/AMAAwQDCAMMAxADFAMYAxwDIAMkAygDLAMwAzQDOAA=="
         },
         "y": {
          "dtype": "f8",
          "bdata": "JHM495JXSkA8bsRzkE1KQFRpUPCNQ0pAbGTcbIs5SkCEX2jpiC9KQJxa9GWGJUpAtFWA4oMbSkDMUAxfgRFKQOVLmNt+B0pA/UYkWHz9SUAVQrDUefNJQC09PFF36UlARTjIzXTfSUBdM1RKctVJQHUu4MZvy0lA3d3d3d09SkCZmZmZmVlKQENEREREJEpA3d3d3d39SUDu7u7u7u5JQENERERE5ElAu7u7u7u7SUBnZmZmZkZJQBMRERER0UhAioiIiIioSEBGRERERIRIQJqZmZmZOUhAEhERERHxR0ARERERETFIQKuqqqqqykhAq6qqqqpKSUBERERERIRJQAAAAAAAgElArKqqqqpKSUCZmZmZmflIQN7d3d3dHUlAAAAAAACgSUDv7u7u7u5JQERERERE5ElAq6qqqqqqSUCIiIiIiEhJQO7u7u7uzkhAZWZmZmaGSEB2d3d3dxdIQBARERERcUdAREREREQkR0Dv7u7u7g5HQFVVVVVV9UZA8O7u7u4uR0BnZmZmZoZHQFdVVVVVlUdAeXd3d3e3R0BWVVVVVdVHQIiIiIiI6EdAVlVVVVXVR0DNzMzMzIxHQKuqqqqqqkdAISIiIiLiR0BnZmZmZsZHQDMzMzMzk0dAVVVVVVU1R0DNzMzMzOxGQMzMzMzMDEdAq6qqqqpqR0C8u7u7u/tHQImIiIiISEhAMzMzMzMzSEARERERERFIQO7u7u7uDkhAVlVVVVX1R0BVVVVVVdVHQL13IK4woEdA8hG7P0SeR0AmrFXRV5xHQFpG8GJrmkdAjuCK9H6YR0DCeiWGkpZHQPYUwBemlEdAKq9aqbmSR0BfSfU6zZBHQJPjj8zgjkdAx30qXvSMR0D7F8XvB4tHQC+yX4EbiUdAY0z6Ei+HR0CY5pSkQoVHQA=="
         },
         "type": "scatter",
         "xaxis": "x2",
         "yaxis": "y2",
         "visible": false
        },
        {
         "hovertemplate": "DOY=%{x}<br>Seasonal=%{y}<extra></extra>",
         "mode": "lines",
         "name": "S1 Seasonal (P=30)",
         "x": {
          "dtype": "i2",
          "bdata": "eQB6AHsAfAB9AH4AfwCAAIEAggCDAIQAhQCGAIcAiACJAIoAiwCMAI0AjgCPAJAAkQCSAJMAlACVAJYAlwCYAJkAmgCbAJwAnQCeAJ8AoAChAKIAowCkAKUApgCnAKgAqQCqAKsArACtAK4ArwCwALEAsgCzALQAtQC2ALcAuAC5ALoAuwC8AL0AvgC/AMAAwQDCAMMAxADFAMYAxwDIAMkAygDLAMwAzQDOAA=="
         },
         "y": {
          "dtype": "f8",
          "bdata": "F+TWtVaVCMDKkxxPkZblv6m2D4AqkQdATHwm3S93G0Ay7fLdkjECwEy+Yxdl1BlA0gISA8IQAcDEdBrIweIoQC7cGHcDWglAftNa2YyCKMBun5L8W3ImwKGk5PZa0S7A9hXE/CFsG8AQ8WGVnjzzv20VG7VpxtA/loeZKEIBJ0BzcAvNKO0DQML3XVoZZylAfWh8BRQVCMA25hvz1MYUwM6Mw4IUzRzAPYOdlsRtCcCKG3+3vhsmQI+hZ/BOQhlAZ1/VkzbdDsAyiq5VK+czwBVQu9iJRxrAGXrENV3+KECP8Tut1LUqQBsmeQM/SP8/F+TWtVaVCMDKkxxPkZblv6m2D4AqkQdATHwm3S93G0Ay7fLdkjECwEy+Yxdl1BlA0gISA8IQAcDEdBrIweIoQC7cGHcDWglAftNa2YyCKMBun5L8W3ImwKGk5PZa0S7A9hXE/CFsG8AQ8WGVnjzzv20VG7VpxtA/loeZKEIBJ0BzcAvNKO0DQML3XVoZZylAfWh8BRQVCMA25hvz1MYUwM6Mw4IUzRzAPYOdlsRtCcCKG3+3vhsmQI+hZ/BOQhlAZ1/VkzbdDsAyiq5VK+czwBVQu9iJRxrAGXrENV3+KECP8Tut1LUqQBsmeQM/SP8/F+TWtVaVCMDKkxxPkZblv6m2D4AqkQdATHwm3S93G0Ay7fLdkjECwEy+Yxdl1BlA0gISA8IQAcDEdBrIweIoQC7cGHcDWglAftNa2YyCKMBun5L8W3ImwKGk5PZa0S7A9hXE/CFsG8AQ8WGVnjzzv20VG7VpxtA/loeZKEIBJ0BzcAvNKO0DQML3XVoZZylAfWh8BRQVCMA25hvz1MYUwM6Mw4IUzRzAPYOdlsRtCcCKG3+3vhsmQI+hZ/BOQhlAZ1/VkzbdDsAyiq5VK+czwA=="
         },
         "type": "scatter",
         "xaxis": "x3",
         "yaxis": "y3",
         "visible": false
        },
        {
         "hovertemplate": "DOY=%{x}<br>Residual=%{y}<extra></extra>",
         "mode": "lines+markers",
         "name": "S1 Residual (P=30)",
         "x": {
          "dtype": "i2",
          "bdata": "eQB6AHsAfAB9AH4AfwCAAIEAggCDAIQAhQCGAIcAiACJAIoAiwCMAI0AjgCPAJAAkQCSAJMAlACVAJYAlwCYAJkAmgCbAJwAnQCeAJ8AoAChAKIAowCkAKUApgCnAKgAqQCqAKsArACtAK4ArwCwALEAsgCzALQAtQC2ALcAuAC5ALoAuwC8AL0AvgC/AMAAwQDCAMMAxADFAMYAxwDIAMkAygDLAMwAzQDOAA=="
         },
         "y": {
          "dtype": "f8",
          "bdata": "xQm2F3ucNcBNEOBFJyMmQAzadD37GhJArJ8JRItDGcCHhUncfWMcwNRs+bhn/xBAwA1rnoTvtL8GJNpdnGs9QATLxJ4dXPw/irfJeJuMJkAal9GpdKQgQNpf52P7VhpAnKcEHffgCECpR1KrGnc3wEDJlDT52TXACv8QoLn4I8AChVIzYcMQwJwR3tZU8BvArYqeJzY3AEA6kVuEorAWwFKl12dDlTfADsej5L5JM8BMajGisGoSwNnVD4coNRRAsjXTgisVLUCmASbNot4yQKJB94VePShAPoPuC716EkAW5T+H80I1QEgYc7omdjBAWg7LAqv6IkBOH33wn94KwKm2D4AqkQfA1ug9mULmKsBerKa7BmgFwOBplTKgGua/TH87f887JsCAMNaDfZ4qwBxI1+6R5yPApFFgXcSvE0BAVvCxxPjVv4yLa2IwNTDAZDrebCKOCcAlMGf62gQzQBXjEm6ItS9ArbMqY9Y2N0CdoAVE6CMDQFg0zb668QTAoaFcuna2LsCBpgsgL7YvwAtxDOw0ESpA64LJR5N9K0A8Hlfm1x0ZQM/lqzSThhjABwqAPuGHAUDQHtaH3GQmwKICTb7lhifAOgWafMsNEcCWxWojt+c0wMj4nVbqGjDAsmMgWABQKUDv04I8lLMcwNIGuZnuu/C/lwths95MNEBczI3IdZ0kQCgFULdSMQjA6LP3s2N3J0AIuV4MBicvwDwNfmbDbSFA2oH6e8hSL8DMa4Wx8sUdwK3FYj6YUCRAMDNc9//P4z8UG6saaewTQNkbLE0+IBpAzgnF+j1jKcBt45zQrqkCQGa0oUZORiRAd130W166K0DQZtzGGhA2QBs4Ig8HKyZAZtP6WT9PGECw25u08z7yv+QzaxJU0/k/2ex5U7cyMMD4C+3NZ40cwA=="
         },
         "type": "scatter",
         "xaxis": "x4",
         "yaxis": "y4",
         "visible": false
        },
        {
         "hovertemplate": "DOY=%{x}<br>Observed=%{y}<extra></extra>",
         "mode": "lines+markers",
         "name": "S2 Observed (P=7)",
         "x": {
          "dtype": "i2",
          "bdata": "eQB6AHsAfAB9AH4AfwCAAIEAggCDAIQAhQCGAIcAiACJAIoAiwCMAI0AjgCPAJAAkQCSAJMAlACVAJYAlwCYAJkAmgCbAJwAnQCeAJ8AoAChAKIAowCkAKUApgCnAKgAqQCqAKsArACtAK4ArwCwALEAsgCzALQAtQC2ALcAuAC5ALoAuwC8AL0AvgC/AMAAwQDCAMMAxADFAMYAxwDIAMkAygDLAMwA"
         },
         "y": {
          "dtype": "f8",
          "bdata": "AAAAAAAAMkAAAAAAAIBFQAAAAAAAAE1AAAAAAAAAR0AAAAAAAABJQAAAAAAAAENAAAAAAACARkAAAAAAAIBOQAAAAAAAAFBAAAAAAAAAPkAAAAAAAABGQAAAAAAAgEJAAAAAAACAQEAAAAAAAAA4QAAAAAAAACpAAAAAAACARUAAAAAAAIBDQAAAAAAAAEBAAAAAAACAQUAAAAAAAIBEQAAAAAAAgEFAAAAAAAAATkAAAAAAAEBQQAAAAAAAgElAAAAAAAAAR0AAAAAAAIBEQAAAAAAAgEhAAAAAAAAARkAAAAAAAABGQAAAAAAAAEpAAAAAAACAR0AAAAAAAABIQAAAAAAAgENAAAAAAAAAQ0AAAAAAAABAQAAAAAAAADZAAAAAAAAAR0AAAAAAAIBKQAAAAAAAgEdAAAAAAACAREAAAAAAAABKQAAAAAAAAD5AAAAAAAAALEAAAAAAAABEQAAAAAAAgEZAAAAAAACASEAAAAAAAABGQAAAAAAAAEZAAAAAAAAAOkAAAAAAAAAuQAAAAAAAAERAAAAAAAAASUAAAAAAAABDQAAAAAAAAEZAAAAAAAAAPUAAAAAAAAAxQAAAAAAAADZAAAAAAAAASEAAAAAAAEBQQAAAAAAAQFRAAAAAAAAATkAAAAAAAIBPQAAAAAAAAEVAAAAAAAAAMUAAAAAAAABEQAAAAAAAAE5AAAAAAAAAUEAAAAAAAABMQAAAAAAAAEFAAAAAAACARkAAAAAAAIBUQAAAAAAAwFFAAAAAAACAUEAAAAAAAIBHQAAAAAAAgEdAAAAAAAAAS0AAAAAAAIBFQAAAAAAAQFBAAAAAAADAUkAAAAAAAAA7QAAAAAAAgERAAAAAAAAAQEAAAAAAAABGQAAAAAAAADlA"
         },
         "type": "scatter",
         "xaxis": "x",
         "yaxis": "y",
         "visible": false
        },
        {
         "hovertemplate": "DOY=%{x}<br>Trend=%{y}<extra></extra>",
         "mode": "lines",
         "name": "S2 Trend (P=7)",
         "x": {
          "dtype": "i2",
          "bdata": "eQB6AHsAfAB9AH4AfwCAAIEAggCDAIQAhQCGAIcAiACJAIoAiwCMAI0AjgCPAJAAkQCSAJMAlACVAJYAlwCYAJkAmgCbAJwAnQCeAJ8AoAChAKIAowCkAKUApgCnAKgAqQCqAKsArACtAK4ArwCwALEAsgCzALQAtQC2ALcAuAC5ALoAuwC8AL0AvgC/AMAAwQDCAMMAxADFAMYAxwDIAMkAygDLAMwA"
         },
         "y": {
          "dtype": "f8",
          "bdata": "mFPwcgreR0BkfWisD81HQC+n4OUUvEdAkiRJkiRJRUC3bdu2bVtIQLZt27Zt20lAt23btm3bR0Bs27Zt27ZHQJIkSZIkyUZA27Zt27ZtRkDbtm3btu1EQP//////f0FAAAAAAAAAQEBJkiRJkqRAQCRJkiRJkj9AkiRJkiRJP0Bt27Zt2zZAQAAAAAAAAEFAtm3btm1bREDbtm3btu1FQJIkSZIkyUZAkiRJkiTJR0Bt27Zt2zZIQJEkSZIkyUhA2rZt27ZtSUCSJEmSJElIQLdt27ZtW0dAJEmSJEkSR0Bt27Zt2zZHQCNJkiRJEkdAkiRJkiRJRkDbtm3btm1FQLdt27Zt20NA27Zt27ZtQ0C2bdu2bdtDQJIkSZIkyUNA27Zt27btQ0Dbtm3btu1EQJIkSZIkyURAbdu2bds2RECSJEmSJMlDQG3btm3bNkNAtm3btm1bQ0AkSZIkSZJDQAAAAAAAAENAbtu2bdu2QkCSJEmSJMlCQJIkSZIkyUJASJIkSZIkQ0C2bdu2bVtCQLZt27ZtW0JAkiRJkiRJQUBJkiRJkqRAQEmSJEmSJEFAbdu2bdu2QUCSJEmSJMlCQLZt27Zt20VA////////RkDbtm3btm1JQG3btm3bNktAt23btm3bSkCSJEmSJElKQNu2bdu27UlAbNu2bdu2SEDatm3btm1IQLdt27ZtW0ZAJUmSJEmSRkBu27Zt2zZLQNy2bdu2bU1Atm3btm3bTUBJkiRJkqRMQAAAAAAAAExA3LZt27ZtTUCSJEmSJElNQCVJkiRJEkxAtm3btm1bTEAkSZIkSZJJQEiSJEmSJElAI0mSJEkSSEC2bdu2bVtHQCRJkiRJEkZA8KGxPjQWRUBcfWisDw1EQMhYHxrrA0NA"
         },
         "type": "scatter",
         "xaxis": "x2",
         "yaxis": "y2",
         "visible": false
        },
        {
         "hovertemplate": "DOY=%{x}<br>Seasonal=%{y}<extra></extra>",
         "mode": "lines",
         "name": "S2 Seasonal (P=7)",
         "x": {
          "dtype": "i2",
          "bdata": "eQB6AHsAfAB9AH4AfwCAAIEAggCDAIQAhQCGAIcAiACJAIoAiwCMAI0AjgCPAJAAkQCSAJMAlACVAJYAlwCYAJkAmgCbAJwAnQCeAJ8AoAChAKIAowCkAKUApgCnAKgAqQCqAKsArACtAK4ArwCwALEAsgCzALQAtQC2ALcAuAC5ALoAuwC8AL0AvgC/AMAAwQDCAMMAxADFAMYAxwDIAMkAygDLAMwA"
         },
         "y": {
          "dtype": "f8",
          "bdata": "y8PJkb5aIMB3OtGL9m0gQHw0CV8anhRAdwVifjSJFEBgGFOKxGKHv6ehfmfgsum/xJQisdgFI8DLw8mRvlogwHc60Yv2bSBAfDQJXxqeFEB3BWJ+NIkUQGAYU4rEYoe/p6F+Z+Cy6b/ElCKx2AUjwMvDyZG+WiDAdzrRi/ZtIEB8NAlfGp4UQHcFYn40iRRAYBhTisRih7+noX5n4LLpv8SUIrHYBSPAy8PJkb5aIMB3OtGL9m0gQHw0CV8anhRAdwVifjSJFEBgGFOKxGKHv6ehfmfgsum/xJQisdgFI8DLw8mRvlogwHc60Yv2bSBAfDQJXxqeFEB3BWJ+NIkUQGAYU4rEYoe/p6F+Z+Cy6b/ElCKx2AUjwMvDyZG+WiDAdzrRi/ZtIEB8NAlfGp4UQHcFYn40iRRAYBhTisRih7+noX5n4LLpv8SUIrHYBSPAy8PJkb5aIMB3OtGL9m0gQHw0CV8anhRAdwVifjSJFEBgGFOKxGKHv6ehfmfgsum/xJQisdgFI8DLw8mRvlogwHc60Yv2bSBAfDQJXxqeFEB3BWJ+NIkUQGAYU4rEYoe/p6F+Z+Cy6b/ElCKx2AUjwMvDyZG+WiDAdzrRi/ZtIEB8NAlfGp4UQHcFYn40iRRAYBhTisRih7+noX5n4LLpv8SUIrHYBSPAy8PJkb5aIMB3OtGL9m0gQHw0CV8anhRAdwVifjSJFEBgGFOKxGKHv6ehfmfgsum/xJQisdgFI8DLw8mRvlogwHc60Yv2bSBAfDQJXxqeFEB3BWJ+NIkUQGAYU4rEYoe/p6F+Z+Cy6b/ElCKx2AUjwMvDyZG+WiDAdzrRi/ZtIEB8NAlfGp4UQHcFYn40iRRAYBhTisRih7+noX5n4LLpv8SUIrHYBSPA"
         },
         "type": "scatter",
         "xaxis": "x3",
         "yaxis": "y3",
         "visible": false
        },
        {
         "hovertemplate": "DOY=%{x}<br>Residual=%{y}<extra></extra>",
         "mode": "lines+markers",
         "name": "S2 Residual (P=7)",
         "x": {
          "dtype": "i2",
          "bdata": "eQB6AHsAfAB9AH4AfwCAAIEAggCDAIQAhQCGAIcAiACJAIoAiwCMAI0AjgCPAJAAkQCSAJMAlACVAJYAlwCYAJkAmgCbAJwAnQCeAJ8AoAChAKIAowCkAKUApgCnAKgAqQCqAKsArACtAK4ArwCwALEAsgCzALQAtQC2ALcAuAC5ALoAuwC8AL0AvgC/AMAAwQDCAMMAxADFAMYAxwDIAMkAygDLAMwA"
         },
         "y": {
          "dtype": "f8",
          "bdata": "SsX7nLWONcAHMHM9NaIpwAyS8XE+gRVAHKisQmRJ+79R76atDsH0P77M9dSI0inA0Ltpq0MwG0AOK3dtqL81QEEzCit3bSRA1bqdTvQCNMCeeJ+z1u0HwChTisRiFwBA1FC/M3DZ/D8A6BIk4+PMP33OWrfTySTAlPFxPgH/C0BwwP/MKKz2P3cFYn40iRzAJESWVLzPFsBGxfuctW4AwCDsD8DM9fC/wphSJBabNEDVV1O9m7YgQAiypOJ9zg3AJN7nrHX7I8AE+wMwcz0ewPrMKKzctQhAaOCyPWh5HUAurNy1of4WQAx8aXhs3ALAGLKk4n3OBcAAYodgTCmCP14hsqTifea/kFHxPmetq79g76atDsH8P33OWrfTySLAjFcg5keTAMCsFInFLvQXQJBfTfVu2tI/InFypK+m4j/SV1O9m3YqQIA4OdJXU/E/hvnRJHyJMMAOvjQ8Nm4dwBAu24OWh/0/GR/nE/C/GUD8BPzPjMIZQKWvpno37RxAcNG+zcExBsAN86NJ+BIrwJ7ifc5atxPAetNWh2CMJEDwe2l4bNzav6JLkIyPcyNAMwfHYH+AFsCE/QGYuR4mwA3zo0n4EivA5nSiF+3bGMBWisRiF/ohQMjH+QT8bzVA1Ltpq0MwGUDSV1O9m3YmQADViJJXINa/8tSIkldAOMDwCsT8aBIxwOauDfU7QyRAsNiFLkFyK0BxODnSV1P5P6t4n7PWDTjAKESWVLzPFMCq3k1bHXJAQBKLXegSJBtAkFIkFrvQ/z+CyipElrQwwM6PJuFLQyLA7GWup0aU/r+ggcv2oOX1P1a9m7Y65DZAftDycHKkMkCLKHkFYt44wEwnetG+jSDA+vKjSfhSJMBV6aup3s0SQHA5a91OJwzA"
         },
         "type": "scatter",
         "xaxis": "x4",
         "yaxis": "y4",
         "visible": false
        },
        {
         "hovertemplate": "DOY=%{x}<br>Observed=%{y}<extra></extra>",
         "mode": "lines+markers",
         "name": "S2 Observed (P=30)",
         "x": {
          "dtype": "i2",
          "bdata": "eQB6AHsAfAB9AH4AfwCAAIEAggCDAIQAhQCGAIcAiACJAIoAiwCMAI0AjgCPAJAAkQCSAJMAlACVAJYAlwCYAJkAmgCbAJwAnQCeAJ8AoAChAKIAowCkAKUApgCnAKgAqQCqAKsArACtAK4ArwCwALEAsgCzALQAtQC2ALcAuAC5ALoAuwC8AL0AvgC/AMAAwQDCAMMAxADFAMYAxwDIAMkAygDLAMwA"
         },
         "y": {
          "dtype": "f8",
          "bdata": "AAAAAAAAMkAAAAAAAIBFQAAAAAAAAE1AAAAAAAAAR0AAAAAAAABJQAAAAAAAAENAAAAAAACARkAAAAAAAIBOQAAAAAAAAFBAAAAAAAAAPkAAAAAAAABGQAAAAAAAgEJAAAAAAACAQEAAAAAAAAA4QAAAAAAAACpAAAAAAACARUAAAAAAAIBDQAAAAAAAAEBAAAAAAACAQUAAAAAAAIBEQAAAAAAAgEFAAAAAAAAATkAAAAAAAEBQQAAAAAAAgElAAAAAAAAAR0AAAAAAAIBEQAAAAAAAgEhAAAAAAAAARkAAAAAAAABGQAAAAAAAAEpAAAAAAACAR0AAAAAAAABIQAAAAAAAgENAAAAAAAAAQ0AAAAAAAABAQAAAAAAAADZAAAAAAAAAR0AAAAAAAIBKQAAAAAAAgEdAAAAAAACAREAAAAAAAABKQAAAAAAAAD5AAAAAAAAALEAAAAAAAABEQAAAAAAAgEZAAAAAAACASEAAAAAAAABGQAAAAAAAAEZAAAAAAAAAOkAAAAAAAAAuQAAAAAAAAERAAAAAAAAASUAAAAAAAABDQAAAAAAAAEZAAAAAAAAAPUAAAAAAAAAxQAAAAAAAADZAAAAAAAAASEAAAAAAAEBQQAAAAAAAQFRAAAAAAAAATkAAAAAAAIBPQAAAAAAAAEVAAAAAAAAAMUAAAAAAAABEQAAAAAAAAE5AAAAAAAAAUEAAAAAAAABMQAAAAAAAAEFAAAAAAACARkAAAAAAAIBUQAAAAAAAwFFAAAAAAACAUEAAAAAAAIBHQAAAAAAAgEdAAAAAAAAAS0AAAAAAAIBFQAAAAAAAQFBAAAAAAADAUkAAAAAAAAA7QAAAAAAAgERAAAAAAAAAQEAAAAAAAABGQAAAAAAAADlA"
         },
         "type": "scatter",
         "xaxis": "x",
         "yaxis": "y",
         "visible": false
        },
        {
         "hovertemplate": "DOY=%{x}<br>Trend=%{y}<extra></extra>",
         "mode": "lines",
         "name": "S2 Trend (P=30)",
         "x": {
          "dtype": "i2",
          "bdata": "eQB6AHsAfAB9AH4AfwCAAIEAggCDAIQAhQCGAIcAiACJAIoAiwCMAI0AjgCPAJAAkQCSAJMAlACVAJYAlwCYAJkAmgCbAJwAnQCeAJ8AoAChAKIAowCkAKUApgCnAKgAqQCqAKsArACtAK4ArwCwALEAsgCzALQAtQC2ALcAuAC5ALoAuwC8AL0AvgC/AMAAwQDCAMMAxADFAMYAxwDIAMkAygDLAMwA"
         },
         "y": {
          "dtype": "f8",
          "bdata": "ShE48VR8RkBDm2XXhW1GQDwlk722XkZANK/Ao+dPRkAtOe6JGEFGQCbDG3BJMkZAH01JVnojRkAY13Y8qxRGQBFhpCLcBUZACuvRCA33RUACdf/uPehFQPv+LNVu2UVA9Ihau5/KRUDtEoih0LtFQOactYcBrUVAeHd3d3eXRUABAAAAAOBFQCQiIiIiwkVAioiIiIiIRUASEREREVFFQImIiIiICEVAiYiIiIjoRECamZmZmdlEQENEREREpERAd3d3d3eXREABAAAAAMBEQCMiIiIiwkRAq6qqqqqKREBFRERERIREQKyqqqqq6kRAvru7u7s7RUA0MzMzM1NFQHh3d3d3d0VA3t3d3d19RUA0MzMzMzNFQGhmZmZmBkVAvbu7u7v7REDNzMzMzKxEQEVEREREZERAERERERExRECZmZmZmdlDQM3MzMzMbENAu7u7u7s7Q0ASEREREXFDQLy7u7u720NAVVVVVVU1REAQEREREXFEQHh3d3d3l0RAERERERFxREBWVVVVVVVEQHh3d3d3t0RA8O7u7u4uRUC8u7u7u1tFQGhmZmZmRkVANTMzMzMzRUC8u7u7u3tFQDMzMzMzE0ZAmpmZmZnZRkB4d3d3d1dHQKyqqqqqakdAm5mZmZl5R0AjIiIiIoJHQM7MzMzMrEdAIiIiIiJCSEBFRERERMRIQP//////30hAvLu7u7u7SEAjIiIiIqJIQGdmZmZmhkhA1kWWENoRSUBk9dmN+kRJQPKkHQsbeElAf1RhiDurSUANBKUFXN5JQJqz6IJ8EUpAKGMsAJ1ESkC2EnB9vXdKQETCs/rdqkpA0nH3d/7dSkBfITv1HhFLQO3QfnI/REtAe4DC7193S0AIMAZtgKpLQJbfSeqg3UtA"
         },
         "type": "scatter",
         "xaxis": "x2",
         "yaxis": "y2",
         "visible": false
        },
        {
         "hovertemplate": "DOY=%{x}<br>Seasonal=%{y}<extra></extra>",
         "mode": "lines",
         "name": "S2 Seasonal (P=30)",
         "x": {
          "dtype": "i2",
          "bdata": "eQB6AHsAfAB9AH4AfwCAAIEAggCDAIQAhQCGAIcAiACJAIoAiwCMAI0AjgCPAJAAkQCSAJMAlACVAJYAlwCYAJkAmgCbAJwAnQCeAJ8AoAChAKIAowCkAKUApgCnAKgAqQCqAKsArACtAK4ArwCwALEAsgCzALQAtQC2ALcAuAC5ALoAuwC8AL0AvgC/AMAAwQDCAMMAxADFAMYAxwDIAMkAygDLAMwA"
         },
         "y": {
          "dtype": "f8",
          "bdata": "sqHvD8mIAcBAv45nbrgdQKr52rPdGgJAg56VFYSKJcAW1xuf5wIPwJ7Y2Qce1xHAmjR/DzJ4HUBimOOKOFspQOJ2rhD6kxJAU8RskonaFMAZm3xRQywvQH8oMM30iANAoFdoyttuF8DwKc9hmAgbwDnFDJnxQiLAomuTEfLmEEAcPa6PilkHwBPay6KK0P4/IiaSqhUS2D/5tGCFADUxwKBBJv2coBnA6APw2OFh/j9qum8GT9YKQNMvYK4SVhbAVn797DzVCsC4gWFdcZcowNNpKSFJlRnA4rQ1RvZdDEBIfp6ijignQImltbetGjdAsqHvD8mIAcBAv45nbrgdQKr52rPdGgJAg56VFYSKJcAW1xuf5wIPwJ7Y2Qce1xHAmjR/DzJ4HUBimOOKOFspQOJ2rhD6kxJAU8RskonaFMAZm3xRQywvQH8oMM30iANAoFdoyttuF8DwKc9hmAgbwDnFDJnxQiLAomuTEfLmEEAcPa6PilkHwBPay6KK0P4/IiaSqhUS2D/5tGCFADUxwKBBJv2coBnA6APw2OFh/j9qum8GT9YKQNMvYK4SVhbAVn797DzVCsC4gWFdcZcowNNpKSFJlRnA4rQ1RvZdDEBIfp6ijignQImltbetGjdAsqHvD8mIAcBAv45nbrgdQKr52rPdGgJAg56VFYSKJcAW1xuf5wIPwJ7Y2Qce1xHAmjR/DzJ4HUBimOOKOFspQOJ2rhD6kxJAU8RskonaFMAZm3xRQywvQH8oMM30iANAoFdoyttuF8DwKc9hmAgbwDnFDJnxQiLAomuTEfLmEEAcPa6PilkHwBPay6KK0P4/IiaSqhUS2D/5tGCFADUxwKBBJv2coBnA6APw2OFh/j9qum8GT9YKQNMvYK4SVhbA"
         },
         "type": "scatter",
         "xaxis": "x3",
         "yaxis": "y3",
         "visible": false
        },
        {
         "hovertemplate": "DOY=%{x}<br>Residual=%{y}<extra></extra>",
         "mode": "lines+markers",
         "name": "S2 Residual (P=30)",
         "x": {
          "dtype": "i2",
          "bdata": "eQB6AHsAfAB9AH4AfwCAAIEAggCDAIQAhQCGAIcAiACJAIoAiwCMAI0AjgCPAJAAkQCSAJMAlACVAJYAlwCYAJkAmgCbAJwAnQCeAJ8AoAChAKIAowCkAKUApgCnAKgAqQCqAKsArACtAK4ArwCwALEAsgCzALQAtQC2ALcAuAC5ALoAuwC8AL0AvgC/AMAAwQDCAMMAxADFAMYAxwDIAMkAygDLAMwA"
         },
         "y": {
          "dtype": "f8",
          "bdata": "Xi5ywJDHOMCszF2RTpIiwKasvJxt/iVAs+GShuVKKEASEQ7AV7wiQEgCEeS17P6/kp3JwQSUGsB8FoIGNaQQQEtAF22Sni5A/kkRWu9uIcAhb3oNO80uwAwGAIj4RyLAAPBrECLmEsC8tjhV9mopwDDX5EKKODXAYidPza2iEcDohaPg6kz9v9ID4tyZ4irAWbN2z7LiIMCqJX3GvCUvQEAV8Dg6HeW/sO5f0dBIMEB/1f7rAvIzQN4GH0b4mS5AuoFhXXFXIEC0gWFdcZcnQF4sDAgcwitASH6Bw4Mi5L9cj6+znzkhwML1FRoG4CnA6fIZqobmGkDAsVACEKQAwJU4qZUqyRjAFk48PBkmF0AVrgvKJRgawFGtrJUKLi/ABCW62h+sCsCwXLbwXXPwv9ibvTSPJ/k/yzvkCQFSF0D0BYzfpkoKwFQ9f2ZwlSbAjmHdhMCbMsBgoUbZD4AfQEnWHaoC1CxAtunBQ2NuEUAOlk6/PCQYQNptitwMgew/ddWY8dSELsBm65NKVOsgwOCFakHh5BNAhodMEhDwFkCK3YqwgiQgwJP8LHvfIhxAPm2NkX0XJMA4bY2RfVcrwOIXODwogi/ABJ2evx/v87+wRwf/JvMaQD4K6uX5HyZAAIKV3ct7LkDUF7BDQBshQEXjU0DVcx7AAnV5OQK/NMCdNpRSrqAWwFPs7AOPay1Ahu2iEvCpHEDcQdgmgscXwIZq+FDLsTPAwGilbkPusj9Xjxt30r8vQAyxHlCrnjFA6mzX4T+FNEAQE05pcCsAQETbpzX+8w9AxAntJbQXBsAid6mjJhEcwK5718B2eiNAw9NmubrjNECKGyvKetojwMhF0JZegRzANAEU/d3UOMC6rrR1lV8twDez+yi9JTnA"
         },
         "type": "scatter",
         "xaxis": "x4",
         "yaxis": "y4",
         "visible": false
        },
        {
         "hovertemplate": "DOY=%{x}<br>Observed=%{y}<extra></extra>",
         "mode": "lines+markers",
         "name": "S3 Observed (P=7)",
         "x": {
          "dtype": "i2",
          "bdata": "eQB6AHsAfAB9AH4AfwCAAIEAggCDAIQAhQCGAIcAiACJAIoAiwCMAI0AjgCPAJAAkQCSAJMAlACVAJYAlwCYAJkAmgCbAJwAnQCeAJ8AoAChAKIAowCkAKUApgCnAKgAqQCqAKsArACtAK4ArwCwALEAsgCzALQAtQC2ALcAuAC5ALoAuwC8AL0AvgC/AMAAwQDCAMMAxADFAMYAxwDIAMkAygDLAMwA"
         },
         "y": {
          "dtype": "f8",
          "bdata": "AAAAAAAAIEAAAAAAAABDQAAAAAAAAEpAAAAAAAAARkAAAAAAAABAQAAAAAAAgEJAAAAAAAAAQUAAAAAAAABOQAAAAAAAQFZAAAAAAAAASUAAAAAAAEBRQAAAAAAAAERAAAAAAACARkAAAAAAAIBDQAAAAAAAABxAAAAAAAAAS0AAAAAAAIBCQAAAAAAAgEtAAAAAAAAAQkAAAAAAAABDQAAAAAAAAEhAAAAAAAAASUAAAAAAAEBSQAAAAAAAgE5AAAAAAACAS0AAAAAAAABGQAAAAAAAAEtAAAAAAACASUAAAAAAAABQQAAAAAAAgFFAAAAAAACAQEAAAAAAAABLQAAAAAAAgEVAAAAAAACASEAAAAAAAABLQAAAAAAAgEtAAAAAAAAAUEAAAAAAAABLQAAAAAAAgElAAAAAAACAREAAAAAAAABEQAAAAAAAAERAAAAAAACATkAAAAAAAABQQAAAAAAAAERAAAAAAACARUAAAAAAAABJQAAAAAAAAEtAAAAAAACASEAAAAAAAABJQAAAAAAAAE1AAAAAAADAUkAAAAAAAIBNQAAAAAAAAE1AAAAAAACASEAAAAAAAABCQAAAAAAAAABAAAAAAAAASkAAAAAAAIBLQAAAAAAAAEpAAAAAAACASUAAAAAAAIBKQAAAAAAAAExAAAAAAAAAR0AAAAAAAIBGQAAAAAAAgEhAAAAAAAAASUAAAAAAAABAQAAAAAAAAEFAAAAAAAAAQUAAAAAAAIBOQAAAAAAAQFNAAAAAAAAAS0AAAAAAAIBQQAAAAAAAgE1AAAAAAACASEAAAAAAAABPQAAAAAAAAExAAAAAAAAARkAAAAAAAABIQAAAAAAAgEhAAAAAAACARUAAAAAAAABHQAAAAAAAAEFA"
         },
         "type": "scatter",
         "xaxis": "x",
         "yaxis": "y",
         "visible": false
        },
        {
         "hovertemplate": "DOY=%{x}<br>Trend=%{y}<extra></extra>",
         "mode": "lines",
         "name": "S3 Trend (P=7)",
         "x": {
          "dtype": "i2",
          "bdata": "eQB6AHsAfAB9AH4AfwCAAIEAggCDAIQAhQCGAIcAiACJAIoAiwCMAI0AjgCPAJAAkQCSAJMAlACVAJYAlwCYAJkAmgCbAJwAnQCeAJ8AoAChAKIAowCkAKUApgCnAKgAqQCqAKsArACtAK4ArwCwALEAsgCzALQAtQC2ALcAuAC5ALoAuwC8AL0AvgC/AMAAwQDCAMMAxADFAMYAxwDIAMkAygDLAMwA"
         },
         "y": {
          "dtype": "f8",
          "bdata": "C15OwcupPUDCyyl4OWVAQH5orA+N9UFA//////9/QUBt27Zt2zZFQLdt27Zt20hAbtu2bdu2SED//////39KQCRJkiRJEktASJIkSZKkS0AAAAAAAABMQG3btm3bNkhAbtu2bdu2RUCSJEmSJMlEQJIkSZIkyUNAAAAAAACAQ0AAAAAAAABDQEmSJEmSpENAbtu2bdu2RkAkSZIkSRJIQJMkSZIkyUlAkiRJkiTJSUC2bdu2bVtKQAAAAAAAgEtAbdu2bdu2S0Bu27Zt27ZMQAAAAAAAgExA//////9/SkDctm3btm1KQLZt27ZtW0pAAAAAAAAASkBt27Zt2zZKQCRJkiRJkklASJIkSZIkSUBJkiRJkqRKQNu2bdu2bUpAkSRJkiRJSkBIkiRJkqRJQEmSJEmSpEhAJEmSJEkSSUAkSZIkSRJJQCVJkiRJEkhAAAAAAACAR0BIkiRJkiRIQEmSJEmSJElAkiRJkiTJSUAAAAAAAABJQCVJkiRJkkhAJEmSJEkSS0Bt27Zt2zZMQJIkSZIkyUxA27Zt27ZtTEAAAAAAAIBLQCVJkiRJEkhASZIkSZKkR0Bt27Zt2zZGQG3btm3btkVAbtu2bds2RUD//////39FQNu2bdu27UZAJEmSJEkSSkAkSZIkSZJJQEmSJEmSJElAAAAAAAAASUBIkiRJkqRHQJEkSZIkSUZAbdu2bdu2RECSJEmSJMlFQCVJkiRJEkhA27Zt27ZtSEAlSZIkSZJJQAAAAAAAgEtAJUmSJEmSTEAlSZIkSZJOQG7btm3bNk5Atm3btm3bS0Dbtm3btm1LQG3btm3bNkpAJEmSJEkSSUC2bdu2bdtIQLZt27Zt20ZATJIkSZJERkBENNaHxjpFQDjWh8b6MERA"
         },
         "type": "scatter",
         "xaxis": "x2",
         "yaxis": "y2",
         "visible": false
        },
        {
         "hovertemplate": "DOY=%{x}<br>Seasonal=%{y}<extra></extra>",
         "mode": "lines",
         "name": "S3 Seasonal (P=7)",
         "x": {
          "dtype": "i2",
          "bdata": "eQB6AHsAfAB9AH4AfwCAAIEAggCDAIQAhQCGAIcAiACJAIoAiwCMAI0AjgCPAJAAkQCSAJMAlACVAJYAlwCYAJkAmgCbAJwAnQCeAJ8AoAChAKIAowCkAKUApgCnAKgAqQCqAKsArACtAK4ArwCwALEAsgCzALQAtQC2ALcAuAC5ALoAuwC8AL0AvgC/AMAAwQDCAMMAxADFAMYAxwDIAMkAygDLAMwA"
         },
         "y": {
          "dtype": "f8",
          "bdata": "ipC/ZkftE8BN9waUiesnQKTneZ7nefk/PWoR8tesE0BmfWisD40VwI/G+tBYnw3AiWEYhmGYEcCKkL9mR+0TwE33BpSJ6ydApOd5nud5+T89ahHy16wTQGZ9aKwPjRXAj8b60FifDcCJYRiGYZgRwIqQv2ZH7RPATfcGlInrJ0Ck53me53n5Pz1qEfLXrBNAZn1orA+NFcCPxvrQWJ8NwIlhGIZhmBHAipC/ZkftE8BN9waUiesnQKTneZ7nefk/PWoR8tesE0BmfWisD40VwI/G+tBYnw3AiWEYhmGYEcCKkL9mR+0TwE33BpSJ6ydApOd5nud5+T89ahHy16wTQGZ9aKwPjRXAj8b60FifDcCJYRiGYZgRwIqQv2ZH7RPATfcGlInrJ0Ck53me53n5Pz1qEfLXrBNAZn1orA+NFcCPxvrQWJ8NwIlhGIZhmBHAipC/ZkftE8BN9waUiesnQKTneZ7nefk/PWoR8tesE0BmfWisD40VwI/G+tBYnw3AiWEYhmGYEcCKkL9mR+0TwE33BpSJ6ydApOd5nud5+T89ahHy16wTQGZ9aKwPjRXAj8b60FifDcCJYRiGYZgRwIqQv2ZH7RPATfcGlInrJ0Ck53me53n5Pz1qEfLXrBNAZn1orA+NFcCPxvrQWJ8NwIlhGIZhmBHAipC/ZkftE8BN9waUiesnQKTneZ7nefk/PWoR8tesE0BmfWisD40VwI/G+tBYnw3AiWEYhmGYEcCKkL9mR+0TwE33BpSJ6ydApOd5nud5+T89ahHy16wTQGZ9aKwPjRXAj8b60FifDcCJYRiGYZgRwIqQv2ZH7RPATfcGlInrJ0Ck53me53n5Pz1qEfLXrBNAZn1orA+NFcCPxvrQWJ8NwIlhGIZhmBHA"
         },
         "type": "scatter",
         "xaxis": "x3",
         "yaxis": "y3",
         "visible": false
        },
        {
         "hovertemplate": "DOY=%{x}<br>Residual=%{y}<extra></extra>",
         "mode": "lines+markers",
         "name": "S3 Residual (P=7)",
         "x": {
          "dtype": "i2",
          "bdata": "eQB6AHsAfAB9AH4AfwCAAIEAggCDAIQAhQCGAIcAiACJAIoAiwCMAI0AjgCPAJAAkQCSAJMAlACVAJYAlwCYAJkAmgCbAJwAnQCeAJ8AoAChAKIAowCkAKUApgCnAKgAqQCqAKsArACtAK4ArwCwALEAsgCzALQAtQC2ALcAuAC5ALoAuwC8AL0AvgC/AMAAwQDCAMMAxADFAMYAxwDIAMkAygDLAMwA"
         },
         "y": {
          "dtype": "f8",
          "bdata": "6Hme53muMMCqTFzp3gAbwBQhf82O+ixAy5XuDShTEEACXk7ByykUwDgFL6fgBSLA9DzP8zwPJsBJyF+zo/YnQBLy1+yo5TZAKQzDMAyDG8DiSvcGlCkgQAS8nIKXUwjA2IfG+tAYFUDk8zzP8zz9PwJl4kr3ljvAzCLkr9lRCEDS8zzP87wEwL4BZeJKlyVACl5OwcspEMDY5RS8nMIZwIjneZ7neeo/9NfsqEVIC0DbUYuQv6YgQBeGYRiGoRFApUXIX7NjFcAFL6fg5RQgwDwa60NjfeY/IsMwDMMwA0BqdtQi5B8wQLajFiF/TRVAep7neZ6XNMBKi5C/ZscKwHSXU/ByCgbAD6KxPjRWA0BBz/M8z3MUQLLZUYuQfxxAEJm40r0B4b9cz/M8z/PxPwr5a3bUognAdJdT8HIKDsDY5RS8nMIZwD7P8zzP8w3AIuSv2VH7MkBM/podtQgOQBiGYRiGwSfAZkctQv76KsBmfWisD40VQBCN9aGxHiFAuDzP8zzP5794K90bUCb3v5WJK90bECfA0PM8z/OMMEDoUYuQv2btvx8a60NjfS5AANFYHxqrFUDfeZ7neR4QwFzp3oAyOULAFJSJK90bA8AQwzAMw9AkQKx7A8rElfM/RjTWh8b6EEAoGutDYz0WQKDneZ7nOSRAUIT8NTtq7z9tQJm40n0swB7DMAzDsAZAtnRvQJk4DUAqp+DlFLwYwPByCl5O4STAqKqqqqrqJMCxoxYhf60tQLMI+Wt2FCRAEcMwDMPwEsCAstlRi5Cvv+xDY31orA9A0RS8nIIXCMBYVVVVVRUnQJFahPw1GyFA7g0oE1caMsAyz/M8z3MKwLRfs6MWIfq/DNaHxvrQDkAowcspePkcQNxAmbjSvf+/"
         },
         "type": "scatter",
         "xaxis": "x4",
         "yaxis": "y4",
         "visible": false
        },
        {
         "hovertemplate": "DOY=%{x}<br>Observed=%{y}<extra></extra>",
         "mode": "lines+markers",
         "name": "S3 Observed (P=30)",
         "x": {
          "dtype": "i2",
          "bdata": "eQB6AHsAfAB9AH4AfwCAAIEAggCDAIQAhQCGAIcAiACJAIoAiwCMAI0AjgCPAJAAkQCSAJMAlACVAJYAlwCYAJkAmgCbAJwAnQCeAJ8AoAChAKIAowCkAKUApgCnAKgAqQCqAKsArACtAK4ArwCwALEAsgCzALQAtQC2ALcAuAC5ALoAuwC8AL0AvgC/AMAAwQDCAMMAxADFAMYAxwDIAMkAygDLAMwA"
         },
         "y": {
          "dtype": "f8",
          "bdata": "AAAAAAAAIEAAAAAAAABDQAAAAAAAAEpAAAAAAAAARkAAAAAAAABAQAAAAAAAgEJAAAAAAAAAQUAAAAAAAABOQAAAAAAAQFZAAAAAAAAASUAAAAAAAEBRQAAAAAAAAERAAAAAAACARkAAAAAAAIBDQAAAAAAAABxAAAAAAAAAS0AAAAAAAIBCQAAAAAAAgEtAAAAAAAAAQkAAAAAAAABDQAAAAAAAAEhAAAAAAAAASUAAAAAAAEBSQAAAAAAAgE5AAAAAAACAS0AAAAAAAABGQAAAAAAAAEtAAAAAAACASUAAAAAAAABQQAAAAAAAgFFAAAAAAACAQEAAAAAAAABLQAAAAAAAgEVAAAAAAACASEAAAAAAAABLQAAAAAAAgEtAAAAAAAAAUEAAAAAAAABLQAAAAAAAgElAAAAAAACAREAAAAAAAABEQAAAAAAAAERAAAAAAACATkAAAAAAAABQQAAAAAAAAERAAAAAAACARUAAAAAAAABJQAAAAAAAAEtAAAAAAACASEAAAAAAAABJQAAAAAAAAE1AAAAAAADAUkAAAAAAAIBNQAAAAAAAAE1AAAAAAACASEAAAAAAAABCQAAAAAAAAABAAAAAAAAASkAAAAAAAIBLQAAAAAAAAEpAAAAAAACASUAAAAAAAIBKQAAAAAAAAExAAAAAAAAAR0AAAAAAAIBGQAAAAAAAgEhAAAAAAAAASUAAAAAAAABAQAAAAAAAAEFAAAAAAAAAQUAAAAAAAIBOQAAAAAAAQFNAAAAAAAAAS0AAAAAAAIBQQAAAAAAAgE1AAAAAAACASEAAAAAAAABPQAAAAAAAAExAAAAAAAAARkAAAAAAAABIQAAAAAAAgEhAAAAAAACARUAAAAAAAABHQAAAAAAAAEFA"
         },
         "type": "scatter",
         "xaxis": "x",
         "yaxis": "y",
         "visible": false
        },
        {
         "hovertemplate": "DOY=%{x}<br>Trend=%{y}<extra></extra>",
         "mode": "lines",
         "name": "S3 Trend (P=30)",
         "x": {
          "dtype": "i2",
          "bdata": "eQB6AHsAfAB9AH4AfwCAAIEAggCDAIQAhQCGAIcAiACJAIoAiwCMAI0AjgCPAJAAkQCSAJMAlACVAJYAlwCYAJkAmgCbAJwAnQCeAJ8AoAChAKIAowCkAKUApgCnAKgAqQCqAKsArACtAK4ArwCwALEAsgCzALQAtQC2ALcAuAC5ALoAuwC8AL0AvgC/AMAAwQDCAMMAxADFAMYAxwDIAMkAygDLAMwA"
         },
         "y": {
          "dtype": "f8",
          "bdata": "mCimuPLTR0CQCkzPheBHQIfs8eUY7UdAf86X/Kv5R0B2sD0TPwZIQG6S4ynSEkhAZXSJQGUfSEBdVi9X+CtIQFU41W2LOEhATBp7hB5FSEBE/CCbsVFIQDvexrFEXkhAM8BsyNdqSEAqohLfandIQCKEuPX9g0hAvLu7u7sbSEA0MzMzM3NIQCMiIiIigkhAmpmZmZl5SEA0MzMzM7NIQIeIiIiICElA7+7u7u5uSUAhIiIiIqJJQENERERERElA/v/////fSEDt7u7u7o5IQBARERERUUhAMzMzMzNzSECsqqqqqspIQGdmZmZmRklAVlVVVVV1SUCbmZmZmXlJQDMzMzMzk0lAzczMzMysSUAiIiIiIuJJQBEREREREUpAuru7u7tbSkAxMzMzM3NKQO3u7u7uTkpAuru7u7s7SkDc3d3d3R1KQNzd3d3dnUlAEBERERExSUAAAAAAACBJQGdmZmZm5khAZ2ZmZmbmSECsqqqqqgpJQEVEREREJElAm5mZmZk5SUABAAAAACBJQAEAAAAAAElAV1VVVVXVSECIiIiIiIhIQFZVVVVVNUhAIiIiIiICSEAAAAAAACBIQLu7u7u7m0hAu7u7u7vbSEAPEREREdFIQN7d3d3d/UhAMzMzMzMzSUCZmZmZmVlJQHd3d3d3d0lAERERERFxSUAjIiIiImJJQK2qqqqqSklANTMzMzPzSEA0MzMzM5NIQEVEREREREhADj2tWuuySECnL7ee66xIQEAiweLrpkhA2RTLJuygSEByB9Vq7JpIQAv63q7slEhApOzo8uyOSEA93/I27YhIQNbR/HrtgkhAb8QGv+18SEAItxAD7nZIQKGpGkfucEhAOpwki+5qSEDSji7P7mRIQGyBOBPvXkhA"
         },
         "type": "scatter",
         "xaxis": "x2",
         "yaxis": "y2",
         "visible": false
        },
        {
         "hovertemplate": "DOY=%{x}<br>Seasonal=%{y}<extra></extra>",
         "mode": "lines",
         "name": "S3 Seasonal (P=30)",
         "x": {
          "dtype": "i2",
          "bdata": "eQB6AHsAfAB9AH4AfwCAAIEAggCDAIQAhQCGAIcAiACJAIoAiwCMAI0AjgCPAJAAkQCSAJMAlACVAJYAlwCYAJkAmgCbAJwAnQCeAJ8AoAChAKIAowCkAKUApgCnAKgAqQCqAKsArACtAK4ArwCwALEAsgCzALQAtQC2ALcAuAC5ALoAuwC8AL0AvgC/AMAAwQDCAMMAxADFAMYAxwDIAMkAygDLAMwA"
         },
         "y": {
          "dtype": "f8",
          "bdata": "Zxv+blZVMsBxeiRR8+/pv+gIimtAMvA/d2xrqVaQCMCLzCuixHoXwMcg9OQWCwXAOOJ5dsP50r+bD689GNPpv6rQNqJOliFAJMiGACA+H8BV+/MH/P8cQKkzPizm3AlAclpsRgz/EUDH+8QsBhseQBImu5V0rirAnoppRhbn0T8kPmZ94CPvPxcqJu653RhATtRr6Wg0F8AiYbc900gMwEkf9zpkZQVAvb7ByLx4G0AQvnXWKpEkQAnw/ElaagNAJG9MfXcxDkDRfUa6Ow0gwMccAbt7RDTAtAjmFhHLBkCT6B+sKhklQH/XDpsZyCZAZxv+blZVMsBxeiRR8+/pv+gIimtAMvA/d2xrqVaQCMCLzCuixHoXwMcg9OQWCwXAOOJ5dsP50r+bD689GNPpv6rQNqJOliFAJMiGACA+H8BV+/MH/P8cQKkzPizm3AlAclpsRgz/EUDH+8QsBhseQBImu5V0rirAnoppRhbn0T8kPmZ94CPvPxcqJu653RhATtRr6Wg0F8AiYbc900gMwEkf9zpkZQVAvb7ByLx4G0AQvnXWKpEkQAnw/ElaagNAJG9MfXcxDkDRfUa6Ow0gwMccAbt7RDTAtAjmFhHLBkCT6B+sKhklQH/XDpsZyCZAZxv+blZVMsBxeiRR8+/pv+gIimtAMvA/d2xrqVaQCMCLzCuixHoXwMcg9OQWCwXAOOJ5dsP50r+bD689GNPpv6rQNqJOliFAJMiGACA+H8BV+/MH/P8cQKkzPizm3AlAclpsRgz/EUDH+8QsBhseQBImu5V0rirAnoppRhbn0T8kPmZ94CPvPxcqJu653RhATtRr6Wg0F8AiYbc900gMwEkf9zpkZQVAvb7ByLx4G0AQvnXWKpEkQAnw/ElaagNA"
         },
         "type": "scatter",
         "xaxis": "x3",
         "yaxis": "y3",
         "visible": false
        },
        {
         "hovertemplate": "DOY=%{x}<br>Residual=%{y}<extra></extra>",
         "mode": "lines+markers",
         "name": "S3 Residual (P=30)",
         "x": {
          "dtype": "i2",
          "bdata": "eQB6AHsAfAB9AH4AfwCAAIEAggCDAIQAhQCGAIcAiACJAIoAiwCMAI0AjgCPAJAAkQCSAJMAlACVAJYAlwCYAJkAmgCbAJwAnQCeAJ8AoAChAKIAowCkAKUApgCnAKgAqQCqAKsArACtAK4ArwCwALEAsgCzALQAtQC2ALcAuAC5ALoAuwC8AL0AvgC/AMAAwQDCAMMAxADFAMYAxwDIAMkAygDLAMwA"
         },
         "y": {
          "dtype": "f8",
          "bdata": "yTVOAo9SNcCZ4h0IGOMhwBwzHGtRFQlA5O1FgKQp7L+S2+D7mVskwIZBUe6CCCHAggJy5sblK8CGlx0nUO0oQAEnOtPBwz9A4vpW7pWKIkBGEYKPOzkqQNYFK1JM8CfABS7pROWqIMBGg1ZJl3UxwDt1k6DBsDzAdom7vbADFkCyMKPUCr8pwOBl5+Zf2c2/gvhg42OYHMAP6b36L3UfwNzTv2H29hLANTY5QDTwHsBsuQGhTOYmQPKyb1xYFCBA+CFnBRGd9z90CCv6/0UHQKf63phZojlAkO9kKBH557/0stWkqvAOQOWOV8tMHiBAwC7cFPGq2j/shK86Y+IOQOkNPtoUUyLAnH56cicO5z++XY3I2TQgQNyH8ekC/RVAKuDELN8oJ0CuIXG4JYP+P16M8l0K0iTAWCuuuns/DcCNuri9unszwFoEhwKx7izADh0LMWt4GEA5BDvT+eQYQNgxhvBrUwxA4suZl6RRHMCSdAiURefwv36YkCC4/wPAdgefHJxnEUASYbc900gKQFRwhOJNTRVAo+UkIyZ3MkAABvwSn2nWv0zdVjAooBxARJFun5lTBsBeBHOLiOUQwK9adrz78jrAkBGHSjMb4r+eWcjg3boUwPdOhhKRvyLAAbWXCPDuMkAMha86Y+IIQA7CYSm0NxBAMklLz3QB/b/A3K5G5Gy6P+7rknTYwPA/uEfg3Clg2T/r7XikzVcwwN/wo9mvUzfATCDj1DpZHsBzh1ICp5gRQAv19XSLdjhAwNhfZ1Ayzz9UZEk+y4YiQPOeH+1gLTdAntzfuo9d2b8qH14cDeonQMg5ms/RVug/sIatiddn6j+i8KsM89kEQFm5oaxIdATARlDzkBhoKcBY+S8T5iQqwNmgsG8pKzHA"
         },
         "type": "scatter",
         "xaxis": "x4",
         "yaxis": "y4",
         "visible": false
        }
       ],
       "layout": {
        "template": {
         "data": {
          "histogram2dcontour": [
           {
            "type": "histogram2dcontour",
            "colorbar": {
             "outlinewidth": 0,
             "ticks": ""
            },
            "colorscale": [
             [
              0.0,
              "#0d0887"
             ],
             [
              0.1111111111111111,
              "#46039f"
             ],
             [
              0.2222222222222222,
              "#7201a8"
             ],
             [
              0.3333333333333333,
              "#9c179e"
             ],
             [
              0.4444444444444444,
              "#bd3786"
             ],
             [
              0.5555555555555556,
              "#d8576b"
             ],
             [
              0.6666666666666666,
              "#ed7953"
             ],
             [
              0.7777777777777778,
              "#fb9f3a"
             ],
             [
              0.8888888888888888,
              "#fdca26"
             ],
             [
              1.0,
              "#f0f921"
             ]
            ]
           }
          ],
          "choropleth": [
           {
            "type": "choropleth",
            "colorbar": {
             "outlinewidth": 0,
             "ticks": ""
            }
           }
          ],
          "histogram2d": [
           {
            "type": "histogram2d",
            "colorbar": {
             "outlinewidth": 0,
             "ticks": ""
            },
            "colorscale": [
             [
              0.0,
              "#0d0887"
             ],
             [
              0.1111111111111111,
              "#46039f"
             ],
             [
              0.2222222222222222,
              "#7201a8"
             ],
             [
              0.3333333333333333,
              "#9c179e"
             ],
             [
              0.4444444444444444,
              "#bd3786"
             ],
             [
              0.5555555555555556,
              "#d8576b"
             ],
             [
              0.6666666666666666,
              "#ed7953"
             ],
             [
              0.7777777777777778,
              "#fb9f3a"
             ],
             [
              0.8888888888888888,
              "#fdca26"
             ],
             [
              1.0,
              "#f0f921"
             ]
            ]
           }
          ],
          "heatmap": [
           {
            "type": "heatmap",
            "colorbar": {
             "outlinewidth": 0,
             "ticks": ""
            },
            "colorscale": [
             [
              0.0,
              "#0d0887"
             ],
             [
              0.1111111111111111,
              "#46039f"
             ],
             [
              0.2222222222222222,
              "#7201a8"
             ],
             [
              0.3333333333333333,
              "#9c179e"
             ],
             [
              0.4444444444444444,
              "#bd3786"
             ],
             [
              0.5555555555555556,
              "#d8576b"
             ],
             [
              0.6666666666666666,
              "#ed7953"
             ],
             [
              0.7777777777777778,
              "#fb9f3a"
             ],
             [
              0.8888888888888888,
              "#fdca26"
             ],
             [
              1.0,
              "#f0f921"
             ]
            ]
           }
          ],
          "contourcarpet": [
           {
            "type": "contourcarpet",
            "colorbar": {
             "outlinewidth": 0,
             "ticks": ""
            }
           }
          ],
          "contour": [
           {
            "type": "contour",
            "colorbar": {
             "outlinewidth": 0,
             "ticks": ""
            },
            "colorscale": [
             [
              0.0,
              "#0d0887"
             ],
             [
              0.1111111111111111,
              "#46039f"
             ],
             [
              0.2222222222222222,
              "#7201a8"
             ],
             [
              0.3333333333333333,
              "#9c179e"
             ],
             [
              0.4444444444444444,
              "#bd3786"
             ],
             [
              0.5555555555555556,
              "#d8576b"
             ],
             [
              0.6666666666666666,
              "#ed7953"
             ],
             [
              0.7777777777777778,
              "#fb9f3a"
             ],
             [
              0.8888888888888888,
              "#fdca26"
             ],
             [
              1.0,
              "#f0f921"
             ]
            ]
           }
          ],
          "surface": [
           {
            "type": "surface",
            "colorbar": {
             "outlinewidth": 0,
             "ticks": ""
            },
            "colorscale": [
             [
              0.0,
              "#0d0887"
             ],
             [
              0.1111111111111111,
              "#46039f"
             ],
             [
              0.2222222222222222,
              "#7201a8"
             ],
             [
              0.3333333333333333,
              "#9c179e"
             ],
             [
              0.4444444444444444,
              "#bd3786"
             ],
             [
              0.5555555555555556,
              "#d8576b"
             ],
             [
              0.6666666666666666,
              "#ed7953"
             ],
             [
              0.7777777777777778,
              "#fb9f3a"
             ],
             [
              0.8888888888888888,
              "#fdca26"
             ],
             [
              1.0,
              "#f0f921"
             ]
            ]
           }
          ],
          "mesh3d": [
           {
            "type": "mesh3d",
            "colorbar": {
             "outlinewidth": 0,
             "ticks": ""
            }
           }
          ],
          "scatter": [
           {
            "marker": {
             "line": {
              "color": "#283442"
             }
            },
            "type": "scatter"
           }
          ],
          "parcoords": [
           {
            "type": "parcoords",
            "line": {
             "colorbar": {
              "outlinewidth": 0,
              "ticks": ""
             }
            }
           }
          ],
          "scatterpolargl": [
           {
            "type": "scatterpolargl",
            "marker": {
             "colorbar": {
              "outlinewidth": 0,
              "ticks": ""
             }
            }
           }
          ],
          "bar": [
           {
            "error_x": {
             "color": "#f2f5fa"
            },
            "error_y": {
             "color": "#f2f5fa"
            },
            "marker": {
             "line": {
              "color": "rgb(17,17,17)",
              "width": 0.5
             },
             "pattern": {
              "fillmode": "overlay",
              "size": 10,
              "solidity": 0.2
             }
            },
            "type": "bar"
           }
          ],
          "scattergeo": [
           {
            "type": "scattergeo",
            "marker": {
             "colorbar": {
              "outlinewidth": 0,
              "ticks": ""
             }
            }
           }
          ],
          "scatterpolar": [
           {
            "type": "scatterpolar",
            "marker": {
             "colorbar": {
              "outlinewidth": 0,
              "ticks": ""
             }
            }
           }
          ],
          "histogram": [
           {
            "marker": {
             "pattern": {
              "fillmode": "overlay",
              "size": 10,
              "solidity": 0.2
             }
            },
            "type": "histogram"
           }
          ],
          "scattergl": [
           {
            "marker": {
             "line": {
              "color": "#283442"
             }
            },
            "type": "scattergl"
           }
          ],
          "scatter3d": [
           {
            "type": "scatter3d",
            "line": {
             "colorbar": {
              "outlinewidth": 0,
              "ticks": ""
             }
            },
            "marker": {
             "colorbar": {
              "outlinewidth": 0,
              "ticks": ""
             }
            }
           }
          ],
          "scattermap": [
           {
            "type": "scattermap",
            "marker": {
             "colorbar": {
              "outlinewidth": 0,
              "ticks": ""
             }
            }
           }
          ],
          "scattermapbox": [
           {
            "type": "scattermapbox",
            "marker": {
             "colorbar": {
              "outlinewidth": 0,
              "ticks": ""
             }
            }
           }
          ],
          "scatterternary": [
           {
            "type": "scatterternary",
            "marker": {
             "colorbar": {
              "outlinewidth": 0,
              "ticks": ""
             }
            }
           }
          ],
          "scattercarpet": [
           {
            "type": "scattercarpet",
            "marker": {
             "colorbar": {
              "outlinewidth": 0,
              "ticks": ""
             }
            }
           }
          ],
          "carpet": [
           {
            "aaxis": {
             "endlinecolor": "#A2B1C6",
             "gridcolor": "#506784",
             "linecolor": "#506784",
             "minorgridcolor": "#506784",
             "startlinecolor": "#A2B1C6"
            },
            "baxis": {
             "endlinecolor": "#A2B1C6",
             "gridcolor": "#506784",
             "linecolor": "#506784",
             "minorgridcolor": "#506784",
             "startlinecolor": "#A2B1C6"
            },
            "type": "carpet"
           }
          ],
          "table": [
           {
            "cells": {
             "fill": {
              "color": "#506784"
             },
             "line": {
              "color": "rgb(17,17,17)"
             }
            },
            "header": {
             "fill": {
              "color": "#2a3f5f"
             },
             "line": {
              "color": "rgb(17,17,17)"
             }
            },
            "type": "table"
           }
          ],
          "barpolar": [
           {
            "marker": {
             "line": {
              "color": "rgb(17,17,17)",
              "width": 0.5
             },
             "pattern": {
              "fillmode": "overlay",
              "size": 10,
              "solidity": 0.2
             }
            },
            "type": "barpolar"
           }
          ],
          "pie": [
           {
            "automargin": true,
            "type": "pie"
           }
          ]
         },
         "layout": {
          "autotypenumbers": "strict",
          "colorway": [
           "#636efa",
           "#EF553B",
           "#00cc96",
           "#ab63fa",
           "#FFA15A",
           "#19d3f3",
           "#FF6692",
           "#B6E880",
           "#FF97FF",
           "#FECB52"
          ],
          "font": {
           "color": "#f2f5fa"
          },
          "hovermode": "closest",
          "hoverlabel": {
           "align": "left"
          },
          "paper_bgcolor": "rgb(17,17,17)",
          "plot_bgcolor": "rgb(17,17,17)",
          "polar": {
           "bgcolor": "rgb(17,17,17)",
           "angularaxis": {
            "gridcolor": "#506784",
            "linecolor": "#506784",
            "ticks": ""
           },
           "radialaxis": {
            "gridcolor": "#506784",
            "linecolor": "#506784",
            "ticks": ""
           }
          },
          "ternary": {
           "bgcolor": "rgb(17,17,17)",
           "aaxis": {
            "gridcolor": "#506784",
            "linecolor": "#506784",
            "ticks": ""
           },
           "baxis": {
            "gridcolor": "#506784",
            "linecolor": "#506784",
            "ticks": ""
           },
           "caxis": {
            "gridcolor": "#506784",
            "linecolor": "#506784",
            "ticks": ""
           }
          },
          "coloraxis": {
           "colorbar": {
            "outlinewidth": 0,
            "ticks": ""
           }
          },
          "colorscale": {
           "sequential": [
            [
             0.0,
             "#0d0887"
            ],
            [
             0.1111111111111111,
             "#46039f"
            ],
            [
             0.2222222222222222,
             "#7201a8"
            ],
            [
             0.3333333333333333,
             "#9c179e"
            ],
            [
             0.4444444444444444,
             "#bd3786"
            ],
            [
             0.5555555555555556,
             "#d8576b"
            ],
            [
             0.6666666666666666,
             "#ed7953"
            ],
            [
             0.7777777777777778,
             "#fb9f3a"
            ],
            [
             0.8888888888888888,
             "#fdca26"
            ],
            [
             1.0,
             "#f0f921"
            ]
           ],
           "sequentialminus": [
            [
             0.0,
             "#0d0887"
            ],
            [
             0.1111111111111111,
             "#46039f"
            ],
            [
             0.2222222222222222,
             "#7201a8"
            ],
            [
             0.3333333333333333,
             "#9c179e"
            ],
            [
             0.4444444444444444,
             "#bd3786"
            ],
            [
             0.5555555555555556,
             "#d8576b"
            ],
            [
             0.6666666666666666,
             "#ed7953"
            ],
            [
             0.7777777777777778,
             "#fb9f3a"
            ],
            [
             0.8888888888888888,
             "#fdca26"
            ],
            [
             1.0,
             "#f0f921"
            ]
           ],
           "diverging": [
            [
             0,
             "#8e0152"
            ],
            [
             0.1,
             "#c51b7d"
            ],
            [
             0.2,
             "#de77ae"
            ],
            [
             0.3,
             "#f1b6da"
            ],
            [
             0.4,
             "#fde0ef"
            ],
            [
             0.5,
             "#f7f7f7"
            ],
            [
             0.6,
             "#e6f5d0"
            ],
            [
             0.7,
             "#b8e186"
            ],
            [
             0.8,
             "#7fbc41"
            ],
            [
             0.9,
             "#4d9221"
            ],
            [
             1,
             "#276419"
            ]
           ]
          },
          "xaxis": {
           "gridcolor": "#283442",
           "linecolor": "#506784",
           "ticks": "",
           "title": {
            "standoff": 15
           },
           "zerolinecolor": "#283442",
           "automargin": true,
           "zerolinewidth": 2
          },
          "yaxis": {
           "gridcolor": "#283442",
           "linecolor": "#506784",
           "ticks": "",
           "title": {
            "standoff": 15
           },
           "zerolinecolor": "#283442",
           "automargin": true,
           "zerolinewidth": 2
          },
          "scene": {
           "xaxis": {
            "backgroundcolor": "rgb(17,17,17)",
            "gridcolor": "#506784",
            "linecolor": "#506784",
            "showbackground": true,
            "ticks": "",
            "zerolinecolor": "#C8D4E3",
            "gridwidth": 2
           },
           "yaxis": {
            "backgroundcolor": "rgb(17,17,17)",
            "gridcolor": "#506784",
            "linecolor": "#506784",
            "showbackground": true,
            "ticks": "",
            "zerolinecolor": "#C8D4E3",
            "gridwidth": 2
           },
           "zaxis": {
            "backgroundcolor": "rgb(17,17,17)",
            "gridcolor": "#506784",
            "linecolor": "#506784",
            "showbackground": true,
            "ticks": "",
            "zerolinecolor": "#C8D4E3",
            "gridwidth": 2
           }
          },
          "shapedefaults": {
           "line": {
            "color": "#f2f5fa"
           }
          },
          "annotationdefaults": {
           "arrowcolor": "#f2f5fa",
           "arrowhead": 0,
           "arrowwidth": 1
          },
          "geo": {
           "bgcolor": "rgb(17,17,17)",
           "landcolor": "rgb(17,17,17)",
           "subunitcolor": "#506784",
           "showland": true,
           "showlakes": true,
           "lakecolor": "rgb(17,17,17)"
          },
          "title": {
           "x": 0.05
          },
          "updatemenudefaults": {
           "bgcolor": "#506784",
           "borderwidth": 0
          },
          "sliderdefaults": {
           "bgcolor": "#C8D4E3",
           "borderwidth": 1,
           "bordercolor": "rgb(17,17,17)",
           "tickwidth": 0
          },
          "mapbox": {
           "style": "dark"
          }
         }
        },
        "xaxis": {
         "anchor": "y",
         "domain": [
          0.0,
          1.0
         ],
         "matches": "x4",
         "showticklabels": false
        },
        "yaxis": {
         "anchor": "x",
         "domain": [
          0.7875,
          1.0
         ],
         "title": {
          "text": "Observed"
         }
        },
        "xaxis2": {
         "anchor": "y2",
         "domain": [
          0.0,
          1.0
         ],
         "matches": "x4",
         "showticklabels": false
        },
        "yaxis2": {
         "anchor": "x2",
         "domain": [
          0.525,
          0.7375
         ],
         "title": {
          "text": "Trend"
         }
        },
        "xaxis3": {
         "anchor": "y3",
         "domain": [
          0.0,
          1.0
         ],
         "matches": "x4",
         "showticklabels": false
        },
        "yaxis3": {
         "anchor": "x3",
         "domain": [
          0.2625,
          0.475
         ],
         "title": {
          "text": "Seasonal"
         }
        },
        "xaxis4": {
         "anchor": "y4",
         "domain": [
          0.0,
          1.0
         ],
         "title": {
          "text": "Day of Year (DOY)"
         }
        },
        "yaxis4": {
         "anchor": "x4",
         "domain": [
          0.0,
          0.2125
         ],
         "title": {
          "text": "Residual"
         }
        },
        "annotations": [
         {
          "font": {
           "size": 16
          },
          "showarrow": false,
          "text": "Observed",
          "x": 0.5,
          "xanchor": "center",
          "xref": "paper",
          "y": 1.0,
          "yanchor": "bottom",
          "yref": "paper"
         },
         {
          "font": {
           "size": 16
          },
          "showarrow": false,
          "text": "Trend",
          "x": 0.5,
          "xanchor": "center",
          "xref": "paper",
          "y": 0.7375,
          "yanchor": "bottom",
          "yref": "paper"
         },
         {
          "font": {
           "size": 16
          },
          "showarrow": false,
          "text": "Seasonal",
          "x": 0.5,
          "xanchor": "center",
          "xref": "paper",
          "y": 0.475,
          "yanchor": "bottom",
          "yref": "paper"
         },
         {
          "font": {
           "size": 16
          },
          "showarrow": false,
          "text": "Residual",
          "x": 0.5,
          "xanchor": "center",
          "xref": "paper",
          "y": 0.2125,
          "yanchor": "bottom",
          "yref": "paper"
         }
        ],
        "legend": {
         "title": {
          "text": "Components"
         }
        },
        "margin": {
         "t": 120
        },
        "title": {
         "text": "Seasonal Decomposition for S1 (Period=7)"
        },
        "height": 900,
        "updatemenus": [
         {
          "buttons": [
           {
            "args": [
             {
              "visible": [
               true,
               true,
               true,
               true,
               false,
               false,
               false,
               false,
               false,
               false,
               false,
               false,
               false,
               false,
               false,
               false,
               false,
               false,
               false,
               false,
               false,
               false,
               false,
               false
              ]
             },
             {
              "title": "Seasonal Decomposition for S1 (Period=7)"
             }
            ],
            "label": "S1 • P=7",
            "method": "update"
           },
           {
            "args": [
             {
              "visible": [
               false,
               false,
               false,
               false,
               true,
               true,
               true,
               true,
               false,
               false,
               false,
               false,
               false,
               false,
               false,
               false,
               false,
               false,
               false,
               false,
               false,
               false,
               false,
               false
              ]
             },
             {
              "title": "Seasonal Decomposition for S1 (Period=30)"
             }
            ],
            "label": "S1 • P=30",
            "method": "update"
           },
           {
            "args": [
             {
              "visible": [
               false,
               false,
               false,
               false,
               false,
               false,
               false,
               false,
               true,
               true,
               true,
               true,
               false,
               false,
               false,
               false,
               false,
               false,
               false,
               false,
               false,
               false,
               false,
               false
              ]
             },
             {
              "title": "Seasonal Decomposition for S2 (Period=7)"
             }
            ],
            "label": "S2 • P=7",
            "method": "update"
           },
           {
            "args": [
             {
              "visible": [
               false,
               false,
               false,
               false,
               false,
               false,
               false,
               false,
               false,
               false,
               false,
               false,
               true,
               true,
               true,
               true,
               false,
               false,
               false,
               false,
               false,
               false,
               false,
               false
              ]
             },
             {
              "title": "Seasonal Decomposition for S2 (Period=30)"
             }
            ],
            "label": "S2 • P=30",
            "method": "update"
           },
           {
            "args": [
             {
              "visible": [
               false,
               false,
               false,
               false,
               false,
               false,
               false,
               false,
               false,
               false,
               false,
               false,
               false,
               false,
               false,
               false,
               true,
               true,
               true,
               true,
               false,
               false,
               false,
               false
              ]
             },
             {
              "title": "Seasonal Decomposition for S3 (Period=7)"
             }
            ],
            "label": "S3 • P=7",
            "method": "update"
           },
           {
            "args": [
             {
              "visible": [
               false,
               false,
               false,
               false,
               false,
               false,
               false,
               false,
               false,
               false,
               false,
               false,
               false,
               false,
               false,
               false,
               false,
               false,
               false,
               false,
               true,
               true,
               true,
               true
              ]
             },
             {
              "title": "Seasonal Decomposition for S3 (Period=30)"
             }
            ],
            "label": "S3 • P=30",
            "method": "update"
           }
          ],
          "showactive": true,
          "type": "dropdown",
          "x": 0.0,
          "xanchor": "left",
          "y": 1.15,
          "yanchor": "top"
         }
        ]
       },
       "config": {
        "plotlyServerURL": "https://plot.ly"
       }
      }
     },
     "metadata": {},
     "output_type": "display_data",
     "jetTransient": {
      "display_id": null
     }
    }
   ],
   "execution_count": 4
  },
  {
   "metadata": {},
   "cell_type": "markdown",
   "source": "## 14 days forecast by ship for Soda Can 330ml, using SARIMAX",
   "id": "5a165a46bf74d870"
  },
  {
   "metadata": {
    "ExecuteTime": {
     "end_time": "2025-09-18T21:14:26.168033Z",
     "start_time": "2025-09-18T21:14:26.020388Z"
    }
   },
   "cell_type": "code",
   "source": [
    "import pandas as pd\n",
    "import numpy as np\n",
    "import plotly.express as px\n",
    "import plotly.graph_objects as go\n",
    "\n",
    "from statsmodels.tsa.statespace.sarimax import SARIMAX\n",
    "\n",
    "horizon = 14\n",
    "reference_year = 2025\n",
    "\n",
    "# Build dated time series with explicit daily frequency per ship\n",
    "ts_df = df.copy()\n",
    "ts_df[\"date\"] = pd.Timestamp(f\"{reference_year}-01-01\") + pd.to_timedelta(ts_df[\"doy\"] - 1, unit=\"D\")\n",
    "ts_df = ts_df.sort_values([\"ship_id\", \"date\"])\n",
    "\n",
    "forecast_frames = []\n",
    "\n",
    "for ship in ts_df[\"ship_id\"].unique():\n",
    "    sdata = ts_df[ts_df[\"ship_id\"] == ship][[\"date\", \"total_sales\"]].set_index(\"date\").sort_index()\n",
    "\n",
    "    if sdata.empty:\n",
    "        continue\n",
    "\n",
    "    # Ensure continuous daily index\n",
    "    full_idx = pd.date_range(start=sdata.index.min(), end=sdata.index.max(), freq=\"D\")\n",
    "    y = sdata[\"total_sales\"].reindex(full_idx, fill_value=0.0)\n",
    "    try:\n",
    "        y.index.freq = y.index.inferred_freq or \"D\"\n",
    "    except Exception:\n",
    "        pass\n",
    "\n",
    "    # Exogenous regressors: day-of-week dummies\n",
    "    dow_onehot = pd.get_dummies(y.index.dayofweek, prefix=\"dow\")\n",
    "    exog_fit = dow_onehot\n",
    "\n",
    "    made_fc = False\n",
    "    try:\n",
    "        # Use fixed seasonal SARIMA structure\n",
    "        order = (1, 1, 1) if len(y) > 8 else (0, 1, 1)\n",
    "        seasonal_order = (1, 0, 1, 7)  # weekly seasonality\n",
    "\n",
    "        model = SARIMAX(\n",
    "            y,\n",
    "            exog=exog_fit,\n",
    "            order=order,\n",
    "            seasonal_order=seasonal_order,\n",
    "            trend=\"c\",\n",
    "            enforce_stationarity=False,\n",
    "            enforce_invertibility=False,\n",
    "        )\n",
    "        res = model.fit(disp=False)\n",
    "\n",
    "        last_date = y.index.max()\n",
    "        future_idx = pd.date_range(start=last_date + pd.Timedelta(days=1), periods=horizon, freq=\"D\")\n",
    "        future_dow = pd.get_dummies(future_idx.dayofweek, prefix=\"dow\")\n",
    "\n",
    "        # Forecast with exogenous inputs\n",
    "        fc_res = res.get_forecast(steps=horizon, exog=future_dow)\n",
    "        fc_mean = fc_res.predicted_mean\n",
    "        fc_ci = fc_res.conf_int(alpha=0.2)  # 80% CI\n",
    "\n",
    "        fc_mean.index = future_idx\n",
    "        fc_ci.index = future_idx\n",
    "\n",
    "        fc_frame = pd.DataFrame(\n",
    "            {\n",
    "                \"date\": future_idx,\n",
    "                \"ship_id\": ship,\n",
    "                \"forecast\": fc_mean.values,\n",
    "                \"lower80\": fc_ci.iloc[:, 0].values,\n",
    "                \"upper80\": fc_ci.iloc[:, 1].values,\n",
    "            }\n",
    "        )\n",
    "        fc_frame[\"doy\"] = fc_frame[\"date\"].dt.dayofyear\n",
    "        forecast_frames.append(fc_frame)\n",
    "        made_fc = True\n",
    "    except Exception:\n",
    "        made_fc = False\n",
    "\n",
    "    # Fallback 1: seasonal naive (weekly)\n",
    "    if not made_fc and len(y) >= 7:\n",
    "        last_7 = y.iloc[-7:].values\n",
    "        reps = (horizon + 6) // 7\n",
    "        fc_vals = (list(last_7) * reps)[:horizon]\n",
    "        future_idx = pd.date_range(start=y.index.max() + pd.Timedelta(days=1), periods=horizon, freq=\"D\")\n",
    "        fc_frame = pd.DataFrame(\n",
    "            {\"date\": future_idx, \"ship_id\": ship, \"forecast\": fc_vals, \"lower80\": np.nan, \"upper80\": np.nan}\n",
    "        )\n",
    "        fc_frame[\"doy\"] = fc_frame[\"date\"].dt.dayofyear\n",
    "        forecast_frames.append(fc_frame)\n",
    "\n",
    "    # Fallback 2: repeat last value\n",
    "    elif not made_fc and len(y) >= 1:\n",
    "        last_val = float(y.iloc[-1])\n",
    "        future_idx = pd.date_range(start=y.index.max() + pd.Timedelta(days=1), periods=horizon, freq=\"D\")\n",
    "        fc_frame = pd.DataFrame(\n",
    "            {\"date\": future_idx, \"ship_id\": ship, \"forecast\": [last_val] * horizon, \"lower80\": np.nan, \"upper80\": np.nan}\n",
    "        )\n",
    "        fc_frame[\"doy\"] = fc_frame[\"date\"].dt.dayofyear\n",
    "        forecast_frames.append(fc_frame)\n",
    "\n",
    "forecast_sarimax_df = (\n",
    "    pd.concat(forecast_frames, ignore_index=True)\n",
    "    if forecast_frames\n",
    "    else pd.DataFrame(columns=[\"date\", \"ship_id\", \"forecast\", \"lower80\", \"upper80\", \"doy\"])\n",
    ")\n",
    "\n",
    "# ------------------- PLOT SECTION -------------------\n",
    "if not forecast_sarimax_df.empty:\n",
    "    # Prepare data for line plot\n",
    "    _hist_plot = ts_df.rename(columns={\"total_sales\": \"value\"})[[\"date\", \"ship_id\", \"value\"]].copy()\n",
    "    _hist_plot[\"kind\"] = \"Actual\"\n",
    "\n",
    "    _fc_plot = forecast_sarimax_df[[\"date\", \"ship_id\", \"forecast\"]].rename(columns={\"forecast\": \"value\"}).copy()\n",
    "    _fc_plot[\"kind\"] = \"Forecast\"\n",
    "\n",
    "    _plot_df = pd.concat([_hist_plot, _fc_plot], ignore_index=True)\n",
    "\n",
    "    # Base line plot with Plotly Express\n",
    "    fig_sarimax = px.line(\n",
    "        _plot_df,\n",
    "        x=\"date\",\n",
    "        y=\"value\",\n",
    "        color=\"ship_id\",\n",
    "        line_dash=\"kind\",\n",
    "        title=\"14-Day Forecast per Ship (Manual SARIMAX + DOW exogenous)\",\n",
    "        labels={\"date\": \"Date\", \"value\": \"Total Sales\", \"ship_id\": \"Ship\"},\n",
    "    )\n",
    "\n",
    "    # Get colors used by Plotly Express for each ship\n",
    "    ship_colors = {trace.name.split(\",\")[0]: trace.line.color for trace in fig_sarimax.data}\n",
    "\n",
    "    # Add confidence intervals as shaded regions\n",
    "    for ship in forecast_sarimax_df[\"ship_id\"].unique():\n",
    "        ship_df = forecast_sarimax_df[forecast_sarimax_df[\"ship_id\"] == ship].dropna(subset=[\"lower80\", \"upper80\"])\n",
    "        if not ship_df.empty:\n",
    "            color = ship_colors.get(ship, \"gray\")\n",
    "            fig_sarimax.add_trace(\n",
    "                go.Scatter(\n",
    "                    x=pd.concat([ship_df[\"date\"], ship_df[\"date\"][::-1]]),\n",
    "                    y=pd.concat([ship_df[\"lower80\"], ship_df[\"upper80\"][::-1]]),\n",
    "                    fill=\"toself\",\n",
    "                    fillcolor=color.replace(\"rgb\", \"rgba\").replace(\")\", \",0.2)\"),  # transparent version of line color\n",
    "                    line=dict(color=\"rgba(255,255,255,0)\"),\n",
    "                    hoverinfo=\"skip\",\n",
    "                    name=f\"{ship} 80% CI\",\n",
    "                    showlegend=True,\n",
    "                )\n",
    "            )\n",
    "\n",
    "    # Ensure forecast/actual lines are on top of shaded regions\n",
    "    fig_sarimax.update_traces(mode=\"lines+markers\")\n",
    "    fig_sarimax.update_layout(legend_title_text=\"Ship / Series\")\n",
    "    fig_sarimax.show()\n",
    "else:\n",
    "    print(\"No forecasts available.\")\n"
   ],
   "id": "203bcfc656f0189d",
   "outputs": [
    {
     "data": {
      "application/vnd.plotly.v1+json": {
       "data": [
        {
         "hovertemplate": "Ship=S1<br>kind=Actual<br>Date=%{x}<br>Total Sales=%{y}<extra></extra>",
         "legendgroup": "S1, Actual",
         "line": {
          "color": "#636efa",
          "dash": "solid"
         },
         "marker": {
          "symbol": "circle"
         },
         "mode": "lines+markers",
         "name": "S1, Actual",
         "orientation": "v",
         "showlegend": true,
         "x": [
          "2025-05-01T00:00:00.000000000",
          "2025-05-02T00:00:00.000000000",
          "2025-05-03T00:00:00.000000000",
          "2025-05-04T00:00:00.000000000",
          "2025-05-05T00:00:00.000000000",
          "2025-05-06T00:00:00.000000000",
          "2025-05-07T00:00:00.000000000",
          "2025-05-08T00:00:00.000000000",
          "2025-05-09T00:00:00.000000000",
          "2025-05-10T00:00:00.000000000",
          "2025-05-11T00:00:00.000000000",
          "2025-05-12T00:00:00.000000000",
          "2025-05-13T00:00:00.000000000",
          "2025-05-14T00:00:00.000000000",
          "2025-05-15T00:00:00.000000000",
          "2025-05-16T00:00:00.000000000",
          "2025-05-17T00:00:00.000000000",
          "2025-05-18T00:00:00.000000000",
          "2025-05-19T00:00:00.000000000",
          "2025-05-20T00:00:00.000000000",
          "2025-05-21T00:00:00.000000000",
          "2025-05-22T00:00:00.000000000",
          "2025-05-23T00:00:00.000000000",
          "2025-05-24T00:00:00.000000000",
          "2025-05-25T00:00:00.000000000",
          "2025-05-26T00:00:00.000000000",
          "2025-05-27T00:00:00.000000000",
          "2025-05-28T00:00:00.000000000",
          "2025-05-29T00:00:00.000000000",
          "2025-05-30T00:00:00.000000000",
          "2025-05-31T00:00:00.000000000",
          "2025-06-01T00:00:00.000000000",
          "2025-06-02T00:00:00.000000000",
          "2025-06-03T00:00:00.000000000",
          "2025-06-04T00:00:00.000000000",
          "2025-06-05T00:00:00.000000000",
          "2025-06-06T00:00:00.000000000",
          "2025-06-07T00:00:00.000000000",
          "2025-06-08T00:00:00.000000000",
          "2025-06-09T00:00:00.000000000",
          "2025-06-10T00:00:00.000000000",
          "2025-06-11T00:00:00.000000000",
          "2025-06-12T00:00:00.000000000",
          "2025-06-13T00:00:00.000000000",
          "2025-06-14T00:00:00.000000000",
          "2025-06-15T00:00:00.000000000",
          "2025-06-16T00:00:00.000000000",
          "2025-06-17T00:00:00.000000000",
          "2025-06-18T00:00:00.000000000",
          "2025-06-19T00:00:00.000000000",
          "2025-06-20T00:00:00.000000000",
          "2025-06-21T00:00:00.000000000",
          "2025-06-22T00:00:00.000000000",
          "2025-06-23T00:00:00.000000000",
          "2025-06-24T00:00:00.000000000",
          "2025-06-25T00:00:00.000000000",
          "2025-06-26T00:00:00.000000000",
          "2025-06-27T00:00:00.000000000",
          "2025-06-28T00:00:00.000000000",
          "2025-06-29T00:00:00.000000000",
          "2025-06-30T00:00:00.000000000",
          "2025-07-01T00:00:00.000000000",
          "2025-07-02T00:00:00.000000000",
          "2025-07-03T00:00:00.000000000",
          "2025-07-04T00:00:00.000000000",
          "2025-07-05T00:00:00.000000000",
          "2025-07-06T00:00:00.000000000",
          "2025-07-07T00:00:00.000000000",
          "2025-07-08T00:00:00.000000000",
          "2025-07-09T00:00:00.000000000",
          "2025-07-10T00:00:00.000000000",
          "2025-07-11T00:00:00.000000000",
          "2025-07-12T00:00:00.000000000",
          "2025-07-13T00:00:00.000000000",
          "2025-07-14T00:00:00.000000000",
          "2025-07-15T00:00:00.000000000",
          "2025-07-16T00:00:00.000000000",
          "2025-07-17T00:00:00.000000000",
          "2025-07-18T00:00:00.000000000",
          "2025-07-19T00:00:00.000000000",
          "2025-07-20T00:00:00.000000000",
          "2025-07-21T00:00:00.000000000",
          "2025-07-22T00:00:00.000000000",
          "2025-07-23T00:00:00.000000000",
          "2025-07-24T00:00:00.000000000",
          "2025-07-25T00:00:00.000000000"
         ],
         "xaxis": "x",
         "y": {
          "dtype": "f8",
          "bdata": "AAAAAAAAPEAAAAAAAIBPQAAAAAAAAE5AAAAAAACASkAAAAAAAIBFQAAAAAAAgE9AAAAAAAAASUAAAAAAAIBXQAAAAAAAgExAAAAAAACASUAAAAAAAIBIQAAAAAAAgEVAAAAAAAAASEAAAAAAAAA7QAAAAAAAAD5AAAAAAAAAS0AAAAAAAIBJQAAAAAAAAE1AAAAAAACASUAAAAAAAIBEQAAAAAAAADVAAAAAAAAAPUAAAAAAAIBMQAAAAAAAgE5AAAAAAAAATkAAAAAAAABIQAAAAAAAAEtAAAAAAABAUEAAAAAAAMBUQAAAAAAAAFFAAAAAAACATEAAAAAAAIBHQAAAAAAAgElAAAAAAAAARkAAAAAAAIBGQAAAAAAAAExAAAAAAAAAQ0AAAAAAAIBJQAAAAAAAgEZAAAAAAAAARkAAAAAAAIBDQAAAAAAAADJAAAAAAACAQ0AAAAAAAIBQQAAAAAAAgE9AAAAAAABAVEAAAAAAAIBJQAAAAAAAAExAAAAAAAAAPEAAAAAAAAA6QAAAAAAAgEpAAAAAAAAATUAAAAAAAEBQQAAAAAAAAEhAAAAAAAAAR0AAAAAAAAAwQAAAAAAAAD1AAAAAAAAATEAAAAAAAABEQAAAAAAAgEBAAAAAAAAATEAAAAAAAABDQAAAAAAAAEhAAAAAAACAUkAAAAAAAABMQAAAAAAAAEpAAAAAAAAATUAAAAAAAIBGQAAAAAAAAE5AAAAAAAAANEAAAAAAAAA9QAAAAAAAAEVAAAAAAACAREAAAAAAAIBJQAAAAAAAAEtAAAAAAAAAR0AAAAAAAABKQAAAAAAAgFFAAAAAAAAATUAAAAAAAABQQAAAAAAAgElAAAAAAAAASUAAAAAAAIBMQAAAAAAAgEtAAAAAAAAAO0AAAAAAAAA0QA=="
         },
         "yaxis": "y",
         "type": "scatter"
        },
        {
         "hovertemplate": "Ship=S1<br>kind=Forecast<br>Date=%{x}<br>Total Sales=%{y}<extra></extra>",
         "legendgroup": "S1, Forecast",
         "line": {
          "color": "#636efa",
          "dash": "dot"
         },
         "marker": {
          "symbol": "circle"
         },
         "mode": "lines+markers",
         "name": "S1, Forecast",
         "orientation": "v",
         "showlegend": true,
         "x": [
          "2025-07-26T00:00:00.000000000",
          "2025-07-27T00:00:00.000000000",
          "2025-07-28T00:00:00.000000000",
          "2025-07-29T00:00:00.000000000",
          "2025-07-30T00:00:00.000000000",
          "2025-07-31T00:00:00.000000000",
          "2025-08-01T00:00:00.000000000",
          "2025-08-02T00:00:00.000000000",
          "2025-08-03T00:00:00.000000000",
          "2025-08-04T00:00:00.000000000",
          "2025-08-05T00:00:00.000000000",
          "2025-08-06T00:00:00.000000000",
          "2025-08-07T00:00:00.000000000",
          "2025-08-08T00:00:00.000000000"
         ],
         "xaxis": "x",
         "y": {
          "dtype": "f8",
          "bdata": "AAAAAAAAUEAAAAAAAIBJQAAAAAAAAElAAAAAAACATEAAAAAAAIBLQAAAAAAAADtAAAAAAAAANEAAAAAAAABQQAAAAAAAgElAAAAAAAAASUAAAAAAAIBMQAAAAAAAgEtAAAAAAAAAO0AAAAAAAAA0QA=="
         },
         "yaxis": "y",
         "type": "scatter"
        },
        {
         "hovertemplate": "Ship=S2<br>kind=Actual<br>Date=%{x}<br>Total Sales=%{y}<extra></extra>",
         "legendgroup": "S2, Actual",
         "line": {
          "color": "#EF553B",
          "dash": "solid"
         },
         "marker": {
          "symbol": "circle"
         },
         "mode": "lines+markers",
         "name": "S2, Actual",
         "orientation": "v",
         "showlegend": true,
         "x": [
          "2025-05-01T00:00:00.000000000",
          "2025-05-02T00:00:00.000000000",
          "2025-05-03T00:00:00.000000000",
          "2025-05-04T00:00:00.000000000",
          "2025-05-05T00:00:00.000000000",
          "2025-05-06T00:00:00.000000000",
          "2025-05-07T00:00:00.000000000",
          "2025-05-08T00:00:00.000000000",
          "2025-05-09T00:00:00.000000000",
          "2025-05-10T00:00:00.000000000",
          "2025-05-11T00:00:00.000000000",
          "2025-05-12T00:00:00.000000000",
          "2025-05-13T00:00:00.000000000",
          "2025-05-14T00:00:00.000000000",
          "2025-05-15T00:00:00.000000000",
          "2025-05-16T00:00:00.000000000",
          "2025-05-17T00:00:00.000000000",
          "2025-05-18T00:00:00.000000000",
          "2025-05-19T00:00:00.000000000",
          "2025-05-20T00:00:00.000000000",
          "2025-05-21T00:00:00.000000000",
          "2025-05-22T00:00:00.000000000",
          "2025-05-23T00:00:00.000000000",
          "2025-05-24T00:00:00.000000000",
          "2025-05-25T00:00:00.000000000",
          "2025-05-26T00:00:00.000000000",
          "2025-05-27T00:00:00.000000000",
          "2025-05-28T00:00:00.000000000",
          "2025-05-29T00:00:00.000000000",
          "2025-05-30T00:00:00.000000000",
          "2025-05-31T00:00:00.000000000",
          "2025-06-01T00:00:00.000000000",
          "2025-06-02T00:00:00.000000000",
          "2025-06-03T00:00:00.000000000",
          "2025-06-04T00:00:00.000000000",
          "2025-06-05T00:00:00.000000000",
          "2025-06-06T00:00:00.000000000",
          "2025-06-07T00:00:00.000000000",
          "2025-06-08T00:00:00.000000000",
          "2025-06-09T00:00:00.000000000",
          "2025-06-10T00:00:00.000000000",
          "2025-06-11T00:00:00.000000000",
          "2025-06-12T00:00:00.000000000",
          "2025-06-13T00:00:00.000000000",
          "2025-06-14T00:00:00.000000000",
          "2025-06-15T00:00:00.000000000",
          "2025-06-16T00:00:00.000000000",
          "2025-06-17T00:00:00.000000000",
          "2025-06-18T00:00:00.000000000",
          "2025-06-19T00:00:00.000000000",
          "2025-06-20T00:00:00.000000000",
          "2025-06-21T00:00:00.000000000",
          "2025-06-22T00:00:00.000000000",
          "2025-06-23T00:00:00.000000000",
          "2025-06-24T00:00:00.000000000",
          "2025-06-25T00:00:00.000000000",
          "2025-06-26T00:00:00.000000000",
          "2025-06-27T00:00:00.000000000",
          "2025-06-28T00:00:00.000000000",
          "2025-06-29T00:00:00.000000000",
          "2025-06-30T00:00:00.000000000",
          "2025-07-01T00:00:00.000000000",
          "2025-07-02T00:00:00.000000000",
          "2025-07-03T00:00:00.000000000",
          "2025-07-04T00:00:00.000000000",
          "2025-07-05T00:00:00.000000000",
          "2025-07-06T00:00:00.000000000",
          "2025-07-07T00:00:00.000000000",
          "2025-07-08T00:00:00.000000000",
          "2025-07-09T00:00:00.000000000",
          "2025-07-10T00:00:00.000000000",
          "2025-07-11T00:00:00.000000000",
          "2025-07-12T00:00:00.000000000",
          "2025-07-13T00:00:00.000000000",
          "2025-07-14T00:00:00.000000000",
          "2025-07-15T00:00:00.000000000",
          "2025-07-16T00:00:00.000000000",
          "2025-07-17T00:00:00.000000000",
          "2025-07-18T00:00:00.000000000",
          "2025-07-19T00:00:00.000000000",
          "2025-07-20T00:00:00.000000000",
          "2025-07-21T00:00:00.000000000",
          "2025-07-22T00:00:00.000000000",
          "2025-07-23T00:00:00.000000000"
         ],
         "xaxis": "x",
         "y": {
          "dtype": "f8",
          "bdata": "AAAAAAAAMkAAAAAAAIBFQAAAAAAAAE1AAAAAAAAAR0AAAAAAAABJQAAAAAAAAENAAAAAAACARkAAAAAAAIBOQAAAAAAAAFBAAAAAAAAAPkAAAAAAAABGQAAAAAAAgEJAAAAAAACAQEAAAAAAAAA4QAAAAAAAACpAAAAAAACARUAAAAAAAIBDQAAAAAAAAEBAAAAAAACAQUAAAAAAAIBEQAAAAAAAgEFAAAAAAAAATkAAAAAAAEBQQAAAAAAAgElAAAAAAAAAR0AAAAAAAIBEQAAAAAAAgEhAAAAAAAAARkAAAAAAAABGQAAAAAAAAEpAAAAAAACAR0AAAAAAAABIQAAAAAAAgENAAAAAAAAAQ0AAAAAAAABAQAAAAAAAADZAAAAAAAAAR0AAAAAAAIBKQAAAAAAAgEdAAAAAAACAREAAAAAAAABKQAAAAAAAAD5AAAAAAAAALEAAAAAAAABEQAAAAAAAgEZAAAAAAACASEAAAAAAAABGQAAAAAAAAEZAAAAAAAAAOkAAAAAAAAAuQAAAAAAAAERAAAAAAAAASUAAAAAAAABDQAAAAAAAAEZAAAAAAAAAPUAAAAAAAAAxQAAAAAAAADZAAAAAAAAASEAAAAAAAEBQQAAAAAAAQFRAAAAAAAAATkAAAAAAAIBPQAAAAAAAAEVAAAAAAAAAMUAAAAAAAABEQAAAAAAAAE5AAAAAAAAAUEAAAAAAAABMQAAAAAAAAEFAAAAAAACARkAAAAAAAIBUQAAAAAAAwFFAAAAAAACAUEAAAAAAAIBHQAAAAAAAgEdAAAAAAAAAS0AAAAAAAIBFQAAAAAAAQFBAAAAAAADAUkAAAAAAAAA7QAAAAAAAgERAAAAAAAAAQEAAAAAAAABGQAAAAAAAADlA"
         },
         "yaxis": "y",
         "type": "scatter"
        },
        {
         "hovertemplate": "Ship=S2<br>kind=Forecast<br>Date=%{x}<br>Total Sales=%{y}<extra></extra>",
         "legendgroup": "S2, Forecast",
         "line": {
          "color": "#EF553B",
          "dash": "dot"
         },
         "marker": {
          "symbol": "circle"
         },
         "mode": "lines+markers",
         "name": "S2, Forecast",
         "orientation": "v",
         "showlegend": true,
         "x": [
          "2025-07-24T00:00:00.000000000",
          "2025-07-25T00:00:00.000000000",
          "2025-07-26T00:00:00.000000000",
          "2025-07-27T00:00:00.000000000",
          "2025-07-28T00:00:00.000000000",
          "2025-07-29T00:00:00.000000000",
          "2025-07-30T00:00:00.000000000",
          "2025-07-31T00:00:00.000000000",
          "2025-08-01T00:00:00.000000000",
          "2025-08-02T00:00:00.000000000",
          "2025-08-03T00:00:00.000000000",
          "2025-08-04T00:00:00.000000000",
          "2025-08-05T00:00:00.000000000",
          "2025-08-06T00:00:00.000000000"
         ],
         "xaxis": "x",
         "y": {
          "dtype": "f8",
          "bdata": "AAAAAABAUEAAAAAAAMBSQAAAAAAAADtAAAAAAACAREAAAAAAAABAQAAAAAAAAEZAAAAAAAAAOUAAAAAAAEBQQAAAAAAAwFJAAAAAAAAAO0AAAAAAAIBEQAAAAAAAAEBAAAAAAAAARkAAAAAAAAA5QA=="
         },
         "yaxis": "y",
         "type": "scatter"
        },
        {
         "hovertemplate": "Ship=S3<br>kind=Actual<br>Date=%{x}<br>Total Sales=%{y}<extra></extra>",
         "legendgroup": "S3, Actual",
         "line": {
          "color": "#00cc96",
          "dash": "solid"
         },
         "marker": {
          "symbol": "circle"
         },
         "mode": "lines+markers",
         "name": "S3, Actual",
         "orientation": "v",
         "showlegend": true,
         "x": [
          "2025-05-01T00:00:00.000000000",
          "2025-05-02T00:00:00.000000000",
          "2025-05-03T00:00:00.000000000",
          "2025-05-04T00:00:00.000000000",
          "2025-05-05T00:00:00.000000000",
          "2025-05-06T00:00:00.000000000",
          "2025-05-07T00:00:00.000000000",
          "2025-05-08T00:00:00.000000000",
          "2025-05-09T00:00:00.000000000",
          "2025-05-10T00:00:00.000000000",
          "2025-05-11T00:00:00.000000000",
          "2025-05-12T00:00:00.000000000",
          "2025-05-13T00:00:00.000000000",
          "2025-05-14T00:00:00.000000000",
          "2025-05-15T00:00:00.000000000",
          "2025-05-16T00:00:00.000000000",
          "2025-05-17T00:00:00.000000000",
          "2025-05-18T00:00:00.000000000",
          "2025-05-19T00:00:00.000000000",
          "2025-05-20T00:00:00.000000000",
          "2025-05-21T00:00:00.000000000",
          "2025-05-22T00:00:00.000000000",
          "2025-05-23T00:00:00.000000000",
          "2025-05-24T00:00:00.000000000",
          "2025-05-25T00:00:00.000000000",
          "2025-05-26T00:00:00.000000000",
          "2025-05-27T00:00:00.000000000",
          "2025-05-28T00:00:00.000000000",
          "2025-05-29T00:00:00.000000000",
          "2025-05-30T00:00:00.000000000",
          "2025-05-31T00:00:00.000000000",
          "2025-06-01T00:00:00.000000000",
          "2025-06-02T00:00:00.000000000",
          "2025-06-03T00:00:00.000000000",
          "2025-06-04T00:00:00.000000000",
          "2025-06-05T00:00:00.000000000",
          "2025-06-06T00:00:00.000000000",
          "2025-06-07T00:00:00.000000000",
          "2025-06-08T00:00:00.000000000",
          "2025-06-09T00:00:00.000000000",
          "2025-06-10T00:00:00.000000000",
          "2025-06-11T00:00:00.000000000",
          "2025-06-12T00:00:00.000000000",
          "2025-06-13T00:00:00.000000000",
          "2025-06-14T00:00:00.000000000",
          "2025-06-15T00:00:00.000000000",
          "2025-06-16T00:00:00.000000000",
          "2025-06-17T00:00:00.000000000",
          "2025-06-18T00:00:00.000000000",
          "2025-06-19T00:00:00.000000000",
          "2025-06-20T00:00:00.000000000",
          "2025-06-21T00:00:00.000000000",
          "2025-06-22T00:00:00.000000000",
          "2025-06-23T00:00:00.000000000",
          "2025-06-24T00:00:00.000000000",
          "2025-06-25T00:00:00.000000000",
          "2025-06-26T00:00:00.000000000",
          "2025-06-27T00:00:00.000000000",
          "2025-06-28T00:00:00.000000000",
          "2025-06-29T00:00:00.000000000",
          "2025-06-30T00:00:00.000000000",
          "2025-07-01T00:00:00.000000000",
          "2025-07-02T00:00:00.000000000",
          "2025-07-03T00:00:00.000000000",
          "2025-07-04T00:00:00.000000000",
          "2025-07-05T00:00:00.000000000",
          "2025-07-06T00:00:00.000000000",
          "2025-07-07T00:00:00.000000000",
          "2025-07-08T00:00:00.000000000",
          "2025-07-09T00:00:00.000000000",
          "2025-07-10T00:00:00.000000000",
          "2025-07-11T00:00:00.000000000",
          "2025-07-12T00:00:00.000000000",
          "2025-07-13T00:00:00.000000000",
          "2025-07-14T00:00:00.000000000",
          "2025-07-15T00:00:00.000000000",
          "2025-07-16T00:00:00.000000000",
          "2025-07-17T00:00:00.000000000",
          "2025-07-18T00:00:00.000000000",
          "2025-07-19T00:00:00.000000000",
          "2025-07-20T00:00:00.000000000",
          "2025-07-21T00:00:00.000000000",
          "2025-07-22T00:00:00.000000000",
          "2025-07-23T00:00:00.000000000"
         ],
         "xaxis": "x",
         "y": {
          "dtype": "f8",
          "bdata": "AAAAAAAAIEAAAAAAAABDQAAAAAAAAEpAAAAAAAAARkAAAAAAAABAQAAAAAAAgEJAAAAAAAAAQUAAAAAAAABOQAAAAAAAQFZAAAAAAAAASUAAAAAAAEBRQAAAAAAAAERAAAAAAACARkAAAAAAAIBDQAAAAAAAABxAAAAAAAAAS0AAAAAAAIBCQAAAAAAAgEtAAAAAAAAAQkAAAAAAAABDQAAAAAAAAEhAAAAAAAAASUAAAAAAAEBSQAAAAAAAgE5AAAAAAACAS0AAAAAAAABGQAAAAAAAAEtAAAAAAACASUAAAAAAAABQQAAAAAAAgFFAAAAAAACAQEAAAAAAAABLQAAAAAAAgEVAAAAAAACASEAAAAAAAABLQAAAAAAAgEtAAAAAAAAAUEAAAAAAAABLQAAAAAAAgElAAAAAAACAREAAAAAAAABEQAAAAAAAAERAAAAAAACATkAAAAAAAABQQAAAAAAAAERAAAAAAACARUAAAAAAAABJQAAAAAAAAEtAAAAAAACASEAAAAAAAABJQAAAAAAAAE1AAAAAAADAUkAAAAAAAIBNQAAAAAAAAE1AAAAAAACASEAAAAAAAABCQAAAAAAAAABAAAAAAAAASkAAAAAAAIBLQAAAAAAAAEpAAAAAAACASUAAAAAAAIBKQAAAAAAAAExAAAAAAAAAR0AAAAAAAIBGQAAAAAAAgEhAAAAAAAAASUAAAAAAAABAQAAAAAAAAEFAAAAAAAAAQUAAAAAAAIBOQAAAAAAAQFNAAAAAAAAAS0AAAAAAAIBQQAAAAAAAgE1AAAAAAACASEAAAAAAAABPQAAAAAAAAExAAAAAAAAARkAAAAAAAABIQAAAAAAAgEhAAAAAAACARUAAAAAAAABHQAAAAAAAAEFA"
         },
         "yaxis": "y",
         "type": "scatter"
        },
        {
         "hovertemplate": "Ship=S3<br>kind=Forecast<br>Date=%{x}<br>Total Sales=%{y}<extra></extra>",
         "legendgroup": "S3, Forecast",
         "line": {
          "color": "#00cc96",
          "dash": "dot"
         },
         "marker": {
          "symbol": "circle"
         },
         "mode": "lines+markers",
         "name": "S3, Forecast",
         "orientation": "v",
         "showlegend": true,
         "x": [
          "2025-07-24T00:00:00.000000000",
          "2025-07-25T00:00:00.000000000",
          "2025-07-26T00:00:00.000000000",
          "2025-07-27T00:00:00.000000000",
          "2025-07-28T00:00:00.000000000",
          "2025-07-29T00:00:00.000000000",
          "2025-07-30T00:00:00.000000000",
          "2025-07-31T00:00:00.000000000",
          "2025-08-01T00:00:00.000000000",
          "2025-08-02T00:00:00.000000000",
          "2025-08-03T00:00:00.000000000",
          "2025-08-04T00:00:00.000000000",
          "2025-08-05T00:00:00.000000000",
          "2025-08-06T00:00:00.000000000"
         ],
         "xaxis": "x",
         "y": {
          "dtype": "f8",
          "bdata": "AAAAAAAATEAAAAAAAABGQAAAAAAAAEhAAAAAAACASEAAAAAAAIBFQAAAAAAAAEdAAAAAAAAAQUAAAAAAAABMQAAAAAAAAEZAAAAAAAAASEAAAAAAAIBIQAAAAAAAgEVAAAAAAAAAR0AAAAAAAABBQA=="
         },
         "yaxis": "y",
         "type": "scatter"
        }
       ],
       "layout": {
        "template": {
         "data": {
          "histogram2dcontour": [
           {
            "type": "histogram2dcontour",
            "colorbar": {
             "outlinewidth": 0,
             "ticks": ""
            },
            "colorscale": [
             [
              0.0,
              "#0d0887"
             ],
             [
              0.1111111111111111,
              "#46039f"
             ],
             [
              0.2222222222222222,
              "#7201a8"
             ],
             [
              0.3333333333333333,
              "#9c179e"
             ],
             [
              0.4444444444444444,
              "#bd3786"
             ],
             [
              0.5555555555555556,
              "#d8576b"
             ],
             [
              0.6666666666666666,
              "#ed7953"
             ],
             [
              0.7777777777777778,
              "#fb9f3a"
             ],
             [
              0.8888888888888888,
              "#fdca26"
             ],
             [
              1.0,
              "#f0f921"
             ]
            ]
           }
          ],
          "choropleth": [
           {
            "type": "choropleth",
            "colorbar": {
             "outlinewidth": 0,
             "ticks": ""
            }
           }
          ],
          "histogram2d": [
           {
            "type": "histogram2d",
            "colorbar": {
             "outlinewidth": 0,
             "ticks": ""
            },
            "colorscale": [
             [
              0.0,
              "#0d0887"
             ],
             [
              0.1111111111111111,
              "#46039f"
             ],
             [
              0.2222222222222222,
              "#7201a8"
             ],
             [
              0.3333333333333333,
              "#9c179e"
             ],
             [
              0.4444444444444444,
              "#bd3786"
             ],
             [
              0.5555555555555556,
              "#d8576b"
             ],
             [
              0.6666666666666666,
              "#ed7953"
             ],
             [
              0.7777777777777778,
              "#fb9f3a"
             ],
             [
              0.8888888888888888,
              "#fdca26"
             ],
             [
              1.0,
              "#f0f921"
             ]
            ]
           }
          ],
          "heatmap": [
           {
            "type": "heatmap",
            "colorbar": {
             "outlinewidth": 0,
             "ticks": ""
            },
            "colorscale": [
             [
              0.0,
              "#0d0887"
             ],
             [
              0.1111111111111111,
              "#46039f"
             ],
             [
              0.2222222222222222,
              "#7201a8"
             ],
             [
              0.3333333333333333,
              "#9c179e"
             ],
             [
              0.4444444444444444,
              "#bd3786"
             ],
             [
              0.5555555555555556,
              "#d8576b"
             ],
             [
              0.6666666666666666,
              "#ed7953"
             ],
             [
              0.7777777777777778,
              "#fb9f3a"
             ],
             [
              0.8888888888888888,
              "#fdca26"
             ],
             [
              1.0,
              "#f0f921"
             ]
            ]
           }
          ],
          "contourcarpet": [
           {
            "type": "contourcarpet",
            "colorbar": {
             "outlinewidth": 0,
             "ticks": ""
            }
           }
          ],
          "contour": [
           {
            "type": "contour",
            "colorbar": {
             "outlinewidth": 0,
             "ticks": ""
            },
            "colorscale": [
             [
              0.0,
              "#0d0887"
             ],
             [
              0.1111111111111111,
              "#46039f"
             ],
             [
              0.2222222222222222,
              "#7201a8"
             ],
             [
              0.3333333333333333,
              "#9c179e"
             ],
             [
              0.4444444444444444,
              "#bd3786"
             ],
             [
              0.5555555555555556,
              "#d8576b"
             ],
             [
              0.6666666666666666,
              "#ed7953"
             ],
             [
              0.7777777777777778,
              "#fb9f3a"
             ],
             [
              0.8888888888888888,
              "#fdca26"
             ],
             [
              1.0,
              "#f0f921"
             ]
            ]
           }
          ],
          "surface": [
           {
            "type": "surface",
            "colorbar": {
             "outlinewidth": 0,
             "ticks": ""
            },
            "colorscale": [
             [
              0.0,
              "#0d0887"
             ],
             [
              0.1111111111111111,
              "#46039f"
             ],
             [
              0.2222222222222222,
              "#7201a8"
             ],
             [
              0.3333333333333333,
              "#9c179e"
             ],
             [
              0.4444444444444444,
              "#bd3786"
             ],
             [
              0.5555555555555556,
              "#d8576b"
             ],
             [
              0.6666666666666666,
              "#ed7953"
             ],
             [
              0.7777777777777778,
              "#fb9f3a"
             ],
             [
              0.8888888888888888,
              "#fdca26"
             ],
             [
              1.0,
              "#f0f921"
             ]
            ]
           }
          ],
          "mesh3d": [
           {
            "type": "mesh3d",
            "colorbar": {
             "outlinewidth": 0,
             "ticks": ""
            }
           }
          ],
          "scatter": [
           {
            "marker": {
             "line": {
              "color": "#283442"
             }
            },
            "type": "scatter"
           }
          ],
          "parcoords": [
           {
            "type": "parcoords",
            "line": {
             "colorbar": {
              "outlinewidth": 0,
              "ticks": ""
             }
            }
           }
          ],
          "scatterpolargl": [
           {
            "type": "scatterpolargl",
            "marker": {
             "colorbar": {
              "outlinewidth": 0,
              "ticks": ""
             }
            }
           }
          ],
          "bar": [
           {
            "error_x": {
             "color": "#f2f5fa"
            },
            "error_y": {
             "color": "#f2f5fa"
            },
            "marker": {
             "line": {
              "color": "rgb(17,17,17)",
              "width": 0.5
             },
             "pattern": {
              "fillmode": "overlay",
              "size": 10,
              "solidity": 0.2
             }
            },
            "type": "bar"
           }
          ],
          "scattergeo": [
           {
            "type": "scattergeo",
            "marker": {
             "colorbar": {
              "outlinewidth": 0,
              "ticks": ""
             }
            }
           }
          ],
          "scatterpolar": [
           {
            "type": "scatterpolar",
            "marker": {
             "colorbar": {
              "outlinewidth": 0,
              "ticks": ""
             }
            }
           }
          ],
          "histogram": [
           {
            "marker": {
             "pattern": {
              "fillmode": "overlay",
              "size": 10,
              "solidity": 0.2
             }
            },
            "type": "histogram"
           }
          ],
          "scattergl": [
           {
            "marker": {
             "line": {
              "color": "#283442"
             }
            },
            "type": "scattergl"
           }
          ],
          "scatter3d": [
           {
            "type": "scatter3d",
            "line": {
             "colorbar": {
              "outlinewidth": 0,
              "ticks": ""
             }
            },
            "marker": {
             "colorbar": {
              "outlinewidth": 0,
              "ticks": ""
             }
            }
           }
          ],
          "scattermap": [
           {
            "type": "scattermap",
            "marker": {
             "colorbar": {
              "outlinewidth": 0,
              "ticks": ""
             }
            }
           }
          ],
          "scattermapbox": [
           {
            "type": "scattermapbox",
            "marker": {
             "colorbar": {
              "outlinewidth": 0,
              "ticks": ""
             }
            }
           }
          ],
          "scatterternary": [
           {
            "type": "scatterternary",
            "marker": {
             "colorbar": {
              "outlinewidth": 0,
              "ticks": ""
             }
            }
           }
          ],
          "scattercarpet": [
           {
            "type": "scattercarpet",
            "marker": {
             "colorbar": {
              "outlinewidth": 0,
              "ticks": ""
             }
            }
           }
          ],
          "carpet": [
           {
            "aaxis": {
             "endlinecolor": "#A2B1C6",
             "gridcolor": "#506784",
             "linecolor": "#506784",
             "minorgridcolor": "#506784",
             "startlinecolor": "#A2B1C6"
            },
            "baxis": {
             "endlinecolor": "#A2B1C6",
             "gridcolor": "#506784",
             "linecolor": "#506784",
             "minorgridcolor": "#506784",
             "startlinecolor": "#A2B1C6"
            },
            "type": "carpet"
           }
          ],
          "table": [
           {
            "cells": {
             "fill": {
              "color": "#506784"
             },
             "line": {
              "color": "rgb(17,17,17)"
             }
            },
            "header": {
             "fill": {
              "color": "#2a3f5f"
             },
             "line": {
              "color": "rgb(17,17,17)"
             }
            },
            "type": "table"
           }
          ],
          "barpolar": [
           {
            "marker": {
             "line": {
              "color": "rgb(17,17,17)",
              "width": 0.5
             },
             "pattern": {
              "fillmode": "overlay",
              "size": 10,
              "solidity": 0.2
             }
            },
            "type": "barpolar"
           }
          ],
          "pie": [
           {
            "automargin": true,
            "type": "pie"
           }
          ]
         },
         "layout": {
          "autotypenumbers": "strict",
          "colorway": [
           "#636efa",
           "#EF553B",
           "#00cc96",
           "#ab63fa",
           "#FFA15A",
           "#19d3f3",
           "#FF6692",
           "#B6E880",
           "#FF97FF",
           "#FECB52"
          ],
          "font": {
           "color": "#f2f5fa"
          },
          "hovermode": "closest",
          "hoverlabel": {
           "align": "left"
          },
          "paper_bgcolor": "rgb(17,17,17)",
          "plot_bgcolor": "rgb(17,17,17)",
          "polar": {
           "bgcolor": "rgb(17,17,17)",
           "angularaxis": {
            "gridcolor": "#506784",
            "linecolor": "#506784",
            "ticks": ""
           },
           "radialaxis": {
            "gridcolor": "#506784",
            "linecolor": "#506784",
            "ticks": ""
           }
          },
          "ternary": {
           "bgcolor": "rgb(17,17,17)",
           "aaxis": {
            "gridcolor": "#506784",
            "linecolor": "#506784",
            "ticks": ""
           },
           "baxis": {
            "gridcolor": "#506784",
            "linecolor": "#506784",
            "ticks": ""
           },
           "caxis": {
            "gridcolor": "#506784",
            "linecolor": "#506784",
            "ticks": ""
           }
          },
          "coloraxis": {
           "colorbar": {
            "outlinewidth": 0,
            "ticks": ""
           }
          },
          "colorscale": {
           "sequential": [
            [
             0.0,
             "#0d0887"
            ],
            [
             0.1111111111111111,
             "#46039f"
            ],
            [
             0.2222222222222222,
             "#7201a8"
            ],
            [
             0.3333333333333333,
             "#9c179e"
            ],
            [
             0.4444444444444444,
             "#bd3786"
            ],
            [
             0.5555555555555556,
             "#d8576b"
            ],
            [
             0.6666666666666666,
             "#ed7953"
            ],
            [
             0.7777777777777778,
             "#fb9f3a"
            ],
            [
             0.8888888888888888,
             "#fdca26"
            ],
            [
             1.0,
             "#f0f921"
            ]
           ],
           "sequentialminus": [
            [
             0.0,
             "#0d0887"
            ],
            [
             0.1111111111111111,
             "#46039f"
            ],
            [
             0.2222222222222222,
             "#7201a8"
            ],
            [
             0.3333333333333333,
             "#9c179e"
            ],
            [
             0.4444444444444444,
             "#bd3786"
            ],
            [
             0.5555555555555556,
             "#d8576b"
            ],
            [
             0.6666666666666666,
             "#ed7953"
            ],
            [
             0.7777777777777778,
             "#fb9f3a"
            ],
            [
             0.8888888888888888,
             "#fdca26"
            ],
            [
             1.0,
             "#f0f921"
            ]
           ],
           "diverging": [
            [
             0,
             "#8e0152"
            ],
            [
             0.1,
             "#c51b7d"
            ],
            [
             0.2,
             "#de77ae"
            ],
            [
             0.3,
             "#f1b6da"
            ],
            [
             0.4,
             "#fde0ef"
            ],
            [
             0.5,
             "#f7f7f7"
            ],
            [
             0.6,
             "#e6f5d0"
            ],
            [
             0.7,
             "#b8e186"
            ],
            [
             0.8,
             "#7fbc41"
            ],
            [
             0.9,
             "#4d9221"
            ],
            [
             1,
             "#276419"
            ]
           ]
          },
          "xaxis": {
           "gridcolor": "#283442",
           "linecolor": "#506784",
           "ticks": "",
           "title": {
            "standoff": 15
           },
           "zerolinecolor": "#283442",
           "automargin": true,
           "zerolinewidth": 2
          },
          "yaxis": {
           "gridcolor": "#283442",
           "linecolor": "#506784",
           "ticks": "",
           "title": {
            "standoff": 15
           },
           "zerolinecolor": "#283442",
           "automargin": true,
           "zerolinewidth": 2
          },
          "scene": {
           "xaxis": {
            "backgroundcolor": "rgb(17,17,17)",
            "gridcolor": "#506784",
            "linecolor": "#506784",
            "showbackground": true,
            "ticks": "",
            "zerolinecolor": "#C8D4E3",
            "gridwidth": 2
           },
           "yaxis": {
            "backgroundcolor": "rgb(17,17,17)",
            "gridcolor": "#506784",
            "linecolor": "#506784",
            "showbackground": true,
            "ticks": "",
            "zerolinecolor": "#C8D4E3",
            "gridwidth": 2
           },
           "zaxis": {
            "backgroundcolor": "rgb(17,17,17)",
            "gridcolor": "#506784",
            "linecolor": "#506784",
            "showbackground": true,
            "ticks": "",
            "zerolinecolor": "#C8D4E3",
            "gridwidth": 2
           }
          },
          "shapedefaults": {
           "line": {
            "color": "#f2f5fa"
           }
          },
          "annotationdefaults": {
           "arrowcolor": "#f2f5fa",
           "arrowhead": 0,
           "arrowwidth": 1
          },
          "geo": {
           "bgcolor": "rgb(17,17,17)",
           "landcolor": "rgb(17,17,17)",
           "subunitcolor": "#506784",
           "showland": true,
           "showlakes": true,
           "lakecolor": "rgb(17,17,17)"
          },
          "title": {
           "x": 0.05
          },
          "updatemenudefaults": {
           "bgcolor": "#506784",
           "borderwidth": 0
          },
          "sliderdefaults": {
           "bgcolor": "#C8D4E3",
           "borderwidth": 1,
           "bordercolor": "rgb(17,17,17)",
           "tickwidth": 0
          },
          "mapbox": {
           "style": "dark"
          }
         }
        },
        "xaxis": {
         "anchor": "y",
         "domain": [
          0.0,
          1.0
         ],
         "title": {
          "text": "Date"
         }
        },
        "yaxis": {
         "anchor": "x",
         "domain": [
          0.0,
          1.0
         ],
         "title": {
          "text": "Total Sales"
         }
        },
        "legend": {
         "title": {
          "text": "Ship / Series"
         },
         "tracegroupgap": 0
        },
        "title": {
         "text": "14-Day Forecast per Ship (Manual SARIMAX + DOW exogenous)"
        }
       },
       "config": {
        "plotlyServerURL": "https://plot.ly"
       }
      }
     },
     "metadata": {},
     "output_type": "display_data",
     "jetTransient": {
      "display_id": null
     }
    }
   ],
   "execution_count": 20
  },
  {
   "metadata": {},
   "cell_type": "code",
   "outputs": [],
   "execution_count": null,
   "source": "",
   "id": "69b4c11da28b1381"
  }
 ],
 "metadata": {
  "kernelspec": {
   "display_name": "Python 3",
   "language": "python",
   "name": "python3"
  },
  "language_info": {
   "codemirror_mode": {
    "name": "ipython",
    "version": 2
   },
   "file_extension": ".py",
   "mimetype": "text/x-python",
   "name": "python",
   "nbconvert_exporter": "python",
   "pygments_lexer": "ipython2",
   "version": "2.7.6"
  }
 },
 "nbformat": 4,
 "nbformat_minor": 5
}
